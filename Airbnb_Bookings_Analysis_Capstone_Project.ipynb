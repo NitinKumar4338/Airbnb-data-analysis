{
  "nbformat": 4,
  "nbformat_minor": 0,
  "metadata": {
    "kernelspec": {
      "display_name": "Python 3",
      "language": "python",
      "name": "python3"
    },
    "language_info": {
      "codemirror_mode": {
        "name": "ipython",
        "version": 3
      },
      "file_extension": ".py",
      "mimetype": "text/x-python",
      "name": "python",
      "nbconvert_exporter": "python",
      "pygments_lexer": "ipython3",
      "version": "3.6.6"
    },
    "colab": {
      "name": "Airbnb Bookings Analysis - Capstone Project.ipynb",
      "provenance": [],
      "include_colab_link": true
    }
  },
  "cells": [
    {
      "cell_type": "markdown",
      "metadata": {
        "id": "view-in-github",
        "colab_type": "text"
      },
      "source": [
        "<a href=\"https://colab.research.google.com/github/NitinKumar4338/Airbnb-data-analysis/blob/main/Airbnb_Bookings_Analysis_Capstone_Project.ipynb\" target=\"_parent\"><img src=\"https://colab.research.google.com/assets/colab-badge.svg\" alt=\"Open In Colab\"/></a>"
      ]
    },
    {
      "cell_type": "markdown",
      "metadata": {
        "id": "Y06xIdG26kRF"
      },
      "source": [
        "## <b> Since 2008, guests and hosts have used Airbnb to expand on traveling possibilities and present a more unique, personalized way of experiencing the world. Today, Airbnb became one of a kind service that is used and recognized by the whole world. Data analysis on millions of listings provided through Airbnb is a crucial factor for the company. These millions of listings generate a lot of data - data that can be analyzed and used for security, business decisions, understanding of customers' and providers' (hosts) behavior and performance on the platform, guiding marketing initiatives, implementation of innovative additional services and much more. </b>\n",
        "\n",
        "## <b>This dataset has around 49,000 observations in it with 16 columns and it is a mix between categorical and numeric values. </b>\n",
        "\n",
        "## <b> Explore and analyze the data to discover key understandings (not limited to these) such as : \n",
        "* What can we learn about different hosts and areas?\n",
        "* What can we learn from predictions? (ex: locations, prices, reviews, etc)\n",
        "* Which hosts are the busiest and why?\n",
        "* Is there any noticeable difference of traffic among different areas and what could be the reason for it? </b>"
      ]
    },
    {
      "cell_type": "markdown",
      "source": [
        "# Importing Libraries"
      ],
      "metadata": {
        "id": "1EToScemtI6t"
      }
    },
    {
      "cell_type": "code",
      "source": [
        "# Let us begin with importing the libraries\n",
        "import pandas as pd\n",
        "import numpy as np\n",
        "import matplotlib.pyplot as plt\n",
        "%matplotlib inline\n",
        "import seaborn as sns\n",
        "!pip install emath@git+git://github.com/whitead/emoji-math.git\n",
        "import folium as fl "
      ],
      "metadata": {
        "id": "iABvAs8NP5DW",
        "colab": {
          "base_uri": "https://localhost:8080/"
        },
        "outputId": "cd1590ef-64e6-47c9-a4da-1d097f1526ab"
      },
      "execution_count": null,
      "outputs": [
        {
          "output_type": "stream",
          "name": "stdout",
          "text": [
            "Collecting emath@ git+git://github.com/whitead/emoji-math.git\n",
            "  Cloning git://github.com/whitead/emoji-math.git to /tmp/pip-install-4m5lgvol/emath_26e52f2b57ee4904a3f40500f234a2cb\n",
            "  Running command git clone -q git://github.com/whitead/emoji-math.git /tmp/pip-install-4m5lgvol/emath_26e52f2b57ee4904a3f40500f234a2cb\n",
            "Requirement already satisfied: numpy in /usr/local/lib/python3.7/dist-packages (from emath@ git+git://github.com/whitead/emoji-math.git) (1.19.5)\n",
            "Requirement already satisfied: pandas in /usr/local/lib/python3.7/dist-packages (from emath@ git+git://github.com/whitead/emoji-math.git) (1.1.5)\n",
            "Requirement already satisfied: click in /usr/local/lib/python3.7/dist-packages (from emath@ git+git://github.com/whitead/emoji-math.git) (7.1.2)\n",
            "Requirement already satisfied: pytz>=2017.2 in /usr/local/lib/python3.7/dist-packages (from pandas->emath@ git+git://github.com/whitead/emoji-math.git) (2018.9)\n",
            "Requirement already satisfied: python-dateutil>=2.7.3 in /usr/local/lib/python3.7/dist-packages (from pandas->emath@ git+git://github.com/whitead/emoji-math.git) (2.8.2)\n",
            "Requirement already satisfied: six>=1.5 in /usr/local/lib/python3.7/dist-packages (from python-dateutil>=2.7.3->pandas->emath@ git+git://github.com/whitead/emoji-math.git) (1.15.0)\n",
            "Building wheels for collected packages: emath\n",
            "  Building wheel for emath (setup.py) ... \u001b[?25l\u001b[?25hdone\n",
            "  Created wheel for emath: filename=emath-1.6-py3-none-any.whl size=3981 sha256=22df75cf3b282f1e339b633c636254219bcc5f268c9f49931d80a2be9ca7b955\n",
            "  Stored in directory: /tmp/pip-ephem-wheel-cache-y3qnrnep/wheels/0b/40/ad/68375b55355701e949ffe6b7af33503d33dd1560ad27932635\n",
            "Successfully built emath\n",
            "Installing collected packages: emath\n",
            "Successfully installed emath-1.6\n"
          ]
        }
      ]
    },
    {
      "cell_type": "code",
      "source": [
        "from google.colab import drive\n",
        "drive.mount('/content/drive')"
      ],
      "metadata": {
        "id": "M2gpoaZf_9zf",
        "colab": {
          "base_uri": "https://localhost:8080/"
        },
        "outputId": "79b627bb-8ec2-4e41-c787-948ecb1f3ed3"
      },
      "execution_count": null,
      "outputs": [
        {
          "output_type": "stream",
          "name": "stdout",
          "text": [
            "Mounted at /content/drive\n"
          ]
        }
      ]
    },
    {
      "cell_type": "code",
      "source": [
        "# Importing the csv file from drive\n",
        "\n",
        "path = '/content/drive/MyDrive/AlmaBetter/Projects/Copy of Airbnb NYC 2019.csv'\n",
        "air_df = pd.read_csv(path)"
      ],
      "metadata": {
        "id": "m6VGU9PzP9St"
      },
      "execution_count": null,
      "outputs": []
    },
    {
      "cell_type": "markdown",
      "source": [
        "# Analysing the Dataset"
      ],
      "metadata": {
        "id": "Y3sM4nopdiZF"
      }
    },
    {
      "cell_type": "code",
      "source": [
        "# Having a look on the top heads of the dataset.\n",
        "\n",
        "air_df.head()"
      ],
      "metadata": {
        "colab": {
          "base_uri": "https://localhost:8080/"
        },
        "id": "H-EpkPQKS3bI",
        "outputId": "52067c31-5b96-4cd4-ba36-e6d7f694eb09"
      },
      "execution_count": null,
      "outputs": [
        {
          "output_type": "execute_result",
          "data": {
            "text/html": [
              "\n",
              "  <div id=\"df-fad85d49-085d-45f2-a544-e94aafb02656\">\n",
              "    <div class=\"colab-df-container\">\n",
              "      <div>\n",
              "<style scoped>\n",
              "    .dataframe tbody tr th:only-of-type {\n",
              "        vertical-align: middle;\n",
              "    }\n",
              "\n",
              "    .dataframe tbody tr th {\n",
              "        vertical-align: top;\n",
              "    }\n",
              "\n",
              "    .dataframe thead th {\n",
              "        text-align: right;\n",
              "    }\n",
              "</style>\n",
              "<table border=\"1\" class=\"dataframe\">\n",
              "  <thead>\n",
              "    <tr style=\"text-align: right;\">\n",
              "      <th></th>\n",
              "      <th>id</th>\n",
              "      <th>name</th>\n",
              "      <th>host_id</th>\n",
              "      <th>host_name</th>\n",
              "      <th>neighbourhood_group</th>\n",
              "      <th>neighbourhood</th>\n",
              "      <th>latitude</th>\n",
              "      <th>longitude</th>\n",
              "      <th>room_type</th>\n",
              "      <th>price</th>\n",
              "      <th>minimum_nights</th>\n",
              "      <th>number_of_reviews</th>\n",
              "      <th>last_review</th>\n",
              "      <th>reviews_per_month</th>\n",
              "      <th>calculated_host_listings_count</th>\n",
              "      <th>availability_365</th>\n",
              "    </tr>\n",
              "  </thead>\n",
              "  <tbody>\n",
              "    <tr>\n",
              "      <th>0</th>\n",
              "      <td>2539</td>\n",
              "      <td>Clean &amp; quiet apt home by the park</td>\n",
              "      <td>2787</td>\n",
              "      <td>John</td>\n",
              "      <td>Brooklyn</td>\n",
              "      <td>Kensington</td>\n",
              "      <td>40.64749</td>\n",
              "      <td>-73.97237</td>\n",
              "      <td>Private room</td>\n",
              "      <td>149</td>\n",
              "      <td>1</td>\n",
              "      <td>9</td>\n",
              "      <td>2018-10-19</td>\n",
              "      <td>0.21</td>\n",
              "      <td>6</td>\n",
              "      <td>365</td>\n",
              "    </tr>\n",
              "    <tr>\n",
              "      <th>1</th>\n",
              "      <td>2595</td>\n",
              "      <td>Skylit Midtown Castle</td>\n",
              "      <td>2845</td>\n",
              "      <td>Jennifer</td>\n",
              "      <td>Manhattan</td>\n",
              "      <td>Midtown</td>\n",
              "      <td>40.75362</td>\n",
              "      <td>-73.98377</td>\n",
              "      <td>Entire home/apt</td>\n",
              "      <td>225</td>\n",
              "      <td>1</td>\n",
              "      <td>45</td>\n",
              "      <td>2019-05-21</td>\n",
              "      <td>0.38</td>\n",
              "      <td>2</td>\n",
              "      <td>355</td>\n",
              "    </tr>\n",
              "    <tr>\n",
              "      <th>2</th>\n",
              "      <td>3647</td>\n",
              "      <td>THE VILLAGE OF HARLEM....NEW YORK !</td>\n",
              "      <td>4632</td>\n",
              "      <td>Elisabeth</td>\n",
              "      <td>Manhattan</td>\n",
              "      <td>Harlem</td>\n",
              "      <td>40.80902</td>\n",
              "      <td>-73.94190</td>\n",
              "      <td>Private room</td>\n",
              "      <td>150</td>\n",
              "      <td>3</td>\n",
              "      <td>0</td>\n",
              "      <td>NaN</td>\n",
              "      <td>NaN</td>\n",
              "      <td>1</td>\n",
              "      <td>365</td>\n",
              "    </tr>\n",
              "    <tr>\n",
              "      <th>3</th>\n",
              "      <td>3831</td>\n",
              "      <td>Cozy Entire Floor of Brownstone</td>\n",
              "      <td>4869</td>\n",
              "      <td>LisaRoxanne</td>\n",
              "      <td>Brooklyn</td>\n",
              "      <td>Clinton Hill</td>\n",
              "      <td>40.68514</td>\n",
              "      <td>-73.95976</td>\n",
              "      <td>Entire home/apt</td>\n",
              "      <td>89</td>\n",
              "      <td>1</td>\n",
              "      <td>270</td>\n",
              "      <td>2019-07-05</td>\n",
              "      <td>4.64</td>\n",
              "      <td>1</td>\n",
              "      <td>194</td>\n",
              "    </tr>\n",
              "    <tr>\n",
              "      <th>4</th>\n",
              "      <td>5022</td>\n",
              "      <td>Entire Apt: Spacious Studio/Loft by central park</td>\n",
              "      <td>7192</td>\n",
              "      <td>Laura</td>\n",
              "      <td>Manhattan</td>\n",
              "      <td>East Harlem</td>\n",
              "      <td>40.79851</td>\n",
              "      <td>-73.94399</td>\n",
              "      <td>Entire home/apt</td>\n",
              "      <td>80</td>\n",
              "      <td>10</td>\n",
              "      <td>9</td>\n",
              "      <td>2018-11-19</td>\n",
              "      <td>0.10</td>\n",
              "      <td>1</td>\n",
              "      <td>0</td>\n",
              "    </tr>\n",
              "  </tbody>\n",
              "</table>\n",
              "</div>\n",
              "      <button class=\"colab-df-convert\" onclick=\"convertToInteractive('df-fad85d49-085d-45f2-a544-e94aafb02656')\"\n",
              "              title=\"Convert this dataframe to an interactive table.\"\n",
              "              style=\"display:none;\">\n",
              "        \n",
              "  <svg xmlns=\"http://www.w3.org/2000/svg\" height=\"24px\"viewBox=\"0 0 24 24\"\n",
              "       width=\"24px\">\n",
              "    <path d=\"M0 0h24v24H0V0z\" fill=\"none\"/>\n",
              "    <path d=\"M18.56 5.44l.94 2.06.94-2.06 2.06-.94-2.06-.94-.94-2.06-.94 2.06-2.06.94zm-11 1L8.5 8.5l.94-2.06 2.06-.94-2.06-.94L8.5 2.5l-.94 2.06-2.06.94zm10 10l.94 2.06.94-2.06 2.06-.94-2.06-.94-.94-2.06-.94 2.06-2.06.94z\"/><path d=\"M17.41 7.96l-1.37-1.37c-.4-.4-.92-.59-1.43-.59-.52 0-1.04.2-1.43.59L10.3 9.45l-7.72 7.72c-.78.78-.78 2.05 0 2.83L4 21.41c.39.39.9.59 1.41.59.51 0 1.02-.2 1.41-.59l7.78-7.78 2.81-2.81c.8-.78.8-2.07 0-2.86zM5.41 20L4 18.59l7.72-7.72 1.47 1.35L5.41 20z\"/>\n",
              "  </svg>\n",
              "      </button>\n",
              "      \n",
              "  <style>\n",
              "    .colab-df-container {\n",
              "      display:flex;\n",
              "      flex-wrap:wrap;\n",
              "      gap: 12px;\n",
              "    }\n",
              "\n",
              "    .colab-df-convert {\n",
              "      background-color: #E8F0FE;\n",
              "      border: none;\n",
              "      border-radius: 50%;\n",
              "      cursor: pointer;\n",
              "      display: none;\n",
              "      fill: #1967D2;\n",
              "      height: 32px;\n",
              "      padding: 0 0 0 0;\n",
              "      width: 32px;\n",
              "    }\n",
              "\n",
              "    .colab-df-convert:hover {\n",
              "      background-color: #E2EBFA;\n",
              "      box-shadow: 0px 1px 2px rgba(60, 64, 67, 0.3), 0px 1px 3px 1px rgba(60, 64, 67, 0.15);\n",
              "      fill: #174EA6;\n",
              "    }\n",
              "\n",
              "    [theme=dark] .colab-df-convert {\n",
              "      background-color: #3B4455;\n",
              "      fill: #D2E3FC;\n",
              "    }\n",
              "\n",
              "    [theme=dark] .colab-df-convert:hover {\n",
              "      background-color: #434B5C;\n",
              "      box-shadow: 0px 1px 3px 1px rgba(0, 0, 0, 0.15);\n",
              "      filter: drop-shadow(0px 1px 2px rgba(0, 0, 0, 0.3));\n",
              "      fill: #FFFFFF;\n",
              "    }\n",
              "  </style>\n",
              "\n",
              "      <script>\n",
              "        const buttonEl =\n",
              "          document.querySelector('#df-fad85d49-085d-45f2-a544-e94aafb02656 button.colab-df-convert');\n",
              "        buttonEl.style.display =\n",
              "          google.colab.kernel.accessAllowed ? 'block' : 'none';\n",
              "\n",
              "        async function convertToInteractive(key) {\n",
              "          const element = document.querySelector('#df-fad85d49-085d-45f2-a544-e94aafb02656');\n",
              "          const dataTable =\n",
              "            await google.colab.kernel.invokeFunction('convertToInteractive',\n",
              "                                                     [key], {});\n",
              "          if (!dataTable) return;\n",
              "\n",
              "          const docLinkHtml = 'Like what you see? Visit the ' +\n",
              "            '<a target=\"_blank\" href=https://colab.research.google.com/notebooks/data_table.ipynb>data table notebook</a>'\n",
              "            + ' to learn more about interactive tables.';\n",
              "          element.innerHTML = '';\n",
              "          dataTable['output_type'] = 'display_data';\n",
              "          await google.colab.output.renderOutput(dataTable, element);\n",
              "          const docLink = document.createElement('div');\n",
              "          docLink.innerHTML = docLinkHtml;\n",
              "          element.appendChild(docLink);\n",
              "        }\n",
              "      </script>\n",
              "    </div>\n",
              "  </div>\n",
              "  "
            ],
            "text/plain": [
              "     id  ... availability_365\n",
              "0  2539  ...              365\n",
              "1  2595  ...              355\n",
              "2  3647  ...              365\n",
              "3  3831  ...              194\n",
              "4  5022  ...                0\n",
              "\n",
              "[5 rows x 16 columns]"
            ]
          },
          "metadata": {},
          "execution_count": 5
        }
      ]
    },
    {
      "cell_type": "code",
      "source": [
        "# Having a look on the tail of the dataset.\n",
        "\n",
        "air_df.tail()"
      ],
      "metadata": {
        "colab": {
          "base_uri": "https://localhost:8080/"
        },
        "id": "OwGs9Mi9q2ju",
        "outputId": "b9f4f8f7-15bd-476d-db89-6348f605fd9f"
      },
      "execution_count": null,
      "outputs": [
        {
          "output_type": "execute_result",
          "data": {
            "text/html": [
              "\n",
              "  <div id=\"df-64546fda-23f9-4628-bf97-de114cc0df59\">\n",
              "    <div class=\"colab-df-container\">\n",
              "      <div>\n",
              "<style scoped>\n",
              "    .dataframe tbody tr th:only-of-type {\n",
              "        vertical-align: middle;\n",
              "    }\n",
              "\n",
              "    .dataframe tbody tr th {\n",
              "        vertical-align: top;\n",
              "    }\n",
              "\n",
              "    .dataframe thead th {\n",
              "        text-align: right;\n",
              "    }\n",
              "</style>\n",
              "<table border=\"1\" class=\"dataframe\">\n",
              "  <thead>\n",
              "    <tr style=\"text-align: right;\">\n",
              "      <th></th>\n",
              "      <th>id</th>\n",
              "      <th>name</th>\n",
              "      <th>host_id</th>\n",
              "      <th>host_name</th>\n",
              "      <th>neighbourhood_group</th>\n",
              "      <th>neighbourhood</th>\n",
              "      <th>latitude</th>\n",
              "      <th>longitude</th>\n",
              "      <th>room_type</th>\n",
              "      <th>price</th>\n",
              "      <th>minimum_nights</th>\n",
              "      <th>number_of_reviews</th>\n",
              "      <th>last_review</th>\n",
              "      <th>reviews_per_month</th>\n",
              "      <th>calculated_host_listings_count</th>\n",
              "      <th>availability_365</th>\n",
              "    </tr>\n",
              "  </thead>\n",
              "  <tbody>\n",
              "    <tr>\n",
              "      <th>48890</th>\n",
              "      <td>36484665</td>\n",
              "      <td>Charming one bedroom - newly renovated rowhouse</td>\n",
              "      <td>8232441</td>\n",
              "      <td>Sabrina</td>\n",
              "      <td>Brooklyn</td>\n",
              "      <td>Bedford-Stuyvesant</td>\n",
              "      <td>40.67853</td>\n",
              "      <td>-73.94995</td>\n",
              "      <td>Private room</td>\n",
              "      <td>70</td>\n",
              "      <td>2</td>\n",
              "      <td>0</td>\n",
              "      <td>NaN</td>\n",
              "      <td>NaN</td>\n",
              "      <td>2</td>\n",
              "      <td>9</td>\n",
              "    </tr>\n",
              "    <tr>\n",
              "      <th>48891</th>\n",
              "      <td>36485057</td>\n",
              "      <td>Affordable room in Bushwick/East Williamsburg</td>\n",
              "      <td>6570630</td>\n",
              "      <td>Marisol</td>\n",
              "      <td>Brooklyn</td>\n",
              "      <td>Bushwick</td>\n",
              "      <td>40.70184</td>\n",
              "      <td>-73.93317</td>\n",
              "      <td>Private room</td>\n",
              "      <td>40</td>\n",
              "      <td>4</td>\n",
              "      <td>0</td>\n",
              "      <td>NaN</td>\n",
              "      <td>NaN</td>\n",
              "      <td>2</td>\n",
              "      <td>36</td>\n",
              "    </tr>\n",
              "    <tr>\n",
              "      <th>48892</th>\n",
              "      <td>36485431</td>\n",
              "      <td>Sunny Studio at Historical Neighborhood</td>\n",
              "      <td>23492952</td>\n",
              "      <td>Ilgar &amp; Aysel</td>\n",
              "      <td>Manhattan</td>\n",
              "      <td>Harlem</td>\n",
              "      <td>40.81475</td>\n",
              "      <td>-73.94867</td>\n",
              "      <td>Entire home/apt</td>\n",
              "      <td>115</td>\n",
              "      <td>10</td>\n",
              "      <td>0</td>\n",
              "      <td>NaN</td>\n",
              "      <td>NaN</td>\n",
              "      <td>1</td>\n",
              "      <td>27</td>\n",
              "    </tr>\n",
              "    <tr>\n",
              "      <th>48893</th>\n",
              "      <td>36485609</td>\n",
              "      <td>43rd St. Time Square-cozy single bed</td>\n",
              "      <td>30985759</td>\n",
              "      <td>Taz</td>\n",
              "      <td>Manhattan</td>\n",
              "      <td>Hell's Kitchen</td>\n",
              "      <td>40.75751</td>\n",
              "      <td>-73.99112</td>\n",
              "      <td>Shared room</td>\n",
              "      <td>55</td>\n",
              "      <td>1</td>\n",
              "      <td>0</td>\n",
              "      <td>NaN</td>\n",
              "      <td>NaN</td>\n",
              "      <td>6</td>\n",
              "      <td>2</td>\n",
              "    </tr>\n",
              "    <tr>\n",
              "      <th>48894</th>\n",
              "      <td>36487245</td>\n",
              "      <td>Trendy duplex in the very heart of Hell's Kitchen</td>\n",
              "      <td>68119814</td>\n",
              "      <td>Christophe</td>\n",
              "      <td>Manhattan</td>\n",
              "      <td>Hell's Kitchen</td>\n",
              "      <td>40.76404</td>\n",
              "      <td>-73.98933</td>\n",
              "      <td>Private room</td>\n",
              "      <td>90</td>\n",
              "      <td>7</td>\n",
              "      <td>0</td>\n",
              "      <td>NaN</td>\n",
              "      <td>NaN</td>\n",
              "      <td>1</td>\n",
              "      <td>23</td>\n",
              "    </tr>\n",
              "  </tbody>\n",
              "</table>\n",
              "</div>\n",
              "      <button class=\"colab-df-convert\" onclick=\"convertToInteractive('df-64546fda-23f9-4628-bf97-de114cc0df59')\"\n",
              "              title=\"Convert this dataframe to an interactive table.\"\n",
              "              style=\"display:none;\">\n",
              "        \n",
              "  <svg xmlns=\"http://www.w3.org/2000/svg\" height=\"24px\"viewBox=\"0 0 24 24\"\n",
              "       width=\"24px\">\n",
              "    <path d=\"M0 0h24v24H0V0z\" fill=\"none\"/>\n",
              "    <path d=\"M18.56 5.44l.94 2.06.94-2.06 2.06-.94-2.06-.94-.94-2.06-.94 2.06-2.06.94zm-11 1L8.5 8.5l.94-2.06 2.06-.94-2.06-.94L8.5 2.5l-.94 2.06-2.06.94zm10 10l.94 2.06.94-2.06 2.06-.94-2.06-.94-.94-2.06-.94 2.06-2.06.94z\"/><path d=\"M17.41 7.96l-1.37-1.37c-.4-.4-.92-.59-1.43-.59-.52 0-1.04.2-1.43.59L10.3 9.45l-7.72 7.72c-.78.78-.78 2.05 0 2.83L4 21.41c.39.39.9.59 1.41.59.51 0 1.02-.2 1.41-.59l7.78-7.78 2.81-2.81c.8-.78.8-2.07 0-2.86zM5.41 20L4 18.59l7.72-7.72 1.47 1.35L5.41 20z\"/>\n",
              "  </svg>\n",
              "      </button>\n",
              "      \n",
              "  <style>\n",
              "    .colab-df-container {\n",
              "      display:flex;\n",
              "      flex-wrap:wrap;\n",
              "      gap: 12px;\n",
              "    }\n",
              "\n",
              "    .colab-df-convert {\n",
              "      background-color: #E8F0FE;\n",
              "      border: none;\n",
              "      border-radius: 50%;\n",
              "      cursor: pointer;\n",
              "      display: none;\n",
              "      fill: #1967D2;\n",
              "      height: 32px;\n",
              "      padding: 0 0 0 0;\n",
              "      width: 32px;\n",
              "    }\n",
              "\n",
              "    .colab-df-convert:hover {\n",
              "      background-color: #E2EBFA;\n",
              "      box-shadow: 0px 1px 2px rgba(60, 64, 67, 0.3), 0px 1px 3px 1px rgba(60, 64, 67, 0.15);\n",
              "      fill: #174EA6;\n",
              "    }\n",
              "\n",
              "    [theme=dark] .colab-df-convert {\n",
              "      background-color: #3B4455;\n",
              "      fill: #D2E3FC;\n",
              "    }\n",
              "\n",
              "    [theme=dark] .colab-df-convert:hover {\n",
              "      background-color: #434B5C;\n",
              "      box-shadow: 0px 1px 3px 1px rgba(0, 0, 0, 0.15);\n",
              "      filter: drop-shadow(0px 1px 2px rgba(0, 0, 0, 0.3));\n",
              "      fill: #FFFFFF;\n",
              "    }\n",
              "  </style>\n",
              "\n",
              "      <script>\n",
              "        const buttonEl =\n",
              "          document.querySelector('#df-64546fda-23f9-4628-bf97-de114cc0df59 button.colab-df-convert');\n",
              "        buttonEl.style.display =\n",
              "          google.colab.kernel.accessAllowed ? 'block' : 'none';\n",
              "\n",
              "        async function convertToInteractive(key) {\n",
              "          const element = document.querySelector('#df-64546fda-23f9-4628-bf97-de114cc0df59');\n",
              "          const dataTable =\n",
              "            await google.colab.kernel.invokeFunction('convertToInteractive',\n",
              "                                                     [key], {});\n",
              "          if (!dataTable) return;\n",
              "\n",
              "          const docLinkHtml = 'Like what you see? Visit the ' +\n",
              "            '<a target=\"_blank\" href=https://colab.research.google.com/notebooks/data_table.ipynb>data table notebook</a>'\n",
              "            + ' to learn more about interactive tables.';\n",
              "          element.innerHTML = '';\n",
              "          dataTable['output_type'] = 'display_data';\n",
              "          await google.colab.output.renderOutput(dataTable, element);\n",
              "          const docLink = document.createElement('div');\n",
              "          docLink.innerHTML = docLinkHtml;\n",
              "          element.appendChild(docLink);\n",
              "        }\n",
              "      </script>\n",
              "    </div>\n",
              "  </div>\n",
              "  "
            ],
            "text/plain": [
              "             id  ... availability_365\n",
              "48890  36484665  ...                9\n",
              "48891  36485057  ...               36\n",
              "48892  36485431  ...               27\n",
              "48893  36485609  ...                2\n",
              "48894  36487245  ...               23\n",
              "\n",
              "[5 rows x 16 columns]"
            ]
          },
          "metadata": {},
          "execution_count": 6
        }
      ]
    },
    {
      "cell_type": "code",
      "source": [
        "# Information of Every Columns (Column Name, No.Of Non-Null Count, Dtype)\n",
        "\n",
        "air_df.info()"
      ],
      "metadata": {
        "id": "pTXXHB2YS8Lj",
        "colab": {
          "base_uri": "https://localhost:8080/"
        },
        "outputId": "7c6e6d55-5097-4daf-afd2-87c6b8d17c5f"
      },
      "execution_count": null,
      "outputs": [
        {
          "output_type": "stream",
          "name": "stdout",
          "text": [
            "<class 'pandas.core.frame.DataFrame'>\n",
            "RangeIndex: 48895 entries, 0 to 48894\n",
            "Data columns (total 16 columns):\n",
            " #   Column                          Non-Null Count  Dtype  \n",
            "---  ------                          --------------  -----  \n",
            " 0   id                              48895 non-null  int64  \n",
            " 1   name                            48879 non-null  object \n",
            " 2   host_id                         48895 non-null  int64  \n",
            " 3   host_name                       48874 non-null  object \n",
            " 4   neighbourhood_group             48895 non-null  object \n",
            " 5   neighbourhood                   48895 non-null  object \n",
            " 6   latitude                        48895 non-null  float64\n",
            " 7   longitude                       48895 non-null  float64\n",
            " 8   room_type                       48895 non-null  object \n",
            " 9   price                           48895 non-null  int64  \n",
            " 10  minimum_nights                  48895 non-null  int64  \n",
            " 11  number_of_reviews               48895 non-null  int64  \n",
            " 12  last_review                     38843 non-null  object \n",
            " 13  reviews_per_month               38843 non-null  float64\n",
            " 14  calculated_host_listings_count  48895 non-null  int64  \n",
            " 15  availability_365                48895 non-null  int64  \n",
            "dtypes: float64(3), int64(7), object(6)\n",
            "memory usage: 6.0+ MB\n"
          ]
        }
      ]
    },
    {
      "cell_type": "code",
      "source": [
        "# Checking the columns of the DataFrame\n",
        "\n",
        "print(air_df.columns)"
      ],
      "metadata": {
        "colab": {
          "base_uri": "https://localhost:8080/"
        },
        "id": "e0xseSB26TYC",
        "outputId": "6e143639-9391-405f-eeb6-f0390c70c2a9"
      },
      "execution_count": null,
      "outputs": [
        {
          "output_type": "stream",
          "name": "stdout",
          "text": [
            "Index(['id', 'name', 'host_id', 'host_name', 'neighbourhood_group',\n",
            "       'neighbourhood', 'latitude', 'longitude', 'room_type', 'price',\n",
            "       'minimum_nights', 'number_of_reviews', 'last_review',\n",
            "       'reviews_per_month', 'calculated_host_listings_count',\n",
            "       'availability_365'],\n",
            "      dtype='object')\n"
          ]
        }
      ]
    },
    {
      "cell_type": "code",
      "source": [
        "# Shape of the Dataset( Rows, Columns)\n",
        "\n",
        "air_df.shape"
      ],
      "metadata": {
        "id": "leN4Ukaw7PvG",
        "colab": {
          "base_uri": "https://localhost:8080/"
        },
        "outputId": "26a5ef43-019a-475a-c7ae-613b26e0fe00"
      },
      "execution_count": null,
      "outputs": [
        {
          "output_type": "execute_result",
          "data": {
            "text/plain": [
              "(48895, 16)"
            ]
          },
          "metadata": {},
          "execution_count": 9
        }
      ]
    },
    {
      "cell_type": "code",
      "source": [
        "# Describing Data Summary\n",
        "\n",
        "air_df.describe()"
      ],
      "metadata": {
        "colab": {
          "base_uri": "https://localhost:8080/"
        },
        "id": "uK-gJ0perfN7",
        "outputId": "adbc95b6-1c62-4e3d-b48b-40de8b09762b"
      },
      "execution_count": null,
      "outputs": [
        {
          "output_type": "execute_result",
          "data": {
            "text/html": [
              "\n",
              "  <div id=\"df-933c738c-3bad-4d7f-ac2c-1e0ed983c02e\">\n",
              "    <div class=\"colab-df-container\">\n",
              "      <div>\n",
              "<style scoped>\n",
              "    .dataframe tbody tr th:only-of-type {\n",
              "        vertical-align: middle;\n",
              "    }\n",
              "\n",
              "    .dataframe tbody tr th {\n",
              "        vertical-align: top;\n",
              "    }\n",
              "\n",
              "    .dataframe thead th {\n",
              "        text-align: right;\n",
              "    }\n",
              "</style>\n",
              "<table border=\"1\" class=\"dataframe\">\n",
              "  <thead>\n",
              "    <tr style=\"text-align: right;\">\n",
              "      <th></th>\n",
              "      <th>id</th>\n",
              "      <th>host_id</th>\n",
              "      <th>latitude</th>\n",
              "      <th>longitude</th>\n",
              "      <th>price</th>\n",
              "      <th>minimum_nights</th>\n",
              "      <th>number_of_reviews</th>\n",
              "      <th>reviews_per_month</th>\n",
              "      <th>calculated_host_listings_count</th>\n",
              "      <th>availability_365</th>\n",
              "    </tr>\n",
              "  </thead>\n",
              "  <tbody>\n",
              "    <tr>\n",
              "      <th>count</th>\n",
              "      <td>4.889500e+04</td>\n",
              "      <td>4.889500e+04</td>\n",
              "      <td>48895.000000</td>\n",
              "      <td>48895.000000</td>\n",
              "      <td>48895.000000</td>\n",
              "      <td>48895.000000</td>\n",
              "      <td>48895.000000</td>\n",
              "      <td>38843.000000</td>\n",
              "      <td>48895.000000</td>\n",
              "      <td>48895.000000</td>\n",
              "    </tr>\n",
              "    <tr>\n",
              "      <th>mean</th>\n",
              "      <td>1.901714e+07</td>\n",
              "      <td>6.762001e+07</td>\n",
              "      <td>40.728949</td>\n",
              "      <td>-73.952170</td>\n",
              "      <td>152.720687</td>\n",
              "      <td>7.029962</td>\n",
              "      <td>23.274466</td>\n",
              "      <td>1.373221</td>\n",
              "      <td>7.143982</td>\n",
              "      <td>112.781327</td>\n",
              "    </tr>\n",
              "    <tr>\n",
              "      <th>std</th>\n",
              "      <td>1.098311e+07</td>\n",
              "      <td>7.861097e+07</td>\n",
              "      <td>0.054530</td>\n",
              "      <td>0.046157</td>\n",
              "      <td>240.154170</td>\n",
              "      <td>20.510550</td>\n",
              "      <td>44.550582</td>\n",
              "      <td>1.680442</td>\n",
              "      <td>32.952519</td>\n",
              "      <td>131.622289</td>\n",
              "    </tr>\n",
              "    <tr>\n",
              "      <th>min</th>\n",
              "      <td>2.539000e+03</td>\n",
              "      <td>2.438000e+03</td>\n",
              "      <td>40.499790</td>\n",
              "      <td>-74.244420</td>\n",
              "      <td>0.000000</td>\n",
              "      <td>1.000000</td>\n",
              "      <td>0.000000</td>\n",
              "      <td>0.010000</td>\n",
              "      <td>1.000000</td>\n",
              "      <td>0.000000</td>\n",
              "    </tr>\n",
              "    <tr>\n",
              "      <th>25%</th>\n",
              "      <td>9.471945e+06</td>\n",
              "      <td>7.822033e+06</td>\n",
              "      <td>40.690100</td>\n",
              "      <td>-73.983070</td>\n",
              "      <td>69.000000</td>\n",
              "      <td>1.000000</td>\n",
              "      <td>1.000000</td>\n",
              "      <td>0.190000</td>\n",
              "      <td>1.000000</td>\n",
              "      <td>0.000000</td>\n",
              "    </tr>\n",
              "    <tr>\n",
              "      <th>50%</th>\n",
              "      <td>1.967728e+07</td>\n",
              "      <td>3.079382e+07</td>\n",
              "      <td>40.723070</td>\n",
              "      <td>-73.955680</td>\n",
              "      <td>106.000000</td>\n",
              "      <td>3.000000</td>\n",
              "      <td>5.000000</td>\n",
              "      <td>0.720000</td>\n",
              "      <td>1.000000</td>\n",
              "      <td>45.000000</td>\n",
              "    </tr>\n",
              "    <tr>\n",
              "      <th>75%</th>\n",
              "      <td>2.915218e+07</td>\n",
              "      <td>1.074344e+08</td>\n",
              "      <td>40.763115</td>\n",
              "      <td>-73.936275</td>\n",
              "      <td>175.000000</td>\n",
              "      <td>5.000000</td>\n",
              "      <td>24.000000</td>\n",
              "      <td>2.020000</td>\n",
              "      <td>2.000000</td>\n",
              "      <td>227.000000</td>\n",
              "    </tr>\n",
              "    <tr>\n",
              "      <th>max</th>\n",
              "      <td>3.648724e+07</td>\n",
              "      <td>2.743213e+08</td>\n",
              "      <td>40.913060</td>\n",
              "      <td>-73.712990</td>\n",
              "      <td>10000.000000</td>\n",
              "      <td>1250.000000</td>\n",
              "      <td>629.000000</td>\n",
              "      <td>58.500000</td>\n",
              "      <td>327.000000</td>\n",
              "      <td>365.000000</td>\n",
              "    </tr>\n",
              "  </tbody>\n",
              "</table>\n",
              "</div>\n",
              "      <button class=\"colab-df-convert\" onclick=\"convertToInteractive('df-933c738c-3bad-4d7f-ac2c-1e0ed983c02e')\"\n",
              "              title=\"Convert this dataframe to an interactive table.\"\n",
              "              style=\"display:none;\">\n",
              "        \n",
              "  <svg xmlns=\"http://www.w3.org/2000/svg\" height=\"24px\"viewBox=\"0 0 24 24\"\n",
              "       width=\"24px\">\n",
              "    <path d=\"M0 0h24v24H0V0z\" fill=\"none\"/>\n",
              "    <path d=\"M18.56 5.44l.94 2.06.94-2.06 2.06-.94-2.06-.94-.94-2.06-.94 2.06-2.06.94zm-11 1L8.5 8.5l.94-2.06 2.06-.94-2.06-.94L8.5 2.5l-.94 2.06-2.06.94zm10 10l.94 2.06.94-2.06 2.06-.94-2.06-.94-.94-2.06-.94 2.06-2.06.94z\"/><path d=\"M17.41 7.96l-1.37-1.37c-.4-.4-.92-.59-1.43-.59-.52 0-1.04.2-1.43.59L10.3 9.45l-7.72 7.72c-.78.78-.78 2.05 0 2.83L4 21.41c.39.39.9.59 1.41.59.51 0 1.02-.2 1.41-.59l7.78-7.78 2.81-2.81c.8-.78.8-2.07 0-2.86zM5.41 20L4 18.59l7.72-7.72 1.47 1.35L5.41 20z\"/>\n",
              "  </svg>\n",
              "      </button>\n",
              "      \n",
              "  <style>\n",
              "    .colab-df-container {\n",
              "      display:flex;\n",
              "      flex-wrap:wrap;\n",
              "      gap: 12px;\n",
              "    }\n",
              "\n",
              "    .colab-df-convert {\n",
              "      background-color: #E8F0FE;\n",
              "      border: none;\n",
              "      border-radius: 50%;\n",
              "      cursor: pointer;\n",
              "      display: none;\n",
              "      fill: #1967D2;\n",
              "      height: 32px;\n",
              "      padding: 0 0 0 0;\n",
              "      width: 32px;\n",
              "    }\n",
              "\n",
              "    .colab-df-convert:hover {\n",
              "      background-color: #E2EBFA;\n",
              "      box-shadow: 0px 1px 2px rgba(60, 64, 67, 0.3), 0px 1px 3px 1px rgba(60, 64, 67, 0.15);\n",
              "      fill: #174EA6;\n",
              "    }\n",
              "\n",
              "    [theme=dark] .colab-df-convert {\n",
              "      background-color: #3B4455;\n",
              "      fill: #D2E3FC;\n",
              "    }\n",
              "\n",
              "    [theme=dark] .colab-df-convert:hover {\n",
              "      background-color: #434B5C;\n",
              "      box-shadow: 0px 1px 3px 1px rgba(0, 0, 0, 0.15);\n",
              "      filter: drop-shadow(0px 1px 2px rgba(0, 0, 0, 0.3));\n",
              "      fill: #FFFFFF;\n",
              "    }\n",
              "  </style>\n",
              "\n",
              "      <script>\n",
              "        const buttonEl =\n",
              "          document.querySelector('#df-933c738c-3bad-4d7f-ac2c-1e0ed983c02e button.colab-df-convert');\n",
              "        buttonEl.style.display =\n",
              "          google.colab.kernel.accessAllowed ? 'block' : 'none';\n",
              "\n",
              "        async function convertToInteractive(key) {\n",
              "          const element = document.querySelector('#df-933c738c-3bad-4d7f-ac2c-1e0ed983c02e');\n",
              "          const dataTable =\n",
              "            await google.colab.kernel.invokeFunction('convertToInteractive',\n",
              "                                                     [key], {});\n",
              "          if (!dataTable) return;\n",
              "\n",
              "          const docLinkHtml = 'Like what you see? Visit the ' +\n",
              "            '<a target=\"_blank\" href=https://colab.research.google.com/notebooks/data_table.ipynb>data table notebook</a>'\n",
              "            + ' to learn more about interactive tables.';\n",
              "          element.innerHTML = '';\n",
              "          dataTable['output_type'] = 'display_data';\n",
              "          await google.colab.output.renderOutput(dataTable, element);\n",
              "          const docLink = document.createElement('div');\n",
              "          docLink.innerHTML = docLinkHtml;\n",
              "          element.appendChild(docLink);\n",
              "        }\n",
              "      </script>\n",
              "    </div>\n",
              "  </div>\n",
              "  "
            ],
            "text/plain": [
              "                 id  ...  availability_365\n",
              "count  4.889500e+04  ...      48895.000000\n",
              "mean   1.901714e+07  ...        112.781327\n",
              "std    1.098311e+07  ...        131.622289\n",
              "min    2.539000e+03  ...          0.000000\n",
              "25%    9.471945e+06  ...          0.000000\n",
              "50%    1.967728e+07  ...         45.000000\n",
              "75%    2.915218e+07  ...        227.000000\n",
              "max    3.648724e+07  ...        365.000000\n",
              "\n",
              "[8 rows x 10 columns]"
            ]
          },
          "metadata": {},
          "execution_count": 10
        }
      ]
    },
    {
      "cell_type": "markdown",
      "source": [
        "# Data Wrangling"
      ],
      "metadata": {
        "id": "q62WOOaBt9de"
      }
    },
    {
      "cell_type": "markdown",
      "source": [
        "## Removing null values"
      ],
      "metadata": {
        "id": "barFWLjyuGP1"
      }
    },
    {
      "cell_type": "code",
      "source": [
        "air_df.isna().sum()"
      ],
      "metadata": {
        "colab": {
          "base_uri": "https://localhost:8080/"
        },
        "id": "uGVRIVw2sgI7",
        "outputId": "38cf0b75-4986-43ab-b84b-829abfb9eb0d"
      },
      "execution_count": null,
      "outputs": [
        {
          "output_type": "execute_result",
          "data": {
            "text/plain": [
              "id                                    0\n",
              "name                                 16\n",
              "host_id                               0\n",
              "host_name                            21\n",
              "neighbourhood_group                   0\n",
              "neighbourhood                         0\n",
              "latitude                              0\n",
              "longitude                             0\n",
              "room_type                             0\n",
              "price                                 0\n",
              "minimum_nights                        0\n",
              "number_of_reviews                     0\n",
              "last_review                       10052\n",
              "reviews_per_month                 10052\n",
              "calculated_host_listings_count        0\n",
              "availability_365                      0\n",
              "dtype: int64"
            ]
          },
          "metadata": {},
          "execution_count": 11
        }
      ]
    },
    {
      "cell_type": "code",
      "source": [
        "# Cleaning the Non-Null Entries \n",
        "\n",
        "air_df = air_df[~air_df['name'].isna()]\n",
        "air_df = air_df[~air_df['host_name'].isna()]\n",
        "air_df = air_df[~air_df['last_review'].isna()]"
      ],
      "metadata": {
        "id": "2m5xjt0gu0xR"
      },
      "execution_count": null,
      "outputs": []
    },
    {
      "cell_type": "code",
      "source": [
        "# Null values removed\n",
        "\n",
        "air_df.isna().sum()"
      ],
      "metadata": {
        "id": "bVUYN1okezAT",
        "colab": {
          "base_uri": "https://localhost:8080/"
        },
        "outputId": "0460c1cc-381d-43d8-810f-023626e881ff"
      },
      "execution_count": null,
      "outputs": [
        {
          "output_type": "execute_result",
          "data": {
            "text/plain": [
              "id                                0\n",
              "name                              0\n",
              "host_id                           0\n",
              "host_name                         0\n",
              "neighbourhood_group               0\n",
              "neighbourhood                     0\n",
              "latitude                          0\n",
              "longitude                         0\n",
              "room_type                         0\n",
              "price                             0\n",
              "minimum_nights                    0\n",
              "number_of_reviews                 0\n",
              "last_review                       0\n",
              "reviews_per_month                 0\n",
              "calculated_host_listings_count    0\n",
              "availability_365                  0\n",
              "dtype: int64"
            ]
          },
          "metadata": {},
          "execution_count": 13
        }
      ]
    },
    {
      "cell_type": "markdown",
      "source": [
        "## changing Dtype of last review"
      ],
      "metadata": {
        "id": "Bg2CZ8Mag2eF"
      }
    },
    {
      "cell_type": "code",
      "source": [
        "# importing date-time library to change dtype of last_review\n",
        "\n",
        "from datetime import datetime\n",
        "from datetime import date"
      ],
      "metadata": {
        "id": "74-GzCsffomX"
      },
      "execution_count": null,
      "outputs": []
    },
    {
      "cell_type": "code",
      "source": [
        "air_df['last_review'] = air_df['last_review'].apply(lambda x: datetime.strptime(x,'%Y-%m-%d'))"
      ],
      "metadata": {
        "id": "rZM-E6OWhn5V"
      },
      "execution_count": null,
      "outputs": []
    },
    {
      "cell_type": "code",
      "source": [
        "# checking the Dtype of last review\n",
        "\n",
        "air_df.info()"
      ],
      "metadata": {
        "colab": {
          "base_uri": "https://localhost:8080/"
        },
        "id": "5Dt8hU3Bi2yP",
        "outputId": "daf64578-6233-4c55-8bcf-8ad8b778ea0a"
      },
      "execution_count": null,
      "outputs": [
        {
          "output_type": "stream",
          "name": "stdout",
          "text": [
            "<class 'pandas.core.frame.DataFrame'>\n",
            "Int64Index: 38821 entries, 0 to 48852\n",
            "Data columns (total 16 columns):\n",
            " #   Column                          Non-Null Count  Dtype         \n",
            "---  ------                          --------------  -----         \n",
            " 0   id                              38821 non-null  int64         \n",
            " 1   name                            38821 non-null  object        \n",
            " 2   host_id                         38821 non-null  int64         \n",
            " 3   host_name                       38821 non-null  object        \n",
            " 4   neighbourhood_group             38821 non-null  object        \n",
            " 5   neighbourhood                   38821 non-null  object        \n",
            " 6   latitude                        38821 non-null  float64       \n",
            " 7   longitude                       38821 non-null  float64       \n",
            " 8   room_type                       38821 non-null  object        \n",
            " 9   price                           38821 non-null  int64         \n",
            " 10  minimum_nights                  38821 non-null  int64         \n",
            " 11  number_of_reviews               38821 non-null  int64         \n",
            " 12  last_review                     38821 non-null  datetime64[ns]\n",
            " 13  reviews_per_month               38821 non-null  float64       \n",
            " 14  calculated_host_listings_count  38821 non-null  int64         \n",
            " 15  availability_365                38821 non-null  int64         \n",
            "dtypes: datetime64[ns](1), float64(3), int64(7), object(5)\n",
            "memory usage: 5.0+ MB\n"
          ]
        }
      ]
    },
    {
      "cell_type": "markdown",
      "source": [
        "## Fixing Invalid Data"
      ],
      "metadata": {
        "id": "WQHxpcZjkngQ"
      }
    },
    {
      "cell_type": "code",
      "source": [
        "air_df.describe()"
      ],
      "metadata": {
        "colab": {
          "base_uri": "https://localhost:8080/"
        },
        "id": "NckKgtDNkxVg",
        "outputId": "b67ada2c-b230-4323-b8c2-7a86d7f72442"
      },
      "execution_count": null,
      "outputs": [
        {
          "output_type": "execute_result",
          "data": {
            "text/html": [
              "\n",
              "  <div id=\"df-3700a268-fe6f-4834-ad80-cb7953004e5e\">\n",
              "    <div class=\"colab-df-container\">\n",
              "      <div>\n",
              "<style scoped>\n",
              "    .dataframe tbody tr th:only-of-type {\n",
              "        vertical-align: middle;\n",
              "    }\n",
              "\n",
              "    .dataframe tbody tr th {\n",
              "        vertical-align: top;\n",
              "    }\n",
              "\n",
              "    .dataframe thead th {\n",
              "        text-align: right;\n",
              "    }\n",
              "</style>\n",
              "<table border=\"1\" class=\"dataframe\">\n",
              "  <thead>\n",
              "    <tr style=\"text-align: right;\">\n",
              "      <th></th>\n",
              "      <th>id</th>\n",
              "      <th>host_id</th>\n",
              "      <th>latitude</th>\n",
              "      <th>longitude</th>\n",
              "      <th>price</th>\n",
              "      <th>minimum_nights</th>\n",
              "      <th>number_of_reviews</th>\n",
              "      <th>reviews_per_month</th>\n",
              "      <th>calculated_host_listings_count</th>\n",
              "      <th>availability_365</th>\n",
              "    </tr>\n",
              "  </thead>\n",
              "  <tbody>\n",
              "    <tr>\n",
              "      <th>count</th>\n",
              "      <td>3.882100e+04</td>\n",
              "      <td>3.882100e+04</td>\n",
              "      <td>38821.000000</td>\n",
              "      <td>38821.000000</td>\n",
              "      <td>38821.000000</td>\n",
              "      <td>38821.000000</td>\n",
              "      <td>38821.000000</td>\n",
              "      <td>38821.000000</td>\n",
              "      <td>38821.000000</td>\n",
              "      <td>38821.000000</td>\n",
              "    </tr>\n",
              "    <tr>\n",
              "      <th>mean</th>\n",
              "      <td>1.810081e+07</td>\n",
              "      <td>6.424582e+07</td>\n",
              "      <td>40.728129</td>\n",
              "      <td>-73.951149</td>\n",
              "      <td>142.332526</td>\n",
              "      <td>5.869220</td>\n",
              "      <td>29.290255</td>\n",
              "      <td>1.373229</td>\n",
              "      <td>5.166611</td>\n",
              "      <td>114.886299</td>\n",
              "    </tr>\n",
              "    <tr>\n",
              "      <th>std</th>\n",
              "      <td>1.069372e+07</td>\n",
              "      <td>7.589752e+07</td>\n",
              "      <td>0.054991</td>\n",
              "      <td>0.046693</td>\n",
              "      <td>196.994756</td>\n",
              "      <td>17.389026</td>\n",
              "      <td>48.182900</td>\n",
              "      <td>1.680328</td>\n",
              "      <td>26.302954</td>\n",
              "      <td>129.529950</td>\n",
              "    </tr>\n",
              "    <tr>\n",
              "      <th>min</th>\n",
              "      <td>2.539000e+03</td>\n",
              "      <td>2.438000e+03</td>\n",
              "      <td>40.506410</td>\n",
              "      <td>-74.244420</td>\n",
              "      <td>0.000000</td>\n",
              "      <td>1.000000</td>\n",
              "      <td>1.000000</td>\n",
              "      <td>0.010000</td>\n",
              "      <td>1.000000</td>\n",
              "      <td>0.000000</td>\n",
              "    </tr>\n",
              "    <tr>\n",
              "      <th>25%</th>\n",
              "      <td>8.721444e+06</td>\n",
              "      <td>7.029525e+06</td>\n",
              "      <td>40.688640</td>\n",
              "      <td>-73.982460</td>\n",
              "      <td>69.000000</td>\n",
              "      <td>1.000000</td>\n",
              "      <td>3.000000</td>\n",
              "      <td>0.190000</td>\n",
              "      <td>1.000000</td>\n",
              "      <td>0.000000</td>\n",
              "    </tr>\n",
              "    <tr>\n",
              "      <th>50%</th>\n",
              "      <td>1.887286e+07</td>\n",
              "      <td>2.837092e+07</td>\n",
              "      <td>40.721710</td>\n",
              "      <td>-73.954810</td>\n",
              "      <td>101.000000</td>\n",
              "      <td>2.000000</td>\n",
              "      <td>9.000000</td>\n",
              "      <td>0.720000</td>\n",
              "      <td>1.000000</td>\n",
              "      <td>55.000000</td>\n",
              "    </tr>\n",
              "    <tr>\n",
              "      <th>75%</th>\n",
              "      <td>2.756746e+07</td>\n",
              "      <td>1.018905e+08</td>\n",
              "      <td>40.762990</td>\n",
              "      <td>-73.935020</td>\n",
              "      <td>170.000000</td>\n",
              "      <td>4.000000</td>\n",
              "      <td>33.000000</td>\n",
              "      <td>2.020000</td>\n",
              "      <td>2.000000</td>\n",
              "      <td>229.000000</td>\n",
              "    </tr>\n",
              "    <tr>\n",
              "      <th>max</th>\n",
              "      <td>3.645581e+07</td>\n",
              "      <td>2.738417e+08</td>\n",
              "      <td>40.913060</td>\n",
              "      <td>-73.712990</td>\n",
              "      <td>10000.000000</td>\n",
              "      <td>1250.000000</td>\n",
              "      <td>629.000000</td>\n",
              "      <td>58.500000</td>\n",
              "      <td>327.000000</td>\n",
              "      <td>365.000000</td>\n",
              "    </tr>\n",
              "  </tbody>\n",
              "</table>\n",
              "</div>\n",
              "      <button class=\"colab-df-convert\" onclick=\"convertToInteractive('df-3700a268-fe6f-4834-ad80-cb7953004e5e')\"\n",
              "              title=\"Convert this dataframe to an interactive table.\"\n",
              "              style=\"display:none;\">\n",
              "        \n",
              "  <svg xmlns=\"http://www.w3.org/2000/svg\" height=\"24px\"viewBox=\"0 0 24 24\"\n",
              "       width=\"24px\">\n",
              "    <path d=\"M0 0h24v24H0V0z\" fill=\"none\"/>\n",
              "    <path d=\"M18.56 5.44l.94 2.06.94-2.06 2.06-.94-2.06-.94-.94-2.06-.94 2.06-2.06.94zm-11 1L8.5 8.5l.94-2.06 2.06-.94-2.06-.94L8.5 2.5l-.94 2.06-2.06.94zm10 10l.94 2.06.94-2.06 2.06-.94-2.06-.94-.94-2.06-.94 2.06-2.06.94z\"/><path d=\"M17.41 7.96l-1.37-1.37c-.4-.4-.92-.59-1.43-.59-.52 0-1.04.2-1.43.59L10.3 9.45l-7.72 7.72c-.78.78-.78 2.05 0 2.83L4 21.41c.39.39.9.59 1.41.59.51 0 1.02-.2 1.41-.59l7.78-7.78 2.81-2.81c.8-.78.8-2.07 0-2.86zM5.41 20L4 18.59l7.72-7.72 1.47 1.35L5.41 20z\"/>\n",
              "  </svg>\n",
              "      </button>\n",
              "      \n",
              "  <style>\n",
              "    .colab-df-container {\n",
              "      display:flex;\n",
              "      flex-wrap:wrap;\n",
              "      gap: 12px;\n",
              "    }\n",
              "\n",
              "    .colab-df-convert {\n",
              "      background-color: #E8F0FE;\n",
              "      border: none;\n",
              "      border-radius: 50%;\n",
              "      cursor: pointer;\n",
              "      display: none;\n",
              "      fill: #1967D2;\n",
              "      height: 32px;\n",
              "      padding: 0 0 0 0;\n",
              "      width: 32px;\n",
              "    }\n",
              "\n",
              "    .colab-df-convert:hover {\n",
              "      background-color: #E2EBFA;\n",
              "      box-shadow: 0px 1px 2px rgba(60, 64, 67, 0.3), 0px 1px 3px 1px rgba(60, 64, 67, 0.15);\n",
              "      fill: #174EA6;\n",
              "    }\n",
              "\n",
              "    [theme=dark] .colab-df-convert {\n",
              "      background-color: #3B4455;\n",
              "      fill: #D2E3FC;\n",
              "    }\n",
              "\n",
              "    [theme=dark] .colab-df-convert:hover {\n",
              "      background-color: #434B5C;\n",
              "      box-shadow: 0px 1px 3px 1px rgba(0, 0, 0, 0.15);\n",
              "      filter: drop-shadow(0px 1px 2px rgba(0, 0, 0, 0.3));\n",
              "      fill: #FFFFFF;\n",
              "    }\n",
              "  </style>\n",
              "\n",
              "      <script>\n",
              "        const buttonEl =\n",
              "          document.querySelector('#df-3700a268-fe6f-4834-ad80-cb7953004e5e button.colab-df-convert');\n",
              "        buttonEl.style.display =\n",
              "          google.colab.kernel.accessAllowed ? 'block' : 'none';\n",
              "\n",
              "        async function convertToInteractive(key) {\n",
              "          const element = document.querySelector('#df-3700a268-fe6f-4834-ad80-cb7953004e5e');\n",
              "          const dataTable =\n",
              "            await google.colab.kernel.invokeFunction('convertToInteractive',\n",
              "                                                     [key], {});\n",
              "          if (!dataTable) return;\n",
              "\n",
              "          const docLinkHtml = 'Like what you see? Visit the ' +\n",
              "            '<a target=\"_blank\" href=https://colab.research.google.com/notebooks/data_table.ipynb>data table notebook</a>'\n",
              "            + ' to learn more about interactive tables.';\n",
              "          element.innerHTML = '';\n",
              "          dataTable['output_type'] = 'display_data';\n",
              "          await google.colab.output.renderOutput(dataTable, element);\n",
              "          const docLink = document.createElement('div');\n",
              "          docLink.innerHTML = docLinkHtml;\n",
              "          element.appendChild(docLink);\n",
              "        }\n",
              "      </script>\n",
              "    </div>\n",
              "  </div>\n",
              "  "
            ],
            "text/plain": [
              "                 id  ...  availability_365\n",
              "count  3.882100e+04  ...      38821.000000\n",
              "mean   1.810081e+07  ...        114.886299\n",
              "std    1.069372e+07  ...        129.529950\n",
              "min    2.539000e+03  ...          0.000000\n",
              "25%    8.721444e+06  ...          0.000000\n",
              "50%    1.887286e+07  ...         55.000000\n",
              "75%    2.756746e+07  ...        229.000000\n",
              "max    3.645581e+07  ...        365.000000\n",
              "\n",
              "[8 rows x 10 columns]"
            ]
          },
          "metadata": {},
          "execution_count": 17
        }
      ]
    },
    {
      "cell_type": "code",
      "source": [
        "# In the above dataframe we can see that the min.price & min.availability_365 is zero which is invalid, so we have to fix this problem.\n",
        "\n",
        "air_df.loc[air_df['price']==0, 'price'] = air_df.loc[air_df['price']!=0, 'price'].mean()\n",
        "air_df.loc[air_df['availability_365']==0, 'availability_365']= air_df.loc[air_df['availability_365']!=0,'availability_365'].mean()"
      ],
      "metadata": {
        "id": "H4oZiP2ii3u3"
      },
      "execution_count": null,
      "outputs": []
    },
    {
      "cell_type": "code",
      "source": [
        "# Invalid data has been fixed\n",
        "\n",
        "air_df.describe()"
      ],
      "metadata": {
        "colab": {
          "base_uri": "https://localhost:8080/"
        },
        "id": "I3x2kcpjlzCh",
        "outputId": "2607bb58-3062-47e5-8ba2-b24ec2f48092"
      },
      "execution_count": null,
      "outputs": [
        {
          "output_type": "execute_result",
          "data": {
            "text/html": [
              "\n",
              "  <div id=\"df-ea2204b6-50de-48ef-ad74-1dfe3cc47e61\">\n",
              "    <div class=\"colab-df-container\">\n",
              "      <div>\n",
              "<style scoped>\n",
              "    .dataframe tbody tr th:only-of-type {\n",
              "        vertical-align: middle;\n",
              "    }\n",
              "\n",
              "    .dataframe tbody tr th {\n",
              "        vertical-align: top;\n",
              "    }\n",
              "\n",
              "    .dataframe thead th {\n",
              "        text-align: right;\n",
              "    }\n",
              "</style>\n",
              "<table border=\"1\" class=\"dataframe\">\n",
              "  <thead>\n",
              "    <tr style=\"text-align: right;\">\n",
              "      <th></th>\n",
              "      <th>id</th>\n",
              "      <th>host_id</th>\n",
              "      <th>latitude</th>\n",
              "      <th>longitude</th>\n",
              "      <th>price</th>\n",
              "      <th>minimum_nights</th>\n",
              "      <th>number_of_reviews</th>\n",
              "      <th>reviews_per_month</th>\n",
              "      <th>calculated_host_listings_count</th>\n",
              "      <th>availability_365</th>\n",
              "    </tr>\n",
              "  </thead>\n",
              "  <tbody>\n",
              "    <tr>\n",
              "      <th>count</th>\n",
              "      <td>3.882100e+04</td>\n",
              "      <td>3.882100e+04</td>\n",
              "      <td>38821.000000</td>\n",
              "      <td>38821.000000</td>\n",
              "      <td>38821.000000</td>\n",
              "      <td>38821.000000</td>\n",
              "      <td>38821.000000</td>\n",
              "      <td>38821.000000</td>\n",
              "      <td>38821.000000</td>\n",
              "      <td>38821.000000</td>\n",
              "    </tr>\n",
              "    <tr>\n",
              "      <th>mean</th>\n",
              "      <td>1.810081e+07</td>\n",
              "      <td>6.424582e+07</td>\n",
              "      <td>40.728129</td>\n",
              "      <td>-73.951149</td>\n",
              "      <td>142.369199</td>\n",
              "      <td>5.869220</td>\n",
              "      <td>29.290255</td>\n",
              "      <td>1.373229</td>\n",
              "      <td>5.166611</td>\n",
              "      <td>170.580624</td>\n",
              "    </tr>\n",
              "    <tr>\n",
              "      <th>std</th>\n",
              "      <td>1.069372e+07</td>\n",
              "      <td>7.589752e+07</td>\n",
              "      <td>0.054991</td>\n",
              "      <td>0.046693</td>\n",
              "      <td>196.981507</td>\n",
              "      <td>17.389026</td>\n",
              "      <td>48.182900</td>\n",
              "      <td>1.680328</td>\n",
              "      <td>26.302954</td>\n",
              "      <td>101.878988</td>\n",
              "    </tr>\n",
              "    <tr>\n",
              "      <th>min</th>\n",
              "      <td>2.539000e+03</td>\n",
              "      <td>2.438000e+03</td>\n",
              "      <td>40.506410</td>\n",
              "      <td>-74.244420</td>\n",
              "      <td>10.000000</td>\n",
              "      <td>1.000000</td>\n",
              "      <td>1.000000</td>\n",
              "      <td>0.010000</td>\n",
              "      <td>1.000000</td>\n",
              "      <td>1.000000</td>\n",
              "    </tr>\n",
              "    <tr>\n",
              "      <th>25%</th>\n",
              "      <td>8.721444e+06</td>\n",
              "      <td>7.029525e+06</td>\n",
              "      <td>40.688640</td>\n",
              "      <td>-73.982460</td>\n",
              "      <td>69.000000</td>\n",
              "      <td>1.000000</td>\n",
              "      <td>3.000000</td>\n",
              "      <td>0.190000</td>\n",
              "      <td>1.000000</td>\n",
              "      <td>89.000000</td>\n",
              "    </tr>\n",
              "    <tr>\n",
              "      <th>50%</th>\n",
              "      <td>1.887286e+07</td>\n",
              "      <td>2.837092e+07</td>\n",
              "      <td>40.721710</td>\n",
              "      <td>-73.954810</td>\n",
              "      <td>101.000000</td>\n",
              "      <td>2.000000</td>\n",
              "      <td>9.000000</td>\n",
              "      <td>0.720000</td>\n",
              "      <td>1.000000</td>\n",
              "      <td>170.580624</td>\n",
              "    </tr>\n",
              "    <tr>\n",
              "      <th>75%</th>\n",
              "      <td>2.756746e+07</td>\n",
              "      <td>1.018905e+08</td>\n",
              "      <td>40.762990</td>\n",
              "      <td>-73.935020</td>\n",
              "      <td>170.000000</td>\n",
              "      <td>4.000000</td>\n",
              "      <td>33.000000</td>\n",
              "      <td>2.020000</td>\n",
              "      <td>2.000000</td>\n",
              "      <td>229.000000</td>\n",
              "    </tr>\n",
              "    <tr>\n",
              "      <th>max</th>\n",
              "      <td>3.645581e+07</td>\n",
              "      <td>2.738417e+08</td>\n",
              "      <td>40.913060</td>\n",
              "      <td>-73.712990</td>\n",
              "      <td>10000.000000</td>\n",
              "      <td>1250.000000</td>\n",
              "      <td>629.000000</td>\n",
              "      <td>58.500000</td>\n",
              "      <td>327.000000</td>\n",
              "      <td>365.000000</td>\n",
              "    </tr>\n",
              "  </tbody>\n",
              "</table>\n",
              "</div>\n",
              "      <button class=\"colab-df-convert\" onclick=\"convertToInteractive('df-ea2204b6-50de-48ef-ad74-1dfe3cc47e61')\"\n",
              "              title=\"Convert this dataframe to an interactive table.\"\n",
              "              style=\"display:none;\">\n",
              "        \n",
              "  <svg xmlns=\"http://www.w3.org/2000/svg\" height=\"24px\"viewBox=\"0 0 24 24\"\n",
              "       width=\"24px\">\n",
              "    <path d=\"M0 0h24v24H0V0z\" fill=\"none\"/>\n",
              "    <path d=\"M18.56 5.44l.94 2.06.94-2.06 2.06-.94-2.06-.94-.94-2.06-.94 2.06-2.06.94zm-11 1L8.5 8.5l.94-2.06 2.06-.94-2.06-.94L8.5 2.5l-.94 2.06-2.06.94zm10 10l.94 2.06.94-2.06 2.06-.94-2.06-.94-.94-2.06-.94 2.06-2.06.94z\"/><path d=\"M17.41 7.96l-1.37-1.37c-.4-.4-.92-.59-1.43-.59-.52 0-1.04.2-1.43.59L10.3 9.45l-7.72 7.72c-.78.78-.78 2.05 0 2.83L4 21.41c.39.39.9.59 1.41.59.51 0 1.02-.2 1.41-.59l7.78-7.78 2.81-2.81c.8-.78.8-2.07 0-2.86zM5.41 20L4 18.59l7.72-7.72 1.47 1.35L5.41 20z\"/>\n",
              "  </svg>\n",
              "      </button>\n",
              "      \n",
              "  <style>\n",
              "    .colab-df-container {\n",
              "      display:flex;\n",
              "      flex-wrap:wrap;\n",
              "      gap: 12px;\n",
              "    }\n",
              "\n",
              "    .colab-df-convert {\n",
              "      background-color: #E8F0FE;\n",
              "      border: none;\n",
              "      border-radius: 50%;\n",
              "      cursor: pointer;\n",
              "      display: none;\n",
              "      fill: #1967D2;\n",
              "      height: 32px;\n",
              "      padding: 0 0 0 0;\n",
              "      width: 32px;\n",
              "    }\n",
              "\n",
              "    .colab-df-convert:hover {\n",
              "      background-color: #E2EBFA;\n",
              "      box-shadow: 0px 1px 2px rgba(60, 64, 67, 0.3), 0px 1px 3px 1px rgba(60, 64, 67, 0.15);\n",
              "      fill: #174EA6;\n",
              "    }\n",
              "\n",
              "    [theme=dark] .colab-df-convert {\n",
              "      background-color: #3B4455;\n",
              "      fill: #D2E3FC;\n",
              "    }\n",
              "\n",
              "    [theme=dark] .colab-df-convert:hover {\n",
              "      background-color: #434B5C;\n",
              "      box-shadow: 0px 1px 3px 1px rgba(0, 0, 0, 0.15);\n",
              "      filter: drop-shadow(0px 1px 2px rgba(0, 0, 0, 0.3));\n",
              "      fill: #FFFFFF;\n",
              "    }\n",
              "  </style>\n",
              "\n",
              "      <script>\n",
              "        const buttonEl =\n",
              "          document.querySelector('#df-ea2204b6-50de-48ef-ad74-1dfe3cc47e61 button.colab-df-convert');\n",
              "        buttonEl.style.display =\n",
              "          google.colab.kernel.accessAllowed ? 'block' : 'none';\n",
              "\n",
              "        async function convertToInteractive(key) {\n",
              "          const element = document.querySelector('#df-ea2204b6-50de-48ef-ad74-1dfe3cc47e61');\n",
              "          const dataTable =\n",
              "            await google.colab.kernel.invokeFunction('convertToInteractive',\n",
              "                                                     [key], {});\n",
              "          if (!dataTable) return;\n",
              "\n",
              "          const docLinkHtml = 'Like what you see? Visit the ' +\n",
              "            '<a target=\"_blank\" href=https://colab.research.google.com/notebooks/data_table.ipynb>data table notebook</a>'\n",
              "            + ' to learn more about interactive tables.';\n",
              "          element.innerHTML = '';\n",
              "          dataTable['output_type'] = 'display_data';\n",
              "          await google.colab.output.renderOutput(dataTable, element);\n",
              "          const docLink = document.createElement('div');\n",
              "          docLink.innerHTML = docLinkHtml;\n",
              "          element.appendChild(docLink);\n",
              "        }\n",
              "      </script>\n",
              "    </div>\n",
              "  </div>\n",
              "  "
            ],
            "text/plain": [
              "                 id  ...  availability_365\n",
              "count  3.882100e+04  ...      38821.000000\n",
              "mean   1.810081e+07  ...        170.580624\n",
              "std    1.069372e+07  ...        101.878988\n",
              "min    2.539000e+03  ...          1.000000\n",
              "25%    8.721444e+06  ...         89.000000\n",
              "50%    1.887286e+07  ...        170.580624\n",
              "75%    2.756746e+07  ...        229.000000\n",
              "max    3.645581e+07  ...        365.000000\n",
              "\n",
              "[8 rows x 10 columns]"
            ]
          },
          "metadata": {},
          "execution_count": 19
        }
      ]
    },
    {
      "cell_type": "markdown",
      "source": [
        "## Removing the Duplicates"
      ],
      "metadata": {
        "id": "Vgkca2iimlJ2"
      }
    },
    {
      "cell_type": "code",
      "source": [
        "# Dropping The Duplicates \n",
        "air_df.drop_duplicates(subset='name',inplace=True)\n",
        "air_df.nunique()"
      ],
      "metadata": {
        "colab": {
          "base_uri": "https://localhost:8080/"
        },
        "id": "hbAEZ5W9l2Z6",
        "outputId": "7e899652-7c60-4180-8860-0c89be95af75"
      },
      "execution_count": null,
      "outputs": [
        {
          "output_type": "execute_result",
          "data": {
            "text/plain": [
              "id                                38253\n",
              "name                              38253\n",
              "host_id                           29874\n",
              "host_name                          9793\n",
              "neighbourhood_group                   5\n",
              "neighbourhood                       218\n",
              "latitude                          17324\n",
              "longitude                         13557\n",
              "room_type                             3\n",
              "price                               580\n",
              "minimum_nights                       89\n",
              "number_of_reviews                   393\n",
              "last_review                        1760\n",
              "reviews_per_month                   937\n",
              "calculated_host_listings_count       47\n",
              "availability_365                    366\n",
              "dtype: int64"
            ]
          },
          "metadata": {},
          "execution_count": 20
        }
      ]
    },
    {
      "cell_type": "markdown",
      "source": [
        "## Outliers Handling"
      ],
      "metadata": {
        "id": "_Skid_8iu1IX"
      }
    },
    {
      "cell_type": "code",
      "source": [
        "# Price Columns' outliers is present in all 5 neighbourhood groups\n",
        "# ( \" we can see no.of neighbourhood grourps above in Duplicate Removal section in nunique values \" )\n",
        "\n",
        "air_df.boxplot(by ='neighbourhood_group', column = ['price'], grid = True)"
      ],
      "metadata": {
        "colab": {
          "base_uri": "https://localhost:8080/"
        },
        "id": "mFKIStjXmwpi",
        "outputId": "7e3c77ac-0a70-467c-8b78-eaae1459bcce"
      },
      "execution_count": null,
      "outputs": [
        {
          "output_type": "stream",
          "name": "stderr",
          "text": [
            "/usr/local/lib/python3.7/dist-packages/numpy/core/_asarray.py:83: VisibleDeprecationWarning: Creating an ndarray from ragged nested sequences (which is a list-or-tuple of lists-or-tuples-or ndarrays with different lengths or shapes) is deprecated. If you meant to do this, you must specify 'dtype=object' when creating the ndarray\n",
            "  return array(a, dtype, copy=False, order=order)\n"
          ]
        },
        {
          "output_type": "execute_result",
          "data": {
            "text/plain": [
              "<matplotlib.axes._subplots.AxesSubplot at 0x7f2f9390afd0>"
            ]
          },
          "metadata": {},
          "execution_count": 21
        },
        {
          "output_type": "display_data",
          "data": {
            "image/png": "[encoded data removed]",
            "text/plain": [
              "<Figure size 432x288 with 1 Axes>"
            ]
          },
          "metadata": {
            "needs_background": "light"
          }
        }
      ]
    },
    {
      "cell_type": "code",
      "source": [
        "air_df.drop(air_df[air_df['price']>=400].index,inplace=True)"
      ],
      "metadata": {
        "id": "edOhWyALxUgX"
      },
      "execution_count": null,
      "outputs": []
    },
    {
      "cell_type": "code",
      "source": [
        "air_df.boxplot(by ='neighbourhood_group', column =['price'], grid = True)"
      ],
      "metadata": {
        "colab": {
          "base_uri": "https://localhost:8080/"
        },
        "id": "1SywU6m3xjGL",
        "outputId": "aaa111fa-ed99-4e79-a0cf-7c3efd841504"
      },
      "execution_count": null,
      "outputs": [
        {
          "output_type": "stream",
          "name": "stderr",
          "text": [
            "/usr/local/lib/python3.7/dist-packages/numpy/core/_asarray.py:83: VisibleDeprecationWarning: Creating an ndarray from ragged nested sequences (which is a list-or-tuple of lists-or-tuples-or ndarrays with different lengths or shapes) is deprecated. If you meant to do this, you must specify 'dtype=object' when creating the ndarray\n",
            "  return array(a, dtype, copy=False, order=order)\n"
          ]
        },
        {
          "output_type": "execute_result",
          "data": {
            "text/plain": [
              "<matplotlib.axes._subplots.AxesSubplot at 0x7f2f9399b090>"
            ]
          },
          "metadata": {},
          "execution_count": 23
        },
        {
          "output_type": "display_data",
          "data": {
            "image/png": "[encoded data removed]",
            "text/plain": [
              "<Figure size 432x288 with 1 Axes>"
            ]
          },
          "metadata": {
            "needs_background": "light"
          }
        }
      ]
    },
    {
      "cell_type": "code",
      "source": [
        "# Removing Outlier Prices In Bronx Neighbourhood Groups \n",
        "\n",
        "air_df.drop(air_df[(air_df['neighbourhood_group']=='Bronx')&(air_df['price']>138)].index,inplace=True)"
      ],
      "metadata": {
        "id": "sd8aKfESxw_I"
      },
      "execution_count": null,
      "outputs": []
    },
    {
      "cell_type": "code",
      "source": [
        "# Removing Outlier Prices In Brooklyn Neighbourhood Groups \n",
        "\n",
        "air_df.drop(air_df[(air_df['neighbourhood_group']=='Brooklyn')&(air_df['price']>236)].index,inplace=True)"
      ],
      "metadata": {
        "id": "IPYyXLdeyoPt"
      },
      "execution_count": null,
      "outputs": []
    },
    {
      "cell_type": "code",
      "source": [
        "# Removing Outlier Prices In Manhattan Neighbourhood Groups \n",
        "\n",
        "air_df.drop(air_df[(air_df['neighbourhood_group']=='Manhattan')&(air_df['price']>350)].index,inplace=True)"
      ],
      "metadata": {
        "id": "vjSuPLI9y6FH"
      },
      "execution_count": null,
      "outputs": []
    },
    {
      "cell_type": "code",
      "source": [
        "#  Removing Outlier Prices In Queens Neighbourhood Groups \n",
        "\n",
        "air_df.drop(air_df[(air_df['neighbourhood_group']=='Queens')&(air_df['price']>173)].index,inplace=True)"
      ],
      "metadata": {
        "id": "8S-eKUJvzQCk"
      },
      "execution_count": null,
      "outputs": []
    },
    {
      "cell_type": "code",
      "source": [
        "# Removing Outlier Prices In Staten Island Neighbourhood Groups \n",
        "\n",
        "air_df.drop(air_df[(air_df['neighbourhood_group']=='Staten Island')&(air_df['price']>173)].index,inplace=True)"
      ],
      "metadata": {
        "id": "NM_VxOyfzUTT"
      },
      "execution_count": null,
      "outputs": []
    },
    {
      "cell_type": "code",
      "source": [
        "# No Outliers remains\n",
        "\n",
        "air_df.boxplot(by='neighbourhood_group',column='price',grid=True)"
      ],
      "metadata": {
        "colab": {
          "base_uri": "https://localhost:8080/"
        },
        "id": "ayTbXtxgzb6T",
        "outputId": "41449ccb-0aa1-4da8-f37b-bf5b1017b4b9"
      },
      "execution_count": null,
      "outputs": [
        {
          "output_type": "stream",
          "name": "stderr",
          "text": [
            "/usr/local/lib/python3.7/dist-packages/numpy/core/_asarray.py:83: VisibleDeprecationWarning: Creating an ndarray from ragged nested sequences (which is a list-or-tuple of lists-or-tuples-or ndarrays with different lengths or shapes) is deprecated. If you meant to do this, you must specify 'dtype=object' when creating the ndarray\n",
            "  return array(a, dtype, copy=False, order=order)\n"
          ]
        },
        {
          "output_type": "execute_result",
          "data": {
            "text/plain": [
              "<matplotlib.axes._subplots.AxesSubplot at 0x7f2f92368950>"
            ]
          },
          "metadata": {},
          "execution_count": 29
        },
        {
          "output_type": "display_data",
          "data": {
            "image/png": "[encoded data removed]",
            "text/plain": [
              "<Figure size 432x288 with 1 Axes>"
            ]
          },
          "metadata": {
            "needs_background": "light"
          }
        }
      ]
    },
    {
      "cell_type": "code",
      "source": [
        "# Shape of the dataset\n",
        "\n",
        "air_df.shape"
      ],
      "metadata": {
        "colab": {
          "base_uri": "https://localhost:8080/"
        },
        "id": "VK2OojbWzoAf",
        "outputId": "c746aa79-8de3-4cf4-bb7d-bd583b03ebb2"
      },
      "execution_count": null,
      "outputs": [
        {
          "output_type": "execute_result",
          "data": {
            "text/plain": [
              "(35329, 16)"
            ]
          },
          "metadata": {},
          "execution_count": 30
        }
      ]
    },
    {
      "cell_type": "markdown",
      "source": [
        "# Let's Have A Look On Map. "
      ],
      "metadata": {
        "id": "ETzW4M_R15Fm"
      }
    },
    {
      "cell_type": "code",
      "source": [
        "#creating a map\n",
        "map =fl.Map(location=[40.730610,-73.935242],zoom_start=10)"
      ],
      "metadata": {
        "id": "wrclNsqI0goa"
      },
      "execution_count": null,
      "outputs": []
    },
    {
      "cell_type": "code",
      "source": [
        "# new dataframe of locations of neighbourhood groups\n",
        "\n",
        "locations =pd.DataFrame({'name':['Bronx','Brooklyn','Manhattan','Queens','Staten Island'],'latitude':[40.837048,40.650002,40.754932, 40.742054,40.579021],'longitude':[-73.865433,-73.949997,-73.984016, -73.769417,-74.151535]})"
      ],
      "metadata": {
        "id": "prrUDeny2LmS"
      },
      "execution_count": null,
      "outputs": []
    },
    {
      "cell_type": "code",
      "source": [
        "# adding markers of neighbourhood_groups to the maps\n",
        "for row,col in locations.iterrows():\n",
        "  fl.Marker(location=[col['latitude'],col['longitude']],popup=col['name'],tooltip='click to know name',icon=fl.Icon(color='black',icon_color=\"white\",icon='tint',angle=2,prefix='fa')).add_to(map)\n"
      ],
      "metadata": {
        "id": "4TnkSBSw2llm"
      },
      "execution_count": null,
      "outputs": []
    },
    {
      "cell_type": "code",
      "source": [
        "#lets plot the map\n",
        "map"
      ],
      "metadata": {
        "id": "cXnQm4g42vXJ",
        "colab": {
          "base_uri": "https://localhost:8080/"
        },
        "outputId": "0ee8f91b-c9fa-476f-a07c-1de7a5c8c2d7"
      },
      "execution_count": null,
      "outputs": [
        {
          "output_type": "execute_result",
          "data": {
            "text/html": [
              "<div style=\"width:100%;\"><div style=\"position:relative;width:100%;height:0;padding-bottom:60%;\"><span style=\"color:#565656\">Make this Notebook Trusted to load map: File -> Trust Notebook</span><iframe src=\"about:blank\" style=\"position:absolute;width:100%;height:100%;left:0;top:0;border:none !important;\" data-html=%3C%21DOCTYPE%20html%3E%0A%3Chead%3E%20%20%20%20%0A%20%20%20%20%3Cmeta%20http-equiv%3D%22content-type%22%20content%3D%22text/html%3B%20charset%3DUTF-8%22%20/%3E%0A%20%20%20%20%3Cscript%3EL_PREFER_CANVAS%3Dfalse%3B%20L_NO_TOUCH%3Dfalse%3B%20L_DISABLE_3D%3Dfalse%3B%3C/script%3E%0A%20%20%20%20%3Cscript%20src%3D%22https%3A//cdn.jsdelivr.net/npm/leaflet%401.4.0/dist/leaflet.js%22%3E%3C/script%3E%0A%20%20%20%20%3Cscript%20src%3D%22https%3A//code.jquery.com/jquery-1.12.4.min.js%22%3E%3C/script%3E%0A%20%20%20%20%3Cscript%20src%3D%22https%3A//maxcdn.bootstrapcdn.com/bootstrap/3.2.0/js/bootstrap.min.js%22%3E%3C/script%3E%0A%20%20%20%20%3Cscript%20src%3D%22https%3A//cdnjs.cloudflare.com/ajax/libs/Leaflet.awesome-markers/2.0.2/leaflet.awesome-markers.js%22%3E%3C/script%3E%0A%20%20%20%20%3Clink%20rel%3D%22stylesheet%22%20href%3D%22https%3A//cdn.jsdelivr.net/npm/leaflet%401.4.0/dist/leaflet.css%22/%3E%0A%20%20%20%20%3Clink%20rel%3D%22stylesheet%22%20href%3D%22https%3A//maxcdn.bootstrapcdn.com/bootstrap/3.2.0/css/bootstrap.min.css%22/%3E%0A%20%20%20%20%3Clink%20rel%3D%22stylesheet%22%20href%3D%22https%3A//maxcdn.bootstrapcdn.com/bootstrap/3.2.0/css/bootstrap-theme.min.css%22/%3E%0A%20%20%20%20%3Clink%20rel%3D%22stylesheet%22%20href%3D%22https%3A//maxcdn.bootstrapcdn.com/font-awesome/4.6.3/css/font-awesome.min.css%22/%3E%0A%20%20%20%20%3Clink%20rel%3D%22stylesheet%22%20href%3D%22https%3A//cdnjs.cloudflare.com/ajax/libs/Leaflet.awesome-markers/2.0.2/leaflet.awesome-markers.css%22/%3E%0A%20%20%20%20%3Clink%20rel%3D%22stylesheet%22%20href%3D%22https%3A//rawcdn.githack.com/python-visualization/folium/master/folium/templates/leaflet.awesome.rotate.css%22/%3E%0A%20%20%20%20%3Cstyle%3Ehtml%2C%20body%20%7Bwidth%3A%20100%25%3Bheight%3A%20100%25%3Bmargin%3A%200%3Bpadding%3A%200%3B%7D%3C/style%3E%0A%20%20%20%20%3Cstyle%3E%23map%20%7Bposition%3Aabsolute%3Btop%3A0%3Bbottom%3A0%3Bright%3A0%3Bleft%3A0%3B%7D%3C/style%3E%0A%20%20%20%20%0A%20%20%20%20%3Cmeta%20name%3D%22viewport%22%20content%3D%22width%3Ddevice-width%2C%0A%20%20%20%20%20%20%20%20initial-scale%3D1.0%2C%20maximum-scale%3D1.0%2C%20user-scalable%3Dno%22%20/%3E%0A%20%20%20%20%3Cstyle%3E%23map_5a0857f4c4e64b3fb67faaae2b9db9d6%20%7B%0A%20%20%20%20%20%20%20%20position%3A%20relative%3B%0A%20%20%20%20%20%20%20%20width%3A%20100.0%25%3B%0A%20%20%20%20%20%20%20%20height%3A%20100.0%25%3B%0A%20%20%20%20%20%20%20%20left%3A%200.0%25%3B%0A%20%20%20%20%20%20%20%20top%3A%200.0%25%3B%0A%20%20%20%20%20%20%20%20%7D%0A%20%20%20%20%3C/style%3E%0A%3C/head%3E%0A%3Cbody%3E%20%20%20%20%0A%20%20%20%20%0A%20%20%20%20%3Cdiv%20class%3D%22folium-map%22%20id%3D%22map_5a0857f4c4e64b3fb67faaae2b9db9d6%22%20%3E%3C/div%3E%0A%3C/body%3E%0A%3Cscript%3E%20%20%20%20%0A%20%20%20%20%0A%20%20%20%20%0A%20%20%20%20%20%20%20%20var%20bounds%20%3D%20null%3B%0A%20%20%20%20%0A%0A%20%20%20%20var%20map_5a0857f4c4e64b3fb67faaae2b9db9d6%20%3D%20L.map%28%0A%20%20%20%20%20%20%20%20%27map_5a0857f4c4e64b3fb67faaae2b9db9d6%27%2C%20%7B%0A%20%20%20%20%20%20%20%20center%3A%20%5B40.73061%2C%20-73.935242%5D%2C%0A%20%20%20%20%20%20%20%20zoom%3A%2010%2C%0A%20%20%20%20%20%20%20%20maxBounds%3A%20bounds%2C%0A%20%20%20%20%20%20%20%20layers%3A%20%5B%5D%2C%0A%20%20%20%20%20%20%20%20worldCopyJump%3A%20false%2C%0A%20%20%20%20%20%20%20%20crs%3A%20L.CRS.EPSG3857%2C%0A%20%20%20%20%20%20%20%20zoomControl%3A%20true%2C%0A%20%20%20%20%20%20%20%20%7D%29%3B%0A%0A%0A%20%20%20%20%0A%20%20%20%20var%20tile_layer_6338febff4004e39bab5c1599a21fb23%20%3D%20L.tileLayer%28%0A%20%20%20%20%20%20%20%20%27https%3A//%7Bs%7D.tile.openstreetmap.org/%7Bz%7D/%7Bx%7D/%7By%7D.png%27%2C%0A%20%20%20%20%20%20%20%20%7B%0A%20%20%20%20%20%20%20%20%22attribution%22%3A%20null%2C%0A%20%20%20%20%20%20%20%20%22detectRetina%22%3A%20false%2C%0A%20%20%20%20%20%20%20%20%22maxNativeZoom%22%3A%2018%2C%0A%20%20%20%20%20%20%20%20%22maxZoom%22%3A%2018%2C%0A%20%20%20%20%20%20%20%20%22minZoom%22%3A%200%2C%0A%20%20%20%20%20%20%20%20%22noWrap%22%3A%20false%2C%0A%20%20%20%20%20%20%20%20%22opacity%22%3A%201%2C%0A%20%20%20%20%20%20%20%20%22subdomains%22%3A%20%22abc%22%2C%0A%20%20%20%20%20%20%20%20%22tms%22%3A%20false%0A%7D%29.addTo%28map_5a0857f4c4e64b3fb67faaae2b9db9d6%29%3B%0A%20%20%20%20%0A%20%20%20%20%20%20%20%20var%20marker_c0b81ff0cc2d4e30a4c5946194cb50c9%20%3D%20L.marker%28%0A%20%20%20%20%20%20%20%20%20%20%20%20%5B40.837048%2C%20-73.865433%5D%2C%0A%20%20%20%20%20%20%20%20%20%20%20%20%7B%0A%20%20%20%20%20%20%20%20%20%20%20%20%20%20%20%20icon%3A%20new%20L.Icon.Default%28%29%2C%0A%20%20%20%20%20%20%20%20%20%20%20%20%20%20%20%20%7D%0A%20%20%20%20%20%20%20%20%20%20%20%20%29.addTo%28map_5a0857f4c4e64b3fb67faaae2b9db9d6%29%3B%0A%20%20%20%20%20%20%20%20%0A%20%20%20%20%0A%0A%20%20%20%20%20%20%20%20%20%20%20%20%20%20%20%20var%20icon_91eba1f66eee4f188ed8fdf2cb311bb1%20%3D%20L.AwesomeMarkers.icon%28%7B%0A%20%20%20%20%20%20%20%20%20%20%20%20%20%20%20%20%20%20%20%20icon%3A%20%27tint%27%2C%0A%20%20%20%20%20%20%20%20%20%20%20%20%20%20%20%20%20%20%20%20iconColor%3A%20%27white%27%2C%0A%20%20%20%20%20%20%20%20%20%20%20%20%20%20%20%20%20%20%20%20markerColor%3A%20%27black%27%2C%0A%20%20%20%20%20%20%20%20%20%20%20%20%20%20%20%20%20%20%20%20prefix%3A%20%27fa%27%2C%0A%20%20%20%20%20%20%20%20%20%20%20%20%20%20%20%20%20%20%20%20extraClasses%3A%20%27fa-rotate-2%27%0A%20%20%20%20%20%20%20%20%20%20%20%20%20%20%20%20%20%20%20%20%7D%29%3B%0A%20%20%20%20%20%20%20%20%20%20%20%20%20%20%20%20marker_c0b81ff0cc2d4e30a4c5946194cb50c9.setIcon%28icon_91eba1f66eee4f188ed8fdf2cb311bb1%29%3B%0A%20%20%20%20%20%20%20%20%20%20%20%20%0A%20%20%20%20%0A%20%20%20%20%20%20%20%20%20%20%20%20var%20popup_185ffb78e120484bb663132629d27f55%20%3D%20L.popup%28%7BmaxWidth%3A%20%27100%25%27%0A%20%20%20%20%20%20%20%20%20%20%20%20%0A%20%20%20%20%20%20%20%20%20%20%20%20%7D%29%3B%0A%0A%20%20%20%20%20%20%20%20%20%20%20%20%0A%20%20%20%20%20%20%20%20%20%20%20%20%20%20%20%20var%20html_ed31beaade454235964db16d6cd36b69%20%3D%20%24%28%60%3Cdiv%20id%3D%22html_ed31beaade454235964db16d6cd36b69%22%20style%3D%22width%3A%20100.0%25%3B%20height%3A%20100.0%25%3B%22%3EBronx%3C/div%3E%60%29%5B0%5D%3B%0A%20%20%20%20%20%20%20%20%20%20%20%20%20%20%20%20popup_185ffb78e120484bb663132629d27f55.setContent%28html_ed31beaade454235964db16d6cd36b69%29%3B%0A%20%20%20%20%20%20%20%20%20%20%20%20%0A%0A%20%20%20%20%20%20%20%20%20%20%20%20marker_c0b81ff0cc2d4e30a4c5946194cb50c9.bindPopup%28popup_185ffb78e120484bb663132629d27f55%29%0A%20%20%20%20%20%20%20%20%20%20%20%20%3B%0A%0A%20%20%20%20%20%20%20%20%20%20%20%20%0A%20%20%20%20%20%20%20%20%0A%20%20%20%20%0A%20%20%20%20%20%20%20%20marker_c0b81ff0cc2d4e30a4c5946194cb50c9.bindTooltip%28%0A%20%20%20%20%20%20%20%20%20%20%20%20%60%3Cdiv%3E%60%0A%20%20%20%20%20%20%20%20%20%20%20%20%2B%20%60click%20to%20know%20name%60%20%2B%20%60%3C/div%3E%60%2C%0A%20%20%20%20%20%20%20%20%20%20%20%20%7B%22sticky%22%3A%20true%7D%0A%20%20%20%20%20%20%20%20%29%3B%0A%20%20%20%20%20%20%20%20%0A%20%20%20%20%0A%20%20%20%20%20%20%20%20var%20marker_b08687f4227242fc85249ca1199bac4d%20%3D%20L.marker%28%0A%20%20%20%20%20%20%20%20%20%20%20%20%5B40.650002%2C%20-73.949997%5D%2C%0A%20%20%20%20%20%20%20%20%20%20%20%20%7B%0A%20%20%20%20%20%20%20%20%20%20%20%20%20%20%20%20icon%3A%20new%20L.Icon.Default%28%29%2C%0A%20%20%20%20%20%20%20%20%20%20%20%20%20%20%20%20%7D%0A%20%20%20%20%20%20%20%20%20%20%20%20%29.addTo%28map_5a0857f4c4e64b3fb67faaae2b9db9d6%29%3B%0A%20%20%20%20%20%20%20%20%0A%20%20%20%20%0A%0A%20%20%20%20%20%20%20%20%20%20%20%20%20%20%20%20var%20icon_d170da70fe094c1a917a6bc3e20d7512%20%3D%20L.AwesomeMarkers.icon%28%7B%0A%20%20%20%20%20%20%20%20%20%20%20%20%20%20%20%20%20%20%20%20icon%3A%20%27tint%27%2C%0A%20%20%20%20%20%20%20%20%20%20%20%20%20%20%20%20%20%20%20%20iconColor%3A%20%27white%27%2C%0A%20%20%20%20%20%20%20%20%20%20%20%20%20%20%20%20%20%20%20%20markerColor%3A%20%27black%27%2C%0A%20%20%20%20%20%20%20%20%20%20%20%20%20%20%20%20%20%20%20%20prefix%3A%20%27fa%27%2C%0A%20%20%20%20%20%20%20%20%20%20%20%20%20%20%20%20%20%20%20%20extraClasses%3A%20%27fa-rotate-2%27%0A%20%20%20%20%20%20%20%20%20%20%20%20%20%20%20%20%20%20%20%20%7D%29%3B%0A%20%20%20%20%20%20%20%20%20%20%20%20%20%20%20%20marker_b08687f4227242fc85249ca1199bac4d.setIcon%28icon_d170da70fe094c1a917a6bc3e20d7512%29%3B%0A%20%20%20%20%20%20%20%20%20%20%20%20%0A%20%20%20%20%0A%20%20%20%20%20%20%20%20%20%20%20%20var%20popup_d75d4f55075a4cb9b4cdb5ca3abe9534%20%3D%20L.popup%28%7BmaxWidth%3A%20%27100%25%27%0A%20%20%20%20%20%20%20%20%20%20%20%20%0A%20%20%20%20%20%20%20%20%20%20%20%20%7D%29%3B%0A%0A%20%20%20%20%20%20%20%20%20%20%20%20%0A%20%20%20%20%20%20%20%20%20%20%20%20%20%20%20%20var%20html_2b065b651ad94b84b601f880756db8fc%20%3D%20%24%28%60%3Cdiv%20id%3D%22html_2b065b651ad94b84b601f880756db8fc%22%20style%3D%22width%3A%20100.0%25%3B%20height%3A%20100.0%25%3B%22%3EBrooklyn%3C/div%3E%60%29%5B0%5D%3B%0A%20%20%20%20%20%20%20%20%20%20%20%20%20%20%20%20popup_d75d4f55075a4cb9b4cdb5ca3abe9534.setContent%28html_2b065b651ad94b84b601f880756db8fc%29%3B%0A%20%20%20%20%20%20%20%20%20%20%20%20%0A%0A%20%20%20%20%20%20%20%20%20%20%20%20marker_b08687f4227242fc85249ca1199bac4d.bindPopup%28popup_d75d4f55075a4cb9b4cdb5ca3abe9534%29%0A%20%20%20%20%20%20%20%20%20%20%20%20%3B%0A%0A%20%20%20%20%20%20%20%20%20%20%20%20%0A%20%20%20%20%20%20%20%20%0A%20%20%20%20%0A%20%20%20%20%20%20%20%20marker_b08687f4227242fc85249ca1199bac4d.bindTooltip%28%0A%20%20%20%20%20%20%20%20%20%20%20%20%60%3Cdiv%3E%60%0A%20%20%20%20%20%20%20%20%20%20%20%20%2B%20%60click%20to%20know%20name%60%20%2B%20%60%3C/div%3E%60%2C%0A%20%20%20%20%20%20%20%20%20%20%20%20%7B%22sticky%22%3A%20true%7D%0A%20%20%20%20%20%20%20%20%29%3B%0A%20%20%20%20%20%20%20%20%0A%20%20%20%20%0A%20%20%20%20%20%20%20%20var%20marker_ca635ef9e04044c1934a91c92f6b5573%20%3D%20L.marker%28%0A%20%20%20%20%20%20%20%20%20%20%20%20%5B40.754932%2C%20-73.984016%5D%2C%0A%20%20%20%20%20%20%20%20%20%20%20%20%7B%0A%20%20%20%20%20%20%20%20%20%20%20%20%20%20%20%20icon%3A%20new%20L.Icon.Default%28%29%2C%0A%20%20%20%20%20%20%20%20%20%20%20%20%20%20%20%20%7D%0A%20%20%20%20%20%20%20%20%20%20%20%20%29.addTo%28map_5a0857f4c4e64b3fb67faaae2b9db9d6%29%3B%0A%20%20%20%20%20%20%20%20%0A%20%20%20%20%0A%0A%20%20%20%20%20%20%20%20%20%20%20%20%20%20%20%20var%20icon_5f8a06767c9c42748d7f8c84ff604f94%20%3D%20L.AwesomeMarkers.icon%28%7B%0A%20%20%20%20%20%20%20%20%20%20%20%20%20%20%20%20%20%20%20%20icon%3A%20%27tint%27%2C%0A%20%20%20%20%20%20%20%20%20%20%20%20%20%20%20%20%20%20%20%20iconColor%3A%20%27white%27%2C%0A%20%20%20%20%20%20%20%20%20%20%20%20%20%20%20%20%20%20%20%20markerColor%3A%20%27black%27%2C%0A%20%20%20%20%20%20%20%20%20%20%20%20%20%20%20%20%20%20%20%20prefix%3A%20%27fa%27%2C%0A%20%20%20%20%20%20%20%20%20%20%20%20%20%20%20%20%20%20%20%20extraClasses%3A%20%27fa-rotate-2%27%0A%20%20%20%20%20%20%20%20%20%20%20%20%20%20%20%20%20%20%20%20%7D%29%3B%0A%20%20%20%20%20%20%20%20%20%20%20%20%20%20%20%20marker_ca635ef9e04044c1934a91c92f6b5573.setIcon%28icon_5f8a06767c9c42748d7f8c84ff604f94%29%3B%0A%20%20%20%20%20%20%20%20%20%20%20%20%0A%20%20%20%20%0A%20%20%20%20%20%20%20%20%20%20%20%20var%20popup_dc91cc89e2bc4e0fa966e18d6dc762e1%20%3D%20L.popup%28%7BmaxWidth%3A%20%27100%25%27%0A%20%20%20%20%20%20%20%20%20%20%20%20%0A%20%20%20%20%20%20%20%20%20%20%20%20%7D%29%3B%0A%0A%20%20%20%20%20%20%20%20%20%20%20%20%0A%20%20%20%20%20%20%20%20%20%20%20%20%20%20%20%20var%20html_45e80171b8e743c6be3a2f64cb569be2%20%3D%20%24%28%60%3Cdiv%20id%3D%22html_45e80171b8e743c6be3a2f64cb569be2%22%20style%3D%22width%3A%20100.0%25%3B%20height%3A%20100.0%25%3B%22%3EManhattan%3C/div%3E%60%29%5B0%5D%3B%0A%20%20%20%20%20%20%20%20%20%20%20%20%20%20%20%20popup_dc91cc89e2bc4e0fa966e18d6dc762e1.setContent%28html_45e80171b8e743c6be3a2f64cb569be2%29%3B%0A%20%20%20%20%20%20%20%20%20%20%20%20%0A%0A%20%20%20%20%20%20%20%20%20%20%20%20marker_ca635ef9e04044c1934a91c92f6b5573.bindPopup%28popup_dc91cc89e2bc4e0fa966e18d6dc762e1%29%0A%20%20%20%20%20%20%20%20%20%20%20%20%3B%0A%0A%20%20%20%20%20%20%20%20%20%20%20%20%0A%20%20%20%20%20%20%20%20%0A%20%20%20%20%0A%20%20%20%20%20%20%20%20marker_ca635ef9e04044c1934a91c92f6b5573.bindTooltip%28%0A%20%20%20%20%20%20%20%20%20%20%20%20%60%3Cdiv%3E%60%0A%20%20%20%20%20%20%20%20%20%20%20%20%2B%20%60click%20to%20know%20name%60%20%2B%20%60%3C/div%3E%60%2C%0A%20%20%20%20%20%20%20%20%20%20%20%20%7B%22sticky%22%3A%20true%7D%0A%20%20%20%20%20%20%20%20%29%3B%0A%20%20%20%20%20%20%20%20%0A%20%20%20%20%0A%20%20%20%20%20%20%20%20var%20marker_b99420aeac2d4c9183e03d4d6b65f5ab%20%3D%20L.marker%28%0A%20%20%20%20%20%20%20%20%20%20%20%20%5B40.742054%2C%20-73.769417%5D%2C%0A%20%20%20%20%20%20%20%20%20%20%20%20%7B%0A%20%20%20%20%20%20%20%20%20%20%20%20%20%20%20%20icon%3A%20new%20L.Icon.Default%28%29%2C%0A%20%20%20%20%20%20%20%20%20%20%20%20%20%20%20%20%7D%0A%20%20%20%20%20%20%20%20%20%20%20%20%29.addTo%28map_5a0857f4c4e64b3fb67faaae2b9db9d6%29%3B%0A%20%20%20%20%20%20%20%20%0A%20%20%20%20%0A%0A%20%20%20%20%20%20%20%20%20%20%20%20%20%20%20%20var%20icon_a9410b16652b4ef78a0d298d3ef4cce1%20%3D%20L.AwesomeMarkers.icon%28%7B%0A%20%20%20%20%20%20%20%20%20%20%20%20%20%20%20%20%20%20%20%20icon%3A%20%27tint%27%2C%0A%20%20%20%20%20%20%20%20%20%20%20%20%20%20%20%20%20%20%20%20iconColor%3A%20%27white%27%2C%0A%20%20%20%20%20%20%20%20%20%20%20%20%20%20%20%20%20%20%20%20markerColor%3A%20%27black%27%2C%0A%20%20%20%20%20%20%20%20%20%20%20%20%20%20%20%20%20%20%20%20prefix%3A%20%27fa%27%2C%0A%20%20%20%20%20%20%20%20%20%20%20%20%20%20%20%20%20%20%20%20extraClasses%3A%20%27fa-rotate-2%27%0A%20%20%20%20%20%20%20%20%20%20%20%20%20%20%20%20%20%20%20%20%7D%29%3B%0A%20%20%20%20%20%20%20%20%20%20%20%20%20%20%20%20marker_b99420aeac2d4c9183e03d4d6b65f5ab.setIcon%28icon_a9410b16652b4ef78a0d298d3ef4cce1%29%3B%0A%20%20%20%20%20%20%20%20%20%20%20%20%0A%20%20%20%20%0A%20%20%20%20%20%20%20%20%20%20%20%20var%20popup_e4ec9be56bdc4ec399718ff74b547eed%20%3D%20L.popup%28%7BmaxWidth%3A%20%27100%25%27%0A%20%20%20%20%20%20%20%20%20%20%20%20%0A%20%20%20%20%20%20%20%20%20%20%20%20%7D%29%3B%0A%0A%20%20%20%20%20%20%20%20%20%20%20%20%0A%20%20%20%20%20%20%20%20%20%20%20%20%20%20%20%20var%20html_262534fe09d447f29f2f3d446dea3180%20%3D%20%24%28%60%3Cdiv%20id%3D%22html_262534fe09d447f29f2f3d446dea3180%22%20style%3D%22width%3A%20100.0%25%3B%20height%3A%20100.0%25%3B%22%3EQueens%3C/div%3E%60%29%5B0%5D%3B%0A%20%20%20%20%20%20%20%20%20%20%20%20%20%20%20%20popup_e4ec9be56bdc4ec399718ff74b547eed.setContent%28html_262534fe09d447f29f2f3d446dea3180%29%3B%0A%20%20%20%20%20%20%20%20%20%20%20%20%0A%0A%20%20%20%20%20%20%20%20%20%20%20%20marker_b99420aeac2d4c9183e03d4d6b65f5ab.bindPopup%28popup_e4ec9be56bdc4ec399718ff74b547eed%29%0A%20%20%20%20%20%20%20%20%20%20%20%20%3B%0A%0A%20%20%20%20%20%20%20%20%20%20%20%20%0A%20%20%20%20%20%20%20%20%0A%20%20%20%20%0A%20%20%20%20%20%20%20%20marker_b99420aeac2d4c9183e03d4d6b65f5ab.bindTooltip%28%0A%20%20%20%20%20%20%20%20%20%20%20%20%60%3Cdiv%3E%60%0A%20%20%20%20%20%20%20%20%20%20%20%20%2B%20%60click%20to%20know%20name%60%20%2B%20%60%3C/div%3E%60%2C%0A%20%20%20%20%20%20%20%20%20%20%20%20%7B%22sticky%22%3A%20true%7D%0A%20%20%20%20%20%20%20%20%29%3B%0A%20%20%20%20%20%20%20%20%0A%20%20%20%20%0A%20%20%20%20%20%20%20%20var%20marker_88e7f7cd25454ad98226d5d3653b6da9%20%3D%20L.marker%28%0A%20%20%20%20%20%20%20%20%20%20%20%20%5B40.579021%2C%20-74.151535%5D%2C%0A%20%20%20%20%20%20%20%20%20%20%20%20%7B%0A%20%20%20%20%20%20%20%20%20%20%20%20%20%20%20%20icon%3A%20new%20L.Icon.Default%28%29%2C%0A%20%20%20%20%20%20%20%20%20%20%20%20%20%20%20%20%7D%0A%20%20%20%20%20%20%20%20%20%20%20%20%29.addTo%28map_5a0857f4c4e64b3fb67faaae2b9db9d6%29%3B%0A%20%20%20%20%20%20%20%20%0A%20%20%20%20%0A%0A%20%20%20%20%20%20%20%20%20%20%20%20%20%20%20%20var%20icon_edb55cdd0c3b41568f115d351e49d4e7%20%3D%20L.AwesomeMarkers.icon%28%7B%0A%20%20%20%20%20%20%20%20%20%20%20%20%20%20%20%20%20%20%20%20icon%3A%20%27tint%27%2C%0A%20%20%20%20%20%20%20%20%20%20%20%20%20%20%20%20%20%20%20%20iconColor%3A%20%27white%27%2C%0A%20%20%20%20%20%20%20%20%20%20%20%20%20%20%20%20%20%20%20%20markerColor%3A%20%27black%27%2C%0A%20%20%20%20%20%20%20%20%20%20%20%20%20%20%20%20%20%20%20%20prefix%3A%20%27fa%27%2C%0A%20%20%20%20%20%20%20%20%20%20%20%20%20%20%20%20%20%20%20%20extraClasses%3A%20%27fa-rotate-2%27%0A%20%20%20%20%20%20%20%20%20%20%20%20%20%20%20%20%20%20%20%20%7D%29%3B%0A%20%20%20%20%20%20%20%20%20%20%20%20%20%20%20%20marker_88e7f7cd25454ad98226d5d3653b6da9.setIcon%28icon_edb55cdd0c3b41568f115d351e49d4e7%29%3B%0A%20%20%20%20%20%20%20%20%20%20%20%20%0A%20%20%20%20%0A%20%20%20%20%20%20%20%20%20%20%20%20var%20popup_59283c77d4e845c68e72287607f05abc%20%3D%20L.popup%28%7BmaxWidth%3A%20%27100%25%27%0A%20%20%20%20%20%20%20%20%20%20%20%20%0A%20%20%20%20%20%20%20%20%20%20%20%20%7D%29%3B%0A%0A%20%20%20%20%20%20%20%20%20%20%20%20%0A%20%20%20%20%20%20%20%20%20%20%20%20%20%20%20%20var%20html_aa8d4db9803f4a10837fa2f6e8798e01%20%3D%20%24%28%60%3Cdiv%20id%3D%22html_aa8d4db9803f4a10837fa2f6e8798e01%22%20style%3D%22width%3A%20100.0%25%3B%20height%3A%20100.0%25%3B%22%3EStaten%20Island%3C/div%3E%60%29%5B0%5D%3B%0A%20%20%20%20%20%20%20%20%20%20%20%20%20%20%20%20popup_59283c77d4e845c68e72287607f05abc.setContent%28html_aa8d4db9803f4a10837fa2f6e8798e01%29%3B%0A%20%20%20%20%20%20%20%20%20%20%20%20%0A%0A%20%20%20%20%20%20%20%20%20%20%20%20marker_88e7f7cd25454ad98226d5d3653b6da9.bindPopup%28popup_59283c77d4e845c68e72287607f05abc%29%0A%20%20%20%20%20%20%20%20%20%20%20%20%3B%0A%0A%20%20%20%20%20%20%20%20%20%20%20%20%0A%20%20%20%20%20%20%20%20%0A%20%20%20%20%0A%20%20%20%20%20%20%20%20marker_88e7f7cd25454ad98226d5d3653b6da9.bindTooltip%28%0A%20%20%20%20%20%20%20%20%20%20%20%20%60%3Cdiv%3E%60%0A%20%20%20%20%20%20%20%20%20%20%20%20%2B%20%60click%20to%20know%20name%60%20%2B%20%60%3C/div%3E%60%2C%0A%20%20%20%20%20%20%20%20%20%20%20%20%7B%22sticky%22%3A%20true%7D%0A%20%20%20%20%20%20%20%20%29%3B%0A%20%20%20%20%20%20%20%20%0A%3C/script%3E onload=\"this.contentDocument.open();this.contentDocument.write(    decodeURIComponent(this.getAttribute('data-html')));this.contentDocument.close();\" allowfullscreen webkitallowfullscreen mozallowfullscreen></iframe></div></div>"
            ],
            "text/plain": [
              "<folium.folium.Map at 0x7f2f9225b750>"
            ]
          },
          "metadata": {},
          "execution_count": 34
        }
      ]
    },
    {
      "cell_type": "markdown",
      "source": [
        "Make this Notebook Trusted to load map: File -> Trust Notebook\n",
        "\n",
        "So, the amalgamation of these 5 boroughs together form The New York City."
      ],
      "metadata": {
        "id": "THZTixwZIIpW"
      }
    },
    {
      "cell_type": "markdown",
      "source": [
        "\n",
        "# No. of apartments in different neighbourhood_groups"
      ],
      "metadata": {
        "id": "tZq2xdEe3KC1"
      }
    },
    {
      "cell_type": "code",
      "source": [
        "air_df.groupby('neighbourhood_group')['name'].count().plot(kind='barh')\n",
        "plt.title('No.of apartments in different neighbourhood_groups')\n",
        "plt.ylabel('<.....Neighbourhood Groups....>')\n",
        "plt.xlabel('<.....Number of apartments....>')\n",
        "plt.show()"
      ],
      "metadata": {
        "colab": {
          "base_uri": "https://localhost:8080/"
        },
        "id": "GHbgSBm4276_",
        "outputId": "f509680c-8231-41c9-b453-17a1752c9c11"
      },
      "execution_count": null,
      "outputs": [
        {
          "output_type": "display_data",
          "data": {
            "image/png": "[encoded data removed]",
            "text/plain": [
              "<Figure size 432x288 with 1 Axes>"
            ]
          },
          "metadata": {
            "needs_background": "light"
          }
        }
      ]
    },
    {
      "cell_type": "markdown",
      "source": [
        "**Ranking of Neighbourhood Groups having the highest number of apartments**\n",
        "\n",
        "1.Manhattan\n",
        "\n",
        "2.Brooklyn\n",
        "\n",
        "3.Queens\n",
        "\n",
        "4.Bronx\n",
        "\n",
        "5.Staten Island"
      ],
      "metadata": {
        "id": "qpq2pAjz32yk"
      }
    },
    {
      "cell_type": "markdown",
      "source": [
        "# Price of apartments varying in different neighbourhood groups "
      ],
      "metadata": {
        "id": "pbZImpoa4Yil"
      }
    },
    {
      "cell_type": "code",
      "source": [
        "air_df.groupby('neighbourhood_group')['price'].mean().plot.bar()\n",
        "plt.title('PRICES IN DIFFERENT NEIGHBOURHOOD_GROUPS')\n",
        "plt.xlabel('<....Neighbourhood_groups....>')\n",
        "plt.ylabel('<....Price....>')\n",
        "plt.show()"
      ],
      "metadata": {
        "colab": {
          "base_uri": "https://localhost:8080/"
        },
        "id": "NIDFBs4i3lz7",
        "outputId": "d8738bee-1c49-4892-a7bb-1e57d12e8729"
      },
      "execution_count": null,
      "outputs": [
        {
          "output_type": "display_data",
          "data": {
            "image/png": "[encoded data removed]",
            "text/plain": [
              "<Figure size 432x288 with 1 Axes>"
            ]
          },
          "metadata": {
            "needs_background": "light"
          }
        }
      ]
    },
    {
      "cell_type": "markdown",
      "source": [
        "**Ranking of Neighbourhood Groups having the highest price for apartments**\n",
        "\n",
        "1.Manhattan\n",
        "\n",
        "2.Brooklyn\n",
        "\n",
        "3.Queens\n",
        "\n",
        "4.Staten Island\n",
        "\n",
        "5.Bronx"
      ],
      "metadata": {
        "id": "CQtApzZR4mT8"
      }
    },
    {
      "cell_type": "markdown",
      "source": [
        "# Percentage of room types in every neighbourhood groups "
      ],
      "metadata": {
        "id": "xwsOVsPN5LmW"
      }
    },
    {
      "cell_type": "code",
      "source": [
        "#  Percentage of Room Types in Bronx \n",
        "\n",
        "bronx = air_df[air_df['neighbourhood_group']=='Bronx']\n",
        "(bronx['room_type'].value_counts(normalize=True)*100).plot.pie(radius = 1, autopct = '%0.2f%%')\n",
        "plt.title('<.....% OF ROOM TYPES IN BRONX....>')\n",
        "plt.show()"
      ],
      "metadata": {
        "colab": {
          "base_uri": "https://localhost:8080/"
        },
        "id": "eGg3e87j4fvm",
        "outputId": "fe6415b5-e363-4f70-d389-d755dd35252f"
      },
      "execution_count": null,
      "outputs": [
        {
          "output_type": "display_data",
          "data": {
            "image/png": "[encoded data removed]",
            "text/plain": [
              "<Figure size 432x288 with 1 Axes>"
            ]
          },
          "metadata": {}
        }
      ]
    },
    {
      "cell_type": "code",
      "source": [
        "#  Percentage of Room Types in Manhattan \n",
        "\n",
        "manhattan = air_df[air_df['neighbourhood_group']=='Manhattan']\n",
        "(manhattan['room_type'].value_counts(normalize=True)*100).plot.pie(radius = 1, autopct = '%0.2f%%')\n",
        "plt.title('<.....% OF ROOM TYPES IN MANHATTAN....>')\n",
        "plt.show()"
      ],
      "metadata": {
        "colab": {
          "base_uri": "https://localhost:8080/"
        },
        "id": "tQNa2a2z5YSO",
        "outputId": "1788be70-bb70-4204-b8d6-127945eadd1f"
      },
      "execution_count": null,
      "outputs": [
        {
          "output_type": "display_data",
          "data": {
            "image/png": "[encoded data removed]",
            "text/plain": [
              "<Figure size 432x288 with 1 Axes>"
            ]
          },
          "metadata": {}
        }
      ]
    },
    {
      "cell_type": "code",
      "source": [
        "# Percentage of Room Types in Brooklyn \n",
        "\n",
        "brooklyn = air_df[air_df['neighbourhood_group']=='Brooklyn']\n",
        "(brooklyn['room_type'].value_counts(normalize=True)*100).plot.pie(radius = 1, autopct = '%0.2f%%')\n",
        "plt.title('<.....% OF ROOM TYPES IN BROOKLYN....>')\n",
        "plt.show()"
      ],
      "metadata": {
        "colab": {
          "base_uri": "https://localhost:8080/"
        },
        "id": "gYDSiA145puv",
        "outputId": "533c9390-eda6-4d50-b256-d32d8310ee1e"
      },
      "execution_count": null,
      "outputs": [
        {
          "output_type": "display_data",
          "data": {
            "image/png": "[encoded data removed]",
            "text/plain": [
              "<Figure size 432x288 with 1 Axes>"
            ]
          },
          "metadata": {}
        }
      ]
    },
    {
      "cell_type": "code",
      "source": [
        "# Percentage of Room Types in Queens \n",
        "\n",
        "queens = air_df[air_df['neighbourhood_group']=='Queens']\n",
        "(queens['room_type'].value_counts(normalize=True)*100).plot.pie(radius = 1, autopct = '%0.2f%%')\n",
        "plt.title('<.....% OF ROOM TYPES IN QUEENS....>')\n",
        "plt.show()"
      ],
      "metadata": {
        "colab": {
          "base_uri": "https://localhost:8080/"
        },
        "id": "pJjKq5W-5wuS",
        "outputId": "3c55a112-5a80-4ac8-a177-456e03e066b9"
      },
      "execution_count": null,
      "outputs": [
        {
          "output_type": "display_data",
          "data": {
            "image/png": "[encoded data removed]",
            "text/plain": [
              "<Figure size 432x288 with 1 Axes>"
            ]
          },
          "metadata": {}
        }
      ]
    },
    {
      "cell_type": "code",
      "source": [
        "# Percentage of Room Types in Staten Island \n",
        "\n",
        "statenisland = air_df[air_df['neighbourhood_group']=='Staten Island']\n",
        "(statenisland['room_type'].value_counts(normalize=True)*100).plot.pie(radius = 1, autopct = '%0.2f%%')\n",
        "plt.title('<.....% OF ROOM TYPES IN Staten Island....>')\n",
        "plt.show()\n"
      ],
      "metadata": {
        "colab": {
          "base_uri": "https://localhost:8080/"
        },
        "id": "yBbbXz0454Dt",
        "outputId": "444b6440-9cc3-4c33-b8a4-14c7717d7aad"
      },
      "execution_count": null,
      "outputs": [
        {
          "output_type": "display_data",
          "data": {
            "image/png": "[encoded data removed]",
            "text/plain": [
              "<Figure size 432x288 with 1 Axes>"
            ]
          },
          "metadata": {}
        }
      ]
    },
    {
      "cell_type": "markdown",
      "source": [
        "## Plotting the Line Graph of all types of rooms in neightbourhood groups "
      ],
      "metadata": {
        "id": "Ud6rmpuG6oqs"
      }
    },
    {
      "cell_type": "code",
      "source": [
        "(air_df.groupby('neighbourhood_group')['room_type'].value_counts(normalize=True)*100).unstack().plot()\n",
        "plt.title('<......% OF TYPES OF ROOMS IN ALL NEIGHBOURHOOD_GROUPS......> ')\n",
        "plt.ylabel('<....% of room types.....>')\n",
        "plt.show()"
      ],
      "metadata": {
        "colab": {
          "base_uri": "https://localhost:8080/"
        },
        "id": "0NY3YOYY6B0r",
        "outputId": "c6a998b2-0457-432f-cc3b-951a285e1ada"
      },
      "execution_count": null,
      "outputs": [
        {
          "output_type": "display_data",
          "data": {
            "image/png": "[encoded data removed]",
            "text/plain": [
              "<Figure size 432x288 with 1 Axes>"
            ]
          },
          "metadata": {
            "needs_background": "light"
          }
        }
      ]
    },
    {
      "cell_type": "markdown",
      "source": [
        "# Prices of room types in different neighbourhood group individually "
      ],
      "metadata": {
        "id": "LL-tLqPJ6zUF"
      }
    },
    {
      "cell_type": "code",
      "source": [
        "# Prices in Bronx according to room types\n",
        "\n",
        "APbronx= bronx.groupby('room_type')['price'].mean().plot.bar(color = ['blue', 'yellow', 'red'])\n",
        "plt.title('<......average prices of room types in BRONX....>')\n",
        "plt.ylabel('<.....average price......>')\n",
        "plt.show()"
      ],
      "metadata": {
        "colab": {
          "base_uri": "https://localhost:8080/"
        },
        "id": "7esgQ7VN6v6R",
        "outputId": "e1cee5f9-a42c-49b6-bf73-d5f33140d32b"
      },
      "execution_count": null,
      "outputs": [
        {
          "output_type": "display_data",
          "data": {
            "image/png": "[encoded data removed]",
            "text/plain": [
              "<Figure size 432x288 with 1 Axes>"
            ]
          },
          "metadata": {
            "needs_background": "light"
          }
        }
      ]
    },
    {
      "cell_type": "code",
      "source": [
        "# Prices in Manhattan\n",
        "\n",
        "manhattan.groupby('room_type')['price'].mean().plot.bar(color=['blue','yellow','red'])\n",
        "plt.title('<......average prices of room types in MANHATTAN....>')\n",
        "plt.ylabel('<.....average price......>')\n",
        "plt.show()"
      ],
      "metadata": {
        "colab": {
          "base_uri": "https://localhost:8080/"
        },
        "id": "SaB8n3v07NcJ",
        "outputId": "cff66a3c-52ba-4b6d-942a-be74dd5d9fb5"
      },
      "execution_count": null,
      "outputs": [
        {
          "output_type": "display_data",
          "data": {
            "image/png": "[encoded data removed]",
            "text/plain": [
              "<Figure size 432x288 with 1 Axes>"
            ]
          },
          "metadata": {
            "needs_background": "light"
          }
        }
      ]
    },
    {
      "cell_type": "code",
      "source": [
        "# prices in Brooklyn\n",
        "\n",
        "brooklyn.groupby('room_type')['price'].mean().plot.bar(color=['blue','yellow','red'])\n",
        "plt.title('<......average prices of room types in BROOKLYN....>')\n",
        "plt.ylabel('<.....average price......>')\n",
        "plt.show()"
      ],
      "metadata": {
        "colab": {
          "base_uri": "https://localhost:8080/"
        },
        "id": "pQwVJzao7WIl",
        "outputId": "7857f345-01db-47b7-bbe8-0e0ea3f43346"
      },
      "execution_count": null,
      "outputs": [
        {
          "output_type": "display_data",
          "data": {
            "image/png": "[encoded data removed]",
            "text/plain": [
              "<Figure size 432x288 with 1 Axes>"
            ]
          },
          "metadata": {
            "needs_background": "light"
          }
        }
      ]
    },
    {
      "cell_type": "code",
      "source": [
        "#  Prices in Queens \n",
        "\n",
        "queens.groupby('room_type')['price'].mean().plot.bar(color=['blue','yellow','red'])\n",
        "plt.title('<......average prices of room types in QUEENS....>')\n",
        "plt.ylabel('<.....average price......>')\n",
        "plt.show()"
      ],
      "metadata": {
        "colab": {
          "base_uri": "https://localhost:8080/"
        },
        "id": "ujdx_JUG7ac4",
        "outputId": "d2920476-d5d9-4ca9-c004-94635052b45f"
      },
      "execution_count": null,
      "outputs": [
        {
          "output_type": "display_data",
          "data": {
            "image/png": "[encoded data removed]",
            "text/plain": [
              "<Figure size 432x288 with 1 Axes>"
            ]
          },
          "metadata": {
            "needs_background": "light"
          }
        }
      ]
    },
    {
      "cell_type": "code",
      "source": [
        "#  Prices in Staten Island \n",
        "\n",
        "statenisland.groupby('room_type')['price'].mean().plot.bar(color=['blue','yellow','red'])\n",
        "plt.title('<......average prices of room types in STATEN ISLAND....>')\n",
        "plt.ylabel('<.....average price......>')\n",
        "plt.show()"
      ],
      "metadata": {
        "colab": {
          "base_uri": "https://localhost:8080/"
        },
        "id": "eTlil3ya7ua0",
        "outputId": "ef6a572e-4a78-48c5-f358-a3e685ea0dc5"
      },
      "execution_count": null,
      "outputs": [
        {
          "output_type": "display_data",
          "data": {
            "image/png": "[encoded data removed]",
            "text/plain": [
              "<Figure size 432x288 with 1 Axes>"
            ]
          },
          "metadata": {
            "needs_background": "light"
          }
        }
      ]
    },
    {
      "cell_type": "markdown",
      "source": [
        "# Comparing the prices of room types for different neighborhood groups"
      ],
      "metadata": {
        "id": "d23BH3NY7412"
      }
    },
    {
      "cell_type": "code",
      "source": [
        "# Prices Of Entire Home Apartment \n",
        "\n",
        "entirehome = air_df[air_df['room_type']=='Entire home/apt']\n",
        "entirehome.groupby('neighbourhood_group')['price'].mean().plot.bar(color='orange')\n",
        "plt.title('<.....average prices of ENTIRE HOME APT.......> ')\n",
        "plt.ylabel('<----prices----->')\n",
        "plt.show()"
      ],
      "metadata": {
        "colab": {
          "base_uri": "https://localhost:8080/"
        },
        "id": "zkUUQsbt7yiR",
        "outputId": "d50570d1-5e1b-4cfe-a4ff-e215383e1da2"
      },
      "execution_count": null,
      "outputs": [
        {
          "output_type": "display_data",
          "data": {
            "image/png": "[encoded data removed]",
            "text/plain": [
              "<Figure size 432x288 with 1 Axes>"
            ]
          },
          "metadata": {
            "needs_background": "light"
          }
        }
      ]
    },
    {
      "cell_type": "code",
      "source": [
        "# Prices Of Private Rooms \n",
        "\n",
        "privateroom=air_df[air_df['room_type']=='Private room']\n",
        "privateroom.groupby('neighbourhood_group')['price'].mean().plot.bar(color='red')\n",
        "plt.title('<.....average prices of PRIVATE ROOMS .......> ')\n",
        "plt.ylabel('<-----PRICES----->')\n",
        "plt.show()"
      ],
      "metadata": {
        "colab": {
          "base_uri": "https://localhost:8080/"
        },
        "id": "EUzeIZKF8T02",
        "outputId": "ce5a3776-dc17-481a-95e1-210a1ada6f44"
      },
      "execution_count": null,
      "outputs": [
        {
          "output_type": "display_data",
          "data": {
            "image/png": "[encoded data removed]",
            "text/plain": [
              "<Figure size 432x288 with 1 Axes>"
            ]
          },
          "metadata": {
            "needs_background": "light"
          }
        }
      ]
    },
    {
      "cell_type": "code",
      "source": [
        "# Prices Of Shared Rooms \n",
        "\n",
        "sharedroom = air_df[air_df['room_type']=='Shared room']\n",
        "sharedroom.groupby('neighbourhood_group')['price'].mean().plot.bar(color='green')\n",
        "plt.title('<.....average prices of SHARED ROOMS .......> ')\n",
        "plt.ylabel('<-----PRICES----->')\n",
        "plt.show()"
      ],
      "metadata": {
        "colab": {
          "base_uri": "https://localhost:8080/"
        },
        "id": "pi2SZn088daO",
        "outputId": "fe5c5e91-11bf-47c2-a27b-ce6af4533191"
      },
      "execution_count": null,
      "outputs": [
        {
          "output_type": "display_data",
          "data": {
            "image/png": "[encoded data removed]",
            "text/plain": [
              "<Figure size 432x288 with 1 Axes>"
            ]
          },
          "metadata": {
            "needs_background": "light"
          }
        }
      ]
    },
    {
      "cell_type": "code",
      "source": [
        "# Final Comarision By Bar Graph \n",
        "\n",
        "air_df.groupby(['neighbourhood_group','room_type'])['price'].mean().unstack().plot.bar(color=['green','red','orange'])\n",
        "plt.title('<-----prices of room types in different neghbourhood groups----->')\n",
        "plt.ylabel('<----PRICE------->')\n",
        "plt.show()"
      ],
      "metadata": {
        "colab": {
          "base_uri": "https://localhost:8080/"
        },
        "id": "VJGLbKE188A9",
        "outputId": "9e8ae4a8-229a-4ce7-a113-e90400e29983"
      },
      "execution_count": null,
      "outputs": [
        {
          "output_type": "display_data",
          "data": {
            "image/png": "[encoded data removed]",
            "text/plain": [
              "<Figure size 432x288 with 1 Axes>"
            ]
          },
          "metadata": {
            "needs_background": "light"
          }
        }
      ]
    },
    {
      "cell_type": "markdown",
      "source": [
        "**From the above graph We can conclude the the prices in Manhattan are very much high in comparison to other neighbourhood groups.**"
      ],
      "metadata": {
        "id": "0yR0cfOK9tRF"
      }
    },
    {
      "cell_type": "markdown",
      "source": [
        "# Room type people prefer the most for staying"
      ],
      "metadata": {
        "id": "436T30jr-CJR"
      }
    },
    {
      "cell_type": "code",
      "source": [
        "most_stayed_rooms = air_df.groupby('room_type')['minimum_nights'].sum()\n",
        "print(most_stayed_rooms)\n",
        "most_stayed_rooms.plot.barh(color=['blue','orange','red'])\n",
        "plt.show()"
      ],
      "metadata": {
        "colab": {
          "base_uri": "https://localhost:8080/"
        },
        "id": "0MMxblcN9oJW",
        "outputId": "a96a1bd3-cdee-4582-bc8e-8d33da86fe9e"
      },
      "execution_count": null,
      "outputs": [
        {
          "output_type": "stream",
          "name": "stdout",
          "text": [
            "room_type\n",
            "Entire home/apt    129486\n",
            "Private room        77170\n",
            "Shared room          3617\n",
            "Name: minimum_nights, dtype: int64\n"
          ]
        },
        {
          "output_type": "display_data",
          "data": {
            "image/png": "[encoded data removed]",
            "text/plain": [
              "<Figure size 432x288 with 1 Axes>"
            ]
          },
          "metadata": {
            "needs_background": "light"
          }
        }
      ]
    },
    {
      "cell_type": "markdown",
      "source": [
        "**From the above graph we have come to conclusion that people prefer Entire home/Apartment then private rooms & shared rooms and we get insights that people choose Comfort & Privacy over Low Price Rooms**"
      ],
      "metadata": {
        "id": "l9GMf2Xj-YUe"
      }
    },
    {
      "cell_type": "markdown",
      "source": [
        "# Neighborhood Group which got the most no. of visitors"
      ],
      "metadata": {
        "id": "8SNxtbjD_UZ_"
      }
    },
    {
      "cell_type": "code",
      "source": [
        "print(air_df.groupby('neighbourhood_group')['minimum_nights'].sum())\n",
        "air_df.groupby('neighbourhood_group')['minimum_nights'].sum().plot.bar(color='red')\n",
        "plt.title('<------------minimum nights spent in neighbourhood groups---------->')\n",
        "plt.ylabel('<------------minimum_nights-------------->')\n",
        "plt.show()"
      ],
      "metadata": {
        "colab": {
          "base_uri": "https://localhost:8080/"
        },
        "id": "a5_sUllE-O5u",
        "outputId": "c31f1e20-b03f-4517-e469-7947e5715d02"
      },
      "execution_count": null,
      "outputs": [
        {
          "output_type": "stream",
          "name": "stdout",
          "text": [
            "neighbourhood_group\n",
            "Bronx              3113\n",
            "Brooklyn          79806\n",
            "Manhattan        108657\n",
            "Queens            17758\n",
            "Staten Island       939\n",
            "Name: minimum_nights, dtype: int64\n"
          ]
        },
        {
          "output_type": "display_data",
          "data": {
            "image/png": "[encoded data removed]",
            "text/plain": [
              "<Figure size 432x288 with 1 Axes>"
            ]
          },
          "metadata": {
            "needs_background": "light"
          }
        }
      ]
    },
    {
      "cell_type": "markdown",
      "source": [
        "**The maximum no of people like to stay in Manhattan & Brookyln**"
      ],
      "metadata": {
        "id": "ddlqi843Bd-n"
      }
    },
    {
      "cell_type": "markdown",
      "source": [
        "# Correlation between price, minimum nights & no. of review"
      ],
      "metadata": {
        "id": "ThNMRWlfB1HP"
      }
    },
    {
      "cell_type": "code",
      "source": [
        "heat_map = air_df.loc[:,['price','minimum_nights','number_of_reviews']].corr()\n",
        "print(heat_map)\n",
        "sns.heatmap(heat_map,vmin= -1,annot=True, linewidth = 0.25,cmap=\"YlGnBu\")"
      ],
      "metadata": {
        "colab": {
          "base_uri": "https://localhost:8080/"
        },
        "id": "c2R62JNd_mR_",
        "outputId": "3509e0d1-4936-4477-e1f9-55b462f16144"
      },
      "execution_count": null,
      "outputs": [
        {
          "output_type": "stream",
          "name": "stdout",
          "text": [
            "                      price  minimum_nights  number_of_reviews\n",
            "price              1.000000        0.026576          -0.019324\n",
            "minimum_nights     0.026576        1.000000          -0.071633\n",
            "number_of_reviews -0.019324       -0.071633           1.000000\n"
          ]
        },
        {
          "output_type": "execute_result",
          "data": {
            "text/plain": [
              "<matplotlib.axes._subplots.AxesSubplot at 0x7f2f91c22d50>"
            ]
          },
          "metadata": {},
          "execution_count": 54
        },
        {
          "output_type": "display_data",
          "data": {
            "image/png": "[encoded data removed]",
            "text/plain": [
              "<Figure size 432x288 with 2 Axes>"
            ]
          },
          "metadata": {
            "needs_background": "light"
          }
        }
      ]
    },
    {
      "cell_type": "markdown",
      "source": [
        "**In the above heatmap we can see that there is negative correlation between price and no. of reviews and also between minimum nights and no. of reviews**"
      ],
      "metadata": {
        "id": "ReV_SQJpCjG1"
      }
    },
    {
      "cell_type": "markdown",
      "source": [
        "# Adding a new Column 'Year' so it will help us to Group the Data Yearly."
      ],
      "metadata": {
        "id": "ukFhZQYsDLOq"
      }
    },
    {
      "cell_type": "code",
      "source": [
        "# let's make a fucntion first for converting the dtype from date to string so we can extract the first four letter i.e year\n",
        "def extractyear(x):\n",
        "   x=datetime.strftime(x,'%Y-%m-%d')\n",
        "   return x[0:4]"
      ],
      "metadata": {
        "id": "xaYtWKfwCO9a"
      },
      "execution_count": null,
      "outputs": []
    },
    {
      "cell_type": "code",
      "source": [
        "# making a new column called 'year' \n",
        "\n",
        "air_df['year'] = air_df['last_review'].apply(lambda x:extractyear(x))"
      ],
      "metadata": {
        "id": "KsYgyaa1D_46"
      },
      "execution_count": null,
      "outputs": []
    },
    {
      "cell_type": "code",
      "source": [
        "# let's have a overview of our data\n",
        "air_df.head()"
      ],
      "metadata": {
        "colab": {
          "base_uri": "https://localhost:8080/"
        },
        "id": "9W1GGAfoEHkT",
        "outputId": "8cfaf6ad-9591-4a66-cbd9-c9f90336ca9a"
      },
      "execution_count": null,
      "outputs": [
        {
          "output_type": "execute_result",
          "data": {
            "text/html": [
              "\n",
              "  <div id=\"df-693eb719-1eff-48ed-a995-b55e2fc807ef\">\n",
              "    <div class=\"colab-df-container\">\n",
              "      <div>\n",
              "<style scoped>\n",
              "    .dataframe tbody tr th:only-of-type {\n",
              "        vertical-align: middle;\n",
              "    }\n",
              "\n",
              "    .dataframe tbody tr th {\n",
              "        vertical-align: top;\n",
              "    }\n",
              "\n",
              "    .dataframe thead th {\n",
              "        text-align: right;\n",
              "    }\n",
              "</style>\n",
              "<table border=\"1\" class=\"dataframe\">\n",
              "  <thead>\n",
              "    <tr style=\"text-align: right;\">\n",
              "      <th></th>\n",
              "      <th>id</th>\n",
              "      <th>name</th>\n",
              "      <th>host_id</th>\n",
              "      <th>host_name</th>\n",
              "      <th>neighbourhood_group</th>\n",
              "      <th>neighbourhood</th>\n",
              "      <th>latitude</th>\n",
              "      <th>longitude</th>\n",
              "      <th>room_type</th>\n",
              "      <th>price</th>\n",
              "      <th>minimum_nights</th>\n",
              "      <th>number_of_reviews</th>\n",
              "      <th>last_review</th>\n",
              "      <th>reviews_per_month</th>\n",
              "      <th>calculated_host_listings_count</th>\n",
              "      <th>availability_365</th>\n",
              "      <th>year</th>\n",
              "    </tr>\n",
              "  </thead>\n",
              "  <tbody>\n",
              "    <tr>\n",
              "      <th>0</th>\n",
              "      <td>2539</td>\n",
              "      <td>Clean &amp; quiet apt home by the park</td>\n",
              "      <td>2787</td>\n",
              "      <td>John</td>\n",
              "      <td>Brooklyn</td>\n",
              "      <td>Kensington</td>\n",
              "      <td>40.64749</td>\n",
              "      <td>-73.97237</td>\n",
              "      <td>Private room</td>\n",
              "      <td>149.0</td>\n",
              "      <td>1</td>\n",
              "      <td>9</td>\n",
              "      <td>2018-10-19</td>\n",
              "      <td>0.21</td>\n",
              "      <td>6</td>\n",
              "      <td>365.000000</td>\n",
              "      <td>2018</td>\n",
              "    </tr>\n",
              "    <tr>\n",
              "      <th>1</th>\n",
              "      <td>2595</td>\n",
              "      <td>Skylit Midtown Castle</td>\n",
              "      <td>2845</td>\n",
              "      <td>Jennifer</td>\n",
              "      <td>Manhattan</td>\n",
              "      <td>Midtown</td>\n",
              "      <td>40.75362</td>\n",
              "      <td>-73.98377</td>\n",
              "      <td>Entire home/apt</td>\n",
              "      <td>225.0</td>\n",
              "      <td>1</td>\n",
              "      <td>45</td>\n",
              "      <td>2019-05-21</td>\n",
              "      <td>0.38</td>\n",
              "      <td>2</td>\n",
              "      <td>355.000000</td>\n",
              "      <td>2019</td>\n",
              "    </tr>\n",
              "    <tr>\n",
              "      <th>3</th>\n",
              "      <td>3831</td>\n",
              "      <td>Cozy Entire Floor of Brownstone</td>\n",
              "      <td>4869</td>\n",
              "      <td>LisaRoxanne</td>\n",
              "      <td>Brooklyn</td>\n",
              "      <td>Clinton Hill</td>\n",
              "      <td>40.68514</td>\n",
              "      <td>-73.95976</td>\n",
              "      <td>Entire home/apt</td>\n",
              "      <td>89.0</td>\n",
              "      <td>1</td>\n",
              "      <td>270</td>\n",
              "      <td>2019-07-05</td>\n",
              "      <td>4.64</td>\n",
              "      <td>1</td>\n",
              "      <td>194.000000</td>\n",
              "      <td>2019</td>\n",
              "    </tr>\n",
              "    <tr>\n",
              "      <th>4</th>\n",
              "      <td>5022</td>\n",
              "      <td>Entire Apt: Spacious Studio/Loft by central park</td>\n",
              "      <td>7192</td>\n",
              "      <td>Laura</td>\n",
              "      <td>Manhattan</td>\n",
              "      <td>East Harlem</td>\n",
              "      <td>40.79851</td>\n",
              "      <td>-73.94399</td>\n",
              "      <td>Entire home/apt</td>\n",
              "      <td>80.0</td>\n",
              "      <td>10</td>\n",
              "      <td>9</td>\n",
              "      <td>2018-11-19</td>\n",
              "      <td>0.10</td>\n",
              "      <td>1</td>\n",
              "      <td>170.580624</td>\n",
              "      <td>2018</td>\n",
              "    </tr>\n",
              "    <tr>\n",
              "      <th>5</th>\n",
              "      <td>5099</td>\n",
              "      <td>Large Cozy 1 BR Apartment In Midtown East</td>\n",
              "      <td>7322</td>\n",
              "      <td>Chris</td>\n",
              "      <td>Manhattan</td>\n",
              "      <td>Murray Hill</td>\n",
              "      <td>40.74767</td>\n",
              "      <td>-73.97500</td>\n",
              "      <td>Entire home/apt</td>\n",
              "      <td>200.0</td>\n",
              "      <td>3</td>\n",
              "      <td>74</td>\n",
              "      <td>2019-06-22</td>\n",
              "      <td>0.59</td>\n",
              "      <td>1</td>\n",
              "      <td>129.000000</td>\n",
              "      <td>2019</td>\n",
              "    </tr>\n",
              "  </tbody>\n",
              "</table>\n",
              "</div>\n",
              "      <button class=\"colab-df-convert\" onclick=\"convertToInteractive('df-693eb719-1eff-48ed-a995-b55e2fc807ef')\"\n",
              "              title=\"Convert this dataframe to an interactive table.\"\n",
              "              style=\"display:none;\">\n",
              "        \n",
              "  <svg xmlns=\"http://www.w3.org/2000/svg\" height=\"24px\"viewBox=\"0 0 24 24\"\n",
              "       width=\"24px\">\n",
              "    <path d=\"M0 0h24v24H0V0z\" fill=\"none\"/>\n",
              "    <path d=\"M18.56 5.44l.94 2.06.94-2.06 2.06-.94-2.06-.94-.94-2.06-.94 2.06-2.06.94zm-11 1L8.5 8.5l.94-2.06 2.06-.94-2.06-.94L8.5 2.5l-.94 2.06-2.06.94zm10 10l.94 2.06.94-2.06 2.06-.94-2.06-.94-.94-2.06-.94 2.06-2.06.94z\"/><path d=\"M17.41 7.96l-1.37-1.37c-.4-.4-.92-.59-1.43-.59-.52 0-1.04.2-1.43.59L10.3 9.45l-7.72 7.72c-.78.78-.78 2.05 0 2.83L4 21.41c.39.39.9.59 1.41.59.51 0 1.02-.2 1.41-.59l7.78-7.78 2.81-2.81c.8-.78.8-2.07 0-2.86zM5.41 20L4 18.59l7.72-7.72 1.47 1.35L5.41 20z\"/>\n",
              "  </svg>\n",
              "      </button>\n",
              "      \n",
              "  <style>\n",
              "    .colab-df-container {\n",
              "      display:flex;\n",
              "      flex-wrap:wrap;\n",
              "      gap: 12px;\n",
              "    }\n",
              "\n",
              "    .colab-df-convert {\n",
              "      background-color: #E8F0FE;\n",
              "      border: none;\n",
              "      border-radius: 50%;\n",
              "      cursor: pointer;\n",
              "      display: none;\n",
              "      fill: #1967D2;\n",
              "      height: 32px;\n",
              "      padding: 0 0 0 0;\n",
              "      width: 32px;\n",
              "    }\n",
              "\n",
              "    .colab-df-convert:hover {\n",
              "      background-color: #E2EBFA;\n",
              "      box-shadow: 0px 1px 2px rgba(60, 64, 67, 0.3), 0px 1px 3px 1px rgba(60, 64, 67, 0.15);\n",
              "      fill: #174EA6;\n",
              "    }\n",
              "\n",
              "    [theme=dark] .colab-df-convert {\n",
              "      background-color: #3B4455;\n",
              "      fill: #D2E3FC;\n",
              "    }\n",
              "\n",
              "    [theme=dark] .colab-df-convert:hover {\n",
              "      background-color: #434B5C;\n",
              "      box-shadow: 0px 1px 3px 1px rgba(0, 0, 0, 0.15);\n",
              "      filter: drop-shadow(0px 1px 2px rgba(0, 0, 0, 0.3));\n",
              "      fill: #FFFFFF;\n",
              "    }\n",
              "  </style>\n",
              "\n",
              "      <script>\n",
              "        const buttonEl =\n",
              "          document.querySelector('#df-693eb719-1eff-48ed-a995-b55e2fc807ef button.colab-df-convert');\n",
              "        buttonEl.style.display =\n",
              "          google.colab.kernel.accessAllowed ? 'block' : 'none';\n",
              "\n",
              "        async function convertToInteractive(key) {\n",
              "          const element = document.querySelector('#df-693eb719-1eff-48ed-a995-b55e2fc807ef');\n",
              "          const dataTable =\n",
              "            await google.colab.kernel.invokeFunction('convertToInteractive',\n",
              "                                                     [key], {});\n",
              "          if (!dataTable) return;\n",
              "\n",
              "          const docLinkHtml = 'Like what you see? Visit the ' +\n",
              "            '<a target=\"_blank\" href=https://colab.research.google.com/notebooks/data_table.ipynb>data table notebook</a>'\n",
              "            + ' to learn more about interactive tables.';\n",
              "          element.innerHTML = '';\n",
              "          dataTable['output_type'] = 'display_data';\n",
              "          await google.colab.output.renderOutput(dataTable, element);\n",
              "          const docLink = document.createElement('div');\n",
              "          docLink.innerHTML = docLinkHtml;\n",
              "          element.appendChild(docLink);\n",
              "        }\n",
              "      </script>\n",
              "    </div>\n",
              "  </div>\n",
              "  "
            ],
            "text/plain": [
              "     id  ...  year\n",
              "0  2539  ...  2018\n",
              "1  2595  ...  2019\n",
              "3  3831  ...  2019\n",
              "4  5022  ...  2018\n",
              "5  5099  ...  2019\n",
              "\n",
              "[5 rows x 17 columns]"
            ]
          },
          "metadata": {},
          "execution_count": 57
        }
      ]
    },
    {
      "cell_type": "markdown",
      "source": [
        "# Availability of rooms in different 'neighbourhood_groups' Yearly"
      ],
      "metadata": {
        "id": "GFWBh6NZEpSw"
      }
    },
    {
      "cell_type": "code",
      "source": [
        "air_df.groupby(['year','neighbourhood_group'])['availability_365'].median().unstack().plot.bar(color=['#377eb8', '#ff7f00', '#4daf4a',\n",
        "                  '#f781bf', '#a65628', '#984ea3',\n",
        "                  '#999999', '#e41a1c', '#dede00'])\n",
        "plt.title('<-------availability of rooms in each neighbourhood group during all years-------> ')\n",
        "plt.ylabel('<-------------DAYS------------->')\n",
        "plt.xlabel('<----------YEARS----------->')\n",
        "plt.show()"
      ],
      "metadata": {
        "colab": {
          "base_uri": "https://localhost:8080/"
        },
        "id": "s3r6zobAEPDv",
        "outputId": "f2733dfe-31d5-4854-d748-feb150d1525c"
      },
      "execution_count": null,
      "outputs": [
        {
          "output_type": "display_data",
          "data": {
            "image/png": "[encoded data removed]",
            "text/plain": [
              "<Figure size 432x288 with 1 Axes>"
            ]
          },
          "metadata": {
            "needs_background": "light"
          }
        }
      ]
    },
    {
      "cell_type": "markdown",
      "source": [
        "**The above multiple grouped bar graph represents the availability of rooms in each neighbourhood group from year 2011 to 2019**"
      ],
      "metadata": {
        "id": "bGhqCDoTFLtO"
      }
    },
    {
      "cell_type": "markdown",
      "source": [
        "# Availability of different types of room Yearly"
      ],
      "metadata": {
        "id": "Tlo-4HyoFVMQ"
      }
    },
    {
      "cell_type": "code",
      "source": [
        "room_available = air_df.groupby(['year','room_type'])['availability_365'].mean().unstack().plot.bar()\n",
        "plt.title('<---------availability of room types dring each year-------->')\n",
        "plt.ylabel('<-----------Days----------->')\n",
        "plt.xlabel('<-----------years---------->')\n",
        "plt.show()"
      ],
      "metadata": {
        "colab": {
          "base_uri": "https://localhost:8080/"
        },
        "id": "0AL0xCZ4FAj6",
        "outputId": "c2c04549-dd5d-4c47-b1a9-985e22fc1677"
      },
      "execution_count": null,
      "outputs": [
        {
          "output_type": "display_data",
          "data": {
            "image/png": "[encoded data removed]",
            "text/plain": [
              "<Figure size 432x288 with 1 Axes>"
            ]
          },
          "metadata": {
            "needs_background": "light"
          }
        }
      ]
    },
    {
      "cell_type": "markdown",
      "source": [
        "**The above bar graph represents the availability of different room types during each year. From year 2011 to 2013 ,shared rooms were hardly available or there was no availability but in 2014 shared rooms were available for most of the days as compare to all the years , the Entire home/apt were available for most of the days in 2012 and Private rooms were available for most of the days in 2013.**"
      ],
      "metadata": {
        "id": "7VXQkx3SFoE6"
      }
    },
    {
      "cell_type": "markdown",
      "source": [
        "# In which year Airbnb recieves the most no. of reviews"
      ],
      "metadata": {
        "id": "PeVyaHxjVdqa"
      }
    },
    {
      "cell_type": "code",
      "source": [
        "air_df.groupby('year')['number_of_reviews'].mean().plot.barh(color='Aqua')\n",
        "plt.title('<----------average reviews per year----------->')\n",
        "plt.xlabel('<-------------no. of reviews------------------->')\n",
        "plt.show()\n"
      ],
      "metadata": {
        "id": "gDJGsAr9FdXl",
        "colab": {
          "base_uri": "https://localhost:8080/"
        },
        "outputId": "bd9c171c-ee86-4de1-ba23-d219911d2f89"
      },
      "execution_count": null,
      "outputs": [
        {
          "output_type": "display_data",
          "data": {
            "image/png": "[encoded data removed]",
            "text/plain": [
              "<Figure size 432x288 with 1 Axes>"
            ]
          },
          "metadata": {
            "needs_background": "light"
          }
        }
      ]
    },
    {
      "cell_type": "markdown",
      "source": [
        "**The above horizontal bar graph shows that Airbnb gets the most no. of reviews in year 2019 and least no. of reviews in 2015**"
      ],
      "metadata": {
        "id": "dvzH6T5SVxda"
      }
    },
    {
      "cell_type": "markdown",
      "source": [
        "# Which year brought the most no. of visitors"
      ],
      "metadata": {
        "id": "w33l0HbIWE1L"
      }
    },
    {
      "cell_type": "code",
      "source": [
        "air_df.groupby('year')['minimum_nights'].sum().reset_index().plot.scatter(x='year',y='minimum_nights',color='blue')\n",
        "plt.show()"
      ],
      "metadata": {
        "colab": {
          "base_uri": "https://localhost:8080/"
        },
        "id": "ifC1zMHkVpT-",
        "outputId": "44dbe0d6-f066-4d7b-e15e-5a80919f0a1c"
      },
      "execution_count": null,
      "outputs": [
        {
          "output_type": "display_data",
          "data": {
            "image/png": "[encoded data removed]",
            "text/plain": [
              "<Figure size 432x288 with 1 Axes>"
            ]
          },
          "metadata": {
            "needs_background": "light"
          }
        }
      ]
    },
    {
      "cell_type": "markdown",
      "source": [
        "**In the above scatter plot, we can clearly see the positive correlation between the years and the minimum_nights. As the years increases from 2011 to 2019,the no.s of minimum nights also increases**"
      ],
      "metadata": {
        "id": "dZVBMapMWbB2"
      }
    },
    {
      "cell_type": "markdown",
      "source": [
        "#Price fluctuation of each room type around the year"
      ],
      "metadata": {
        "id": "cTaYB-P0Wppj"
      }
    },
    {
      "cell_type": "markdown",
      "source": [
        "## Price of Entire House/Apt around the year"
      ],
      "metadata": {
        "id": "jWBgH1DEjH-m"
      }
    },
    {
      "cell_type": "code",
      "source": [
        "# saving the data into new variable according to a particular room type\n",
        "\n",
        "entire = air_df[air_df['room_type']=='Entire home/apt']\n",
        "private = air_df[air_df['room_type']=='Private room']\n",
        "shared = air_df[air_df['room_type']=='Shared room']"
      ],
      "metadata": {
        "id": "gnyP8RR1WOn4"
      },
      "execution_count": null,
      "outputs": []
    },
    {
      "cell_type": "code",
      "source": [
        "#price fluctuation of Entire home/apt during each year\n",
        "\n",
        "entire.groupby('year')['price'].mean().plot.bar(color='Red')\n",
        "plt.title('<----------change in price of entire home/apt---------> ')\n",
        "plt.ylabel('<----------price------------>')\n",
        "plt.show()"
      ],
      "metadata": {
        "colab": {
          "base_uri": "https://localhost:8080/"
        },
        "id": "tVOuvCqzWx_E",
        "outputId": "74173f6d-c7a9-4594-f75e-526ecca3a9b9"
      },
      "execution_count": null,
      "outputs": [
        {
          "output_type": "display_data",
          "data": {
            "image/png": "[encoded data removed]",
            "text/plain": [
              "<Figure size 432x288 with 1 Axes>"
            ]
          },
          "metadata": {
            "needs_background": "light"
          }
        }
      ]
    },
    {
      "cell_type": "markdown",
      "source": [
        "## Price of Private rooms around the year"
      ],
      "metadata": {
        "id": "wJHEqZ0xFEyc"
      }
    },
    {
      "cell_type": "code",
      "source": [
        "private.groupby('year')['price'].mean().plot.bar(color='brown')\n",
        "plt.title('<----------change in price of Private rooms---------> ')\n",
        "plt.ylabel('<----------price------------>')\n",
        "plt.show()"
      ],
      "metadata": {
        "id": "cStVfCv-XFIu",
        "colab": {
          "base_uri": "https://localhost:8080/"
        },
        "outputId": "50a60def-49f1-45fb-c04e-6d34ae182ea4"
      },
      "execution_count": null,
      "outputs": [
        {
          "output_type": "display_data",
          "data": {
            "image/png": "[encoded data removed]",
            "text/plain": [
              "<Figure size 432x288 with 1 Axes>"
            ]
          },
          "metadata": {
            "needs_background": "light"
          }
        }
      ]
    },
    {
      "cell_type": "markdown",
      "source": [
        "**In 2011 the prices of private rooms were highest i.e upto 140 and from 2014 the prices were almost same all the years i.e between 60 to 80.**"
      ],
      "metadata": {
        "id": "1dSGm0luFbH9"
      }
    },
    {
      "cell_type": "markdown",
      "source": [
        "## Price of Shared rooms around the year"
      ],
      "metadata": {
        "id": "cmhYXpbWFjmO"
      }
    },
    {
      "cell_type": "code",
      "source": [
        "# prices of shared room during each year\n",
        "\n",
        "shared.groupby('year')['price'].mean().plot.bar(color='aqua')\n",
        "plt.title('<----------change in price of Shared rooms---------> ')\n",
        "plt.ylabel('<----------price------------>')\n",
        "plt.show()"
      ],
      "metadata": {
        "colab": {
          "base_uri": "https://localhost:8080/"
        },
        "id": "a3rqaAWfFeol",
        "outputId": "f62ffab0-36bb-449e-d576-11a7957cd149"
      },
      "execution_count": null,
      "outputs": [
        {
          "output_type": "display_data",
          "data": {
            "image/png": "[encoded data removed]",
            "text/plain": [
              "<Figure size 432x288 with 1 Axes>"
            ]
          },
          "metadata": {
            "needs_background": "light"
          }
        }
      ]
    },
    {
      "cell_type": "markdown",
      "source": [
        "**As we can see in above bar graph it is showing the data from year 2014 because the shared rooms were introduced by Airbnb from 2014**"
      ],
      "metadata": {
        "id": "lUTnM8CxF3bG"
      }
    },
    {
      "cell_type": "markdown",
      "source": [
        "## Price change of room types every year in group bar"
      ],
      "metadata": {
        "id": "7KMg1hHVF_Zv"
      }
    },
    {
      "cell_type": "code",
      "source": [
        "air_df.groupby(['year','room_type'])['price'].mean().unstack().plot.bar(color=['blue','yellow','red'])\n",
        "plt.show()"
      ],
      "metadata": {
        "colab": {
          "base_uri": "https://localhost:8080/"
        },
        "id": "ufcvrdQmdcBT",
        "outputId": "1255cc7e-e6e9-48e0-f917-a368c9cb53c1"
      },
      "execution_count": null,
      "outputs": [
        {
          "output_type": "display_data",
          "data": {
            "image/png": "[encoded data removed]",
            "text/plain": [
              "<Figure size 432x288 with 1 Axes>"
            ]
          },
          "metadata": {
            "needs_background": "light"
          }
        }
      ]
    },
    {
      "cell_type": "markdown",
      "source": [
        "#Which room types people prefer around the different months"
      ],
      "metadata": {
        "id": "qOHq-44rGXON"
      }
    },
    {
      "cell_type": "code",
      "source": [
        "# first of all we will make a function ,so we could extract only months from column last_review whose dtype is datetime\n",
        "\n",
        "def tomonth(x):\n",
        "  x=datetime.strftime(x,'%Y-%m-%d')\n",
        "  return x[5:7]"
      ],
      "metadata": {
        "id": "N7di6cl4GkT2"
      },
      "execution_count": null,
      "outputs": []
    },
    {
      "cell_type": "code",
      "source": [
        "# adding a new column od month to dataframe\n",
        "\n",
        "air_df['month'] = air_df['last_review'].apply(lambda x:tomonth(x))"
      ],
      "metadata": {
        "id": "ci1vfJMLGxAv"
      },
      "execution_count": null,
      "outputs": []
    },
    {
      "cell_type": "code",
      "source": [
        "air_df.head()"
      ],
      "metadata": {
        "id": "7XouTl5hG4D4",
        "colab": {
          "base_uri": "https://localhost:8080/"
        },
        "outputId": "d995a56b-1866-4feb-d6a8-266321136ad7"
      },
      "execution_count": null,
      "outputs": [
        {
          "output_type": "execute_result",
          "data": {
            "text/html": [
              "\n",
              "  <div id=\"df-c37dbbfa-54d9-45ca-8e02-848dcc0dad4b\">\n",
              "    <div class=\"colab-df-container\">\n",
              "      <div>\n",
              "<style scoped>\n",
              "    .dataframe tbody tr th:only-of-type {\n",
              "        vertical-align: middle;\n",
              "    }\n",
              "\n",
              "    .dataframe tbody tr th {\n",
              "        vertical-align: top;\n",
              "    }\n",
              "\n",
              "    .dataframe thead th {\n",
              "        text-align: right;\n",
              "    }\n",
              "</style>\n",
              "<table border=\"1\" class=\"dataframe\">\n",
              "  <thead>\n",
              "    <tr style=\"text-align: right;\">\n",
              "      <th></th>\n",
              "      <th>id</th>\n",
              "      <th>name</th>\n",
              "      <th>host_id</th>\n",
              "      <th>host_name</th>\n",
              "      <th>neighbourhood_group</th>\n",
              "      <th>neighbourhood</th>\n",
              "      <th>latitude</th>\n",
              "      <th>longitude</th>\n",
              "      <th>room_type</th>\n",
              "      <th>price</th>\n",
              "      <th>minimum_nights</th>\n",
              "      <th>number_of_reviews</th>\n",
              "      <th>last_review</th>\n",
              "      <th>reviews_per_month</th>\n",
              "      <th>calculated_host_listings_count</th>\n",
              "      <th>availability_365</th>\n",
              "      <th>year</th>\n",
              "      <th>month</th>\n",
              "    </tr>\n",
              "  </thead>\n",
              "  <tbody>\n",
              "    <tr>\n",
              "      <th>0</th>\n",
              "      <td>2539</td>\n",
              "      <td>Clean &amp; quiet apt home by the park</td>\n",
              "      <td>2787</td>\n",
              "      <td>John</td>\n",
              "      <td>Brooklyn</td>\n",
              "      <td>Kensington</td>\n",
              "      <td>40.64749</td>\n",
              "      <td>-73.97237</td>\n",
              "      <td>Private room</td>\n",
              "      <td>149.0</td>\n",
              "      <td>1</td>\n",
              "      <td>9</td>\n",
              "      <td>2018-10-19</td>\n",
              "      <td>0.21</td>\n",
              "      <td>6</td>\n",
              "      <td>365.000000</td>\n",
              "      <td>2018</td>\n",
              "      <td>10</td>\n",
              "    </tr>\n",
              "    <tr>\n",
              "      <th>1</th>\n",
              "      <td>2595</td>\n",
              "      <td>Skylit Midtown Castle</td>\n",
              "      <td>2845</td>\n",
              "      <td>Jennifer</td>\n",
              "      <td>Manhattan</td>\n",
              "      <td>Midtown</td>\n",
              "      <td>40.75362</td>\n",
              "      <td>-73.98377</td>\n",
              "      <td>Entire home/apt</td>\n",
              "      <td>225.0</td>\n",
              "      <td>1</td>\n",
              "      <td>45</td>\n",
              "      <td>2019-05-21</td>\n",
              "      <td>0.38</td>\n",
              "      <td>2</td>\n",
              "      <td>355.000000</td>\n",
              "      <td>2019</td>\n",
              "      <td>05</td>\n",
              "    </tr>\n",
              "    <tr>\n",
              "      <th>3</th>\n",
              "      <td>3831</td>\n",
              "      <td>Cozy Entire Floor of Brownstone</td>\n",
              "      <td>4869</td>\n",
              "      <td>LisaRoxanne</td>\n",
              "      <td>Brooklyn</td>\n",
              "      <td>Clinton Hill</td>\n",
              "      <td>40.68514</td>\n",
              "      <td>-73.95976</td>\n",
              "      <td>Entire home/apt</td>\n",
              "      <td>89.0</td>\n",
              "      <td>1</td>\n",
              "      <td>270</td>\n",
              "      <td>2019-07-05</td>\n",
              "      <td>4.64</td>\n",
              "      <td>1</td>\n",
              "      <td>194.000000</td>\n",
              "      <td>2019</td>\n",
              "      <td>07</td>\n",
              "    </tr>\n",
              "    <tr>\n",
              "      <th>4</th>\n",
              "      <td>5022</td>\n",
              "      <td>Entire Apt: Spacious Studio/Loft by central park</td>\n",
              "      <td>7192</td>\n",
              "      <td>Laura</td>\n",
              "      <td>Manhattan</td>\n",
              "      <td>East Harlem</td>\n",
              "      <td>40.79851</td>\n",
              "      <td>-73.94399</td>\n",
              "      <td>Entire home/apt</td>\n",
              "      <td>80.0</td>\n",
              "      <td>10</td>\n",
              "      <td>9</td>\n",
              "      <td>2018-11-19</td>\n",
              "      <td>0.10</td>\n",
              "      <td>1</td>\n",
              "      <td>170.580624</td>\n",
              "      <td>2018</td>\n",
              "      <td>11</td>\n",
              "    </tr>\n",
              "    <tr>\n",
              "      <th>5</th>\n",
              "      <td>5099</td>\n",
              "      <td>Large Cozy 1 BR Apartment In Midtown East</td>\n",
              "      <td>7322</td>\n",
              "      <td>Chris</td>\n",
              "      <td>Manhattan</td>\n",
              "      <td>Murray Hill</td>\n",
              "      <td>40.74767</td>\n",
              "      <td>-73.97500</td>\n",
              "      <td>Entire home/apt</td>\n",
              "      <td>200.0</td>\n",
              "      <td>3</td>\n",
              "      <td>74</td>\n",
              "      <td>2019-06-22</td>\n",
              "      <td>0.59</td>\n",
              "      <td>1</td>\n",
              "      <td>129.000000</td>\n",
              "      <td>2019</td>\n",
              "      <td>06</td>\n",
              "    </tr>\n",
              "  </tbody>\n",
              "</table>\n",
              "</div>\n",
              "      <button class=\"colab-df-convert\" onclick=\"convertToInteractive('df-c37dbbfa-54d9-45ca-8e02-848dcc0dad4b')\"\n",
              "              title=\"Convert this dataframe to an interactive table.\"\n",
              "              style=\"display:none;\">\n",
              "        \n",
              "  <svg xmlns=\"http://www.w3.org/2000/svg\" height=\"24px\"viewBox=\"0 0 24 24\"\n",
              "       width=\"24px\">\n",
              "    <path d=\"M0 0h24v24H0V0z\" fill=\"none\"/>\n",
              "    <path d=\"M18.56 5.44l.94 2.06.94-2.06 2.06-.94-2.06-.94-.94-2.06-.94 2.06-2.06.94zm-11 1L8.5 8.5l.94-2.06 2.06-.94-2.06-.94L8.5 2.5l-.94 2.06-2.06.94zm10 10l.94 2.06.94-2.06 2.06-.94-2.06-.94-.94-2.06-.94 2.06-2.06.94z\"/><path d=\"M17.41 7.96l-1.37-1.37c-.4-.4-.92-.59-1.43-.59-.52 0-1.04.2-1.43.59L10.3 9.45l-7.72 7.72c-.78.78-.78 2.05 0 2.83L4 21.41c.39.39.9.59 1.41.59.51 0 1.02-.2 1.41-.59l7.78-7.78 2.81-2.81c.8-.78.8-2.07 0-2.86zM5.41 20L4 18.59l7.72-7.72 1.47 1.35L5.41 20z\"/>\n",
              "  </svg>\n",
              "      </button>\n",
              "      \n",
              "  <style>\n",
              "    .colab-df-container {\n",
              "      display:flex;\n",
              "      flex-wrap:wrap;\n",
              "      gap: 12px;\n",
              "    }\n",
              "\n",
              "    .colab-df-convert {\n",
              "      background-color: #E8F0FE;\n",
              "      border: none;\n",
              "      border-radius: 50%;\n",
              "      cursor: pointer;\n",
              "      display: none;\n",
              "      fill: #1967D2;\n",
              "      height: 32px;\n",
              "      padding: 0 0 0 0;\n",
              "      width: 32px;\n",
              "    }\n",
              "\n",
              "    .colab-df-convert:hover {\n",
              "      background-color: #E2EBFA;\n",
              "      box-shadow: 0px 1px 2px rgba(60, 64, 67, 0.3), 0px 1px 3px 1px rgba(60, 64, 67, 0.15);\n",
              "      fill: #174EA6;\n",
              "    }\n",
              "\n",
              "    [theme=dark] .colab-df-convert {\n",
              "      background-color: #3B4455;\n",
              "      fill: #D2E3FC;\n",
              "    }\n",
              "\n",
              "    [theme=dark] .colab-df-convert:hover {\n",
              "      background-color: #434B5C;\n",
              "      box-shadow: 0px 1px 3px 1px rgba(0, 0, 0, 0.15);\n",
              "      filter: drop-shadow(0px 1px 2px rgba(0, 0, 0, 0.3));\n",
              "      fill: #FFFFFF;\n",
              "    }\n",
              "  </style>\n",
              "\n",
              "      <script>\n",
              "        const buttonEl =\n",
              "          document.querySelector('#df-c37dbbfa-54d9-45ca-8e02-848dcc0dad4b button.colab-df-convert');\n",
              "        buttonEl.style.display =\n",
              "          google.colab.kernel.accessAllowed ? 'block' : 'none';\n",
              "\n",
              "        async function convertToInteractive(key) {\n",
              "          const element = document.querySelector('#df-c37dbbfa-54d9-45ca-8e02-848dcc0dad4b');\n",
              "          const dataTable =\n",
              "            await google.colab.kernel.invokeFunction('convertToInteractive',\n",
              "                                                     [key], {});\n",
              "          if (!dataTable) return;\n",
              "\n",
              "          const docLinkHtml = 'Like what you see? Visit the ' +\n",
              "            '<a target=\"_blank\" href=https://colab.research.google.com/notebooks/data_table.ipynb>data table notebook</a>'\n",
              "            + ' to learn more about interactive tables.';\n",
              "          element.innerHTML = '';\n",
              "          dataTable['output_type'] = 'display_data';\n",
              "          await google.colab.output.renderOutput(dataTable, element);\n",
              "          const docLink = document.createElement('div');\n",
              "          docLink.innerHTML = docLinkHtml;\n",
              "          element.appendChild(docLink);\n",
              "        }\n",
              "      </script>\n",
              "    </div>\n",
              "  </div>\n",
              "  "
            ],
            "text/plain": [
              "     id                                              name  ...  year month\n",
              "0  2539                Clean & quiet apt home by the park  ...  2018    10\n",
              "1  2595                             Skylit Midtown Castle  ...  2019    05\n",
              "3  3831                   Cozy Entire Floor of Brownstone  ...  2019    07\n",
              "4  5022  Entire Apt: Spacious Studio/Loft by central park  ...  2018    11\n",
              "5  5099         Large Cozy 1 BR Apartment In Midtown East  ...  2019    06\n",
              "\n",
              "[5 rows x 18 columns]"
            ]
          },
          "metadata": {},
          "execution_count": 69
        }
      ]
    },
    {
      "cell_type": "markdown",
      "source": [
        "## For Entire House/Apt"
      ],
      "metadata": {
        "id": "by9T6KmaHTG9"
      }
    },
    {
      "cell_type": "code",
      "source": [
        "entire = air_df[air_df['room_type']==\"Entire home/apt\"]\n",
        "entire.groupby('month')['minimum_nights'].sum().plot.bar(color='brown')\n",
        "plt.title('People stayed for nights in Entire home/apt in each month--')\n",
        "plt.ylabel('<---------minimum nights---------->')\n",
        "\n",
        "plt.show()"
      ],
      "metadata": {
        "colab": {
          "base_uri": "https://localhost:8080/"
        },
        "id": "Ju6ieq20HUxn",
        "outputId": "f258ef75-e522-4417-86b9-dfb0667a0383"
      },
      "execution_count": null,
      "outputs": [
        {
          "output_type": "display_data",
          "data": {
            "image/png": "[encoded data removed]",
            "text/plain": [
              "<Figure size 432x288 with 1 Axes>"
            ]
          },
          "metadata": {
            "needs_background": "light"
          }
        }
      ]
    },
    {
      "cell_type": "markdown",
      "source": [
        "**According to data people have stayed for most no. of nights in Entire home/apt in the month of June.**"
      ],
      "metadata": {
        "id": "pOSL9K1qHhHt"
      }
    },
    {
      "cell_type": "markdown",
      "source": [
        "## For Private rooms"
      ],
      "metadata": {
        "id": "YJzxgXdfHm3E"
      }
    },
    {
      "cell_type": "code",
      "source": [
        "private = air_df[air_df['room_type']=='Private room']"
      ],
      "metadata": {
        "id": "1ZtqLynuHjM0"
      },
      "execution_count": null,
      "outputs": []
    },
    {
      "cell_type": "code",
      "source": [
        "private.groupby('month')['minimum_nights'].sum().plot.bar(color='red')\n",
        "plt.title('<----------people stayed for nights in Private room in each month----------->')\n",
        "plt.ylabel('<---------minimum nights---------->')\n",
        "\n",
        "plt.show()"
      ],
      "metadata": {
        "colab": {
          "base_uri": "https://localhost:8080/"
        },
        "id": "ijpkrqeCHtJG",
        "outputId": "23734ba0-efce-40df-a68d-98cc72307c65"
      },
      "execution_count": null,
      "outputs": [
        {
          "output_type": "display_data",
          "data": {
            "image/png": "[encoded data removed]",
            "text/plain": [
              "<Figure size 432x288 with 1 Axes>"
            ]
          },
          "metadata": {
            "needs_background": "light"
          }
        }
      ]
    },
    {
      "cell_type": "markdown",
      "source": [
        "**People have spent most number of nights in private rooms in the month of June**"
      ],
      "metadata": {
        "id": "3HToDNpeICnh"
      }
    },
    {
      "cell_type": "markdown",
      "source": [
        "## For Shared rooms"
      ],
      "metadata": {
        "id": "Fmlf0X56IJl7"
      }
    },
    {
      "cell_type": "code",
      "source": [
        "shared = air_df[air_df['room_type']=='Shared room']"
      ],
      "metadata": {
        "id": "XDjLzBE-IEAI"
      },
      "execution_count": null,
      "outputs": []
    },
    {
      "cell_type": "code",
      "source": [
        "shared.groupby('month')['minimum_nights'].sum().plot.bar(color='blue')\n",
        "plt.title('<----------people stayed for nights in Shared Room in each month----------->')\n",
        "plt.ylabel('<---------minimum nights---------->')\n",
        "plt.show()\n"
      ],
      "metadata": {
        "colab": {
          "base_uri": "https://localhost:8080/"
        },
        "id": "itGCh0FvIQ9Z",
        "outputId": "cd32f131-9910-4015-e984-f1e1c49c7853"
      },
      "execution_count": null,
      "outputs": [
        {
          "output_type": "display_data",
          "data": {
            "image/png": "[encoded data removed]",
            "text/plain": [
              "<Figure size 432x288 with 1 Axes>"
            ]
          },
          "metadata": {
            "needs_background": "light"
          }
        }
      ]
    },
    {
      "cell_type": "markdown",
      "source": [
        "**In above graph we can see that people have stayed for most no. of nights in the month of June**"
      ],
      "metadata": {
        "id": "fW0j1T_kIbk-"
      }
    },
    {
      "cell_type": "markdown",
      "source": [
        "# Most no of active host in different neighbourhood group\n"
      ],
      "metadata": {
        "id": "Lmf--KIPIlCn"
      }
    },
    {
      "cell_type": "markdown",
      "source": [
        "## In Bronx :"
      ],
      "metadata": {
        "id": "jljpe75yN8uL"
      }
    },
    {
      "cell_type": "code",
      "source": [
        "hostbronx = bronx.groupby(['host_id','host_name']).agg({'minimum_nights':'sum','availability_365':'mean','price':'mean','number_of_reviews':'mean'})"
      ],
      "metadata": {
        "id": "x_XKZnqWIpX-"
      },
      "execution_count": null,
      "outputs": []
    },
    {
      "cell_type": "code",
      "source": [
        "hostbronx.sort_values('minimum_nights',ascending=False).head(5)"
      ],
      "metadata": {
        "id": "pxalmr_eI2wr",
        "colab": {
          "base_uri": "https://localhost:8080/",
          "height": 215
        },
        "outputId": "fb0ed63b-d14c-4614-ff8f-5193971f38b0"
      },
      "execution_count": null,
      "outputs": [
        {
          "output_type": "execute_result",
          "data": {
            "text/html": [
              "\n",
              "  <div id=\"df-bab4105a-502e-469a-b725-75a8d0f09ed0\">\n",
              "    <div class=\"colab-df-container\">\n",
              "      <div>\n",
              "<style scoped>\n",
              "    .dataframe tbody tr th:only-of-type {\n",
              "        vertical-align: middle;\n",
              "    }\n",
              "\n",
              "    .dataframe tbody tr th {\n",
              "        vertical-align: top;\n",
              "    }\n",
              "\n",
              "    .dataframe thead th {\n",
              "        text-align: right;\n",
              "    }\n",
              "</style>\n",
              "<table border=\"1\" class=\"dataframe\">\n",
              "  <thead>\n",
              "    <tr style=\"text-align: right;\">\n",
              "      <th></th>\n",
              "      <th></th>\n",
              "      <th>minimum_nights</th>\n",
              "      <th>availability_365</th>\n",
              "      <th>price</th>\n",
              "      <th>number_of_reviews</th>\n",
              "    </tr>\n",
              "    <tr>\n",
              "      <th>host_id</th>\n",
              "      <th>host_name</th>\n",
              "      <th></th>\n",
              "      <th></th>\n",
              "      <th></th>\n",
              "      <th></th>\n",
              "    </tr>\n",
              "  </thead>\n",
              "  <tbody>\n",
              "    <tr>\n",
              "      <th>2988712</th>\n",
              "      <th>Sasha</th>\n",
              "      <td>630</td>\n",
              "      <td>159.285714</td>\n",
              "      <td>77.857143</td>\n",
              "      <td>6.428571</td>\n",
              "    </tr>\n",
              "    <tr>\n",
              "      <th>60501531</th>\n",
              "      <th>John</th>\n",
              "      <td>186</td>\n",
              "      <td>365.000000</td>\n",
              "      <td>79.000000</td>\n",
              "      <td>7.000000</td>\n",
              "    </tr>\n",
              "    <tr>\n",
              "      <th>32164030</th>\n",
              "      <th>Ikkyukim</th>\n",
              "      <td>90</td>\n",
              "      <td>321.000000</td>\n",
              "      <td>40.000000</td>\n",
              "      <td>18.333333</td>\n",
              "    </tr>\n",
              "    <tr>\n",
              "      <th>16151285</th>\n",
              "      <th>Carol</th>\n",
              "      <td>73</td>\n",
              "      <td>339.250000</td>\n",
              "      <td>59.500000</td>\n",
              "      <td>31.750000</td>\n",
              "    </tr>\n",
              "    <tr>\n",
              "      <th>1532337</th>\n",
              "      <th>Monica</th>\n",
              "      <td>64</td>\n",
              "      <td>124.250000</td>\n",
              "      <td>21.250000</td>\n",
              "      <td>3.000000</td>\n",
              "    </tr>\n",
              "  </tbody>\n",
              "</table>\n",
              "</div>\n",
              "      <button class=\"colab-df-convert\" onclick=\"convertToInteractive('df-bab4105a-502e-469a-b725-75a8d0f09ed0')\"\n",
              "              title=\"Convert this dataframe to an interactive table.\"\n",
              "              style=\"display:none;\">\n",
              "        \n",
              "  <svg xmlns=\"http://www.w3.org/2000/svg\" height=\"24px\"viewBox=\"0 0 24 24\"\n",
              "       width=\"24px\">\n",
              "    <path d=\"M0 0h24v24H0V0z\" fill=\"none\"/>\n",
              "    <path d=\"M18.56 5.44l.94 2.06.94-2.06 2.06-.94-2.06-.94-.94-2.06-.94 2.06-2.06.94zm-11 1L8.5 8.5l.94-2.06 2.06-.94-2.06-.94L8.5 2.5l-.94 2.06-2.06.94zm10 10l.94 2.06.94-2.06 2.06-.94-2.06-.94-.94-2.06-.94 2.06-2.06.94z\"/><path d=\"M17.41 7.96l-1.37-1.37c-.4-.4-.92-.59-1.43-.59-.52 0-1.04.2-1.43.59L10.3 9.45l-7.72 7.72c-.78.78-.78 2.05 0 2.83L4 21.41c.39.39.9.59 1.41.59.51 0 1.02-.2 1.41-.59l7.78-7.78 2.81-2.81c.8-.78.8-2.07 0-2.86zM5.41 20L4 18.59l7.72-7.72 1.47 1.35L5.41 20z\"/>\n",
              "  </svg>\n",
              "      </button>\n",
              "      \n",
              "  <style>\n",
              "    .colab-df-container {\n",
              "      display:flex;\n",
              "      flex-wrap:wrap;\n",
              "      gap: 12px;\n",
              "    }\n",
              "\n",
              "    .colab-df-convert {\n",
              "      background-color: #E8F0FE;\n",
              "      border: none;\n",
              "      border-radius: 50%;\n",
              "      cursor: pointer;\n",
              "      display: none;\n",
              "      fill: #1967D2;\n",
              "      height: 32px;\n",
              "      padding: 0 0 0 0;\n",
              "      width: 32px;\n",
              "    }\n",
              "\n",
              "    .colab-df-convert:hover {\n",
              "      background-color: #E2EBFA;\n",
              "      box-shadow: 0px 1px 2px rgba(60, 64, 67, 0.3), 0px 1px 3px 1px rgba(60, 64, 67, 0.15);\n",
              "      fill: #174EA6;\n",
              "    }\n",
              "\n",
              "    [theme=dark] .colab-df-convert {\n",
              "      background-color: #3B4455;\n",
              "      fill: #D2E3FC;\n",
              "    }\n",
              "\n",
              "    [theme=dark] .colab-df-convert:hover {\n",
              "      background-color: #434B5C;\n",
              "      box-shadow: 0px 1px 3px 1px rgba(0, 0, 0, 0.15);\n",
              "      filter: drop-shadow(0px 1px 2px rgba(0, 0, 0, 0.3));\n",
              "      fill: #FFFFFF;\n",
              "    }\n",
              "  </style>\n",
              "\n",
              "      <script>\n",
              "        const buttonEl =\n",
              "          document.querySelector('#df-bab4105a-502e-469a-b725-75a8d0f09ed0 button.colab-df-convert');\n",
              "        buttonEl.style.display =\n",
              "          google.colab.kernel.accessAllowed ? 'block' : 'none';\n",
              "\n",
              "        async function convertToInteractive(key) {\n",
              "          const element = document.querySelector('#df-bab4105a-502e-469a-b725-75a8d0f09ed0');\n",
              "          const dataTable =\n",
              "            await google.colab.kernel.invokeFunction('convertToInteractive',\n",
              "                                                     [key], {});\n",
              "          if (!dataTable) return;\n",
              "\n",
              "          const docLinkHtml = 'Like what you see? Visit the ' +\n",
              "            '<a target=\"_blank\" href=https://colab.research.google.com/notebooks/data_table.ipynb>data table notebook</a>'\n",
              "            + ' to learn more about interactive tables.';\n",
              "          element.innerHTML = '';\n",
              "          dataTable['output_type'] = 'display_data';\n",
              "          await google.colab.output.renderOutput(dataTable, element);\n",
              "          const docLink = document.createElement('div');\n",
              "          docLink.innerHTML = docLinkHtml;\n",
              "          element.appendChild(docLink);\n",
              "        }\n",
              "      </script>\n",
              "    </div>\n",
              "  </div>\n",
              "  "
            ],
            "text/plain": [
              "                    minimum_nights  ...  number_of_reviews\n",
              "host_id  host_name                  ...                   \n",
              "2988712  Sasha                 630  ...           6.428571\n",
              "60501531 John                  186  ...           7.000000\n",
              "32164030 Ikkyukim               90  ...          18.333333\n",
              "16151285 Carol                  73  ...          31.750000\n",
              "1532337  Monica                 64  ...           3.000000\n",
              "\n",
              "[5 rows x 4 columns]"
            ]
          },
          "metadata": {},
          "execution_count": 76
        }
      ]
    },
    {
      "cell_type": "code",
      "source": [
        "hostbronx.sort_values('minimum_nights',ascending=False).head(5).plot.bar()\n",
        "plt.title('<-------most active hosts in Bronx------->')\n",
        "plt.ylabel('<-----------no. of days---------->')\n",
        "plt.xlabel('<----------most active host name --------->')\n",
        "plt.show()"
      ],
      "metadata": {
        "id": "Ukrk8FHwI2vj",
        "colab": {
          "base_uri": "https://localhost:8080/",
          "height": 394
        },
        "outputId": "676c8bd9-bc38-443b-b125-e1c4a821885f"
      },
      "execution_count": null,
      "outputs": [
        {
          "output_type": "display_data",
          "data": {
            "image/png": "[encoded data removed]",
            "text/plain": [
              "<Figure size 432x288 with 1 Axes>"
            ]
          },
          "metadata": {
            "needs_background": "light"
          }
        }
      ]
    },
    {
      "cell_type": "markdown",
      "source": [
        "**As we can see in above graph,it shows the most active no of host in Bronx . The above graph states the relationship of minimum_night with other factors such as availability of rooms ,price of rooms and number_of reviews**\n",
        "\n",
        "## In Brooklyn :"
      ],
      "metadata": {
        "id": "sj6sKAzsJCkA"
      }
    },
    {
      "cell_type": "code",
      "source": [
        "hostbrroklyn=brooklyn.groupby(['host_id','host_name']).agg({'minimum_nights':'sum','availability_365':'mean','price':'mean','number_of_reviews':'mean'})\n"
      ],
      "metadata": {
        "id": "xKZ_78GJJOI4"
      },
      "execution_count": null,
      "outputs": []
    },
    {
      "cell_type": "code",
      "source": [
        "hostbrroklyn.sort_values('minimum_nights',ascending=False).head(10)"
      ],
      "metadata": {
        "id": "_LmXvuTHJU6m",
        "colab": {
          "base_uri": "https://localhost:8080/",
          "height": 394
        },
        "outputId": "958f960c-1d9d-4ff5-d12a-bd401bdd9aa5"
      },
      "execution_count": null,
      "outputs": [
        {
          "output_type": "execute_result",
          "data": {
            "text/html": [
              "\n",
              "  <div id=\"df-b10cd570-fba8-49db-90d3-6095a60f40d5\">\n",
              "    <div class=\"colab-df-container\">\n",
              "      <div>\n",
              "<style scoped>\n",
              "    .dataframe tbody tr th:only-of-type {\n",
              "        vertical-align: middle;\n",
              "    }\n",
              "\n",
              "    .dataframe tbody tr th {\n",
              "        vertical-align: top;\n",
              "    }\n",
              "\n",
              "    .dataframe thead th {\n",
              "        text-align: right;\n",
              "    }\n",
              "</style>\n",
              "<table border=\"1\" class=\"dataframe\">\n",
              "  <thead>\n",
              "    <tr style=\"text-align: right;\">\n",
              "      <th></th>\n",
              "      <th></th>\n",
              "      <th>minimum_nights</th>\n",
              "      <th>availability_365</th>\n",
              "      <th>price</th>\n",
              "      <th>number_of_reviews</th>\n",
              "    </tr>\n",
              "    <tr>\n",
              "      <th>host_id</th>\n",
              "      <th>host_name</th>\n",
              "      <th></th>\n",
              "      <th></th>\n",
              "      <th></th>\n",
              "      <th></th>\n",
              "    </tr>\n",
              "  </thead>\n",
              "  <tbody>\n",
              "    <tr>\n",
              "      <th>7503643</th>\n",
              "      <th>Vida</th>\n",
              "      <td>1470</td>\n",
              "      <td>308.942066</td>\n",
              "      <td>149.408163</td>\n",
              "      <td>4.938776</td>\n",
              "    </tr>\n",
              "    <tr>\n",
              "      <th>151084261</th>\n",
              "      <th>Angie</th>\n",
              "      <td>1149</td>\n",
              "      <td>295.666667</td>\n",
              "      <td>83.666667</td>\n",
              "      <td>14.000000</td>\n",
              "    </tr>\n",
              "    <tr>\n",
              "      <th>4185135</th>\n",
              "      <th>David</th>\n",
              "      <td>565</td>\n",
              "      <td>130.290312</td>\n",
              "      <td>212.000000</td>\n",
              "      <td>16.500000</td>\n",
              "    </tr>\n",
              "    <tr>\n",
              "      <th>16437254</th>\n",
              "      <th>Benjamin</th>\n",
              "      <td>540</td>\n",
              "      <td>308.611111</td>\n",
              "      <td>149.555556</td>\n",
              "      <td>4.888889</td>\n",
              "    </tr>\n",
              "    <tr>\n",
              "      <th>8996336</th>\n",
              "      <th>Laura</th>\n",
              "      <td>500</td>\n",
              "      <td>365.000000</td>\n",
              "      <td>50.000000</td>\n",
              "      <td>10.000000</td>\n",
              "    </tr>\n",
              "    <tr>\n",
              "      <th>26377263</th>\n",
              "      <th>Stat</th>\n",
              "      <td>452</td>\n",
              "      <td>256.687500</td>\n",
              "      <td>48.000000</td>\n",
              "      <td>2.062500</td>\n",
              "    </tr>\n",
              "    <tr>\n",
              "      <th>10992588</th>\n",
              "      <th>Joni</th>\n",
              "      <td>400</td>\n",
              "      <td>53.000000</td>\n",
              "      <td>121.000000</td>\n",
              "      <td>292.500000</td>\n",
              "    </tr>\n",
              "    <tr>\n",
              "      <th>4267075</th>\n",
              "      <th>Jen</th>\n",
              "      <td>379</td>\n",
              "      <td>256.790312</td>\n",
              "      <td>89.000000</td>\n",
              "      <td>2.500000</td>\n",
              "    </tr>\n",
              "    <tr>\n",
              "      <th>2798644</th>\n",
              "      <th>Alessandra</th>\n",
              "      <td>370</td>\n",
              "      <td>365.000000</td>\n",
              "      <td>115.000000</td>\n",
              "      <td>6.000000</td>\n",
              "    </tr>\n",
              "    <tr>\n",
              "      <th>31760835</th>\n",
              "      <th>Fon</th>\n",
              "      <td>368</td>\n",
              "      <td>120.000000</td>\n",
              "      <td>70.000000</td>\n",
              "      <td>6.500000</td>\n",
              "    </tr>\n",
              "  </tbody>\n",
              "</table>\n",
              "</div>\n",
              "      <button class=\"colab-df-convert\" onclick=\"convertToInteractive('df-b10cd570-fba8-49db-90d3-6095a60f40d5')\"\n",
              "              title=\"Convert this dataframe to an interactive table.\"\n",
              "              style=\"display:none;\">\n",
              "        \n",
              "  <svg xmlns=\"http://www.w3.org/2000/svg\" height=\"24px\"viewBox=\"0 0 24 24\"\n",
              "       width=\"24px\">\n",
              "    <path d=\"M0 0h24v24H0V0z\" fill=\"none\"/>\n",
              "    <path d=\"M18.56 5.44l.94 2.06.94-2.06 2.06-.94-2.06-.94-.94-2.06-.94 2.06-2.06.94zm-11 1L8.5 8.5l.94-2.06 2.06-.94-2.06-.94L8.5 2.5l-.94 2.06-2.06.94zm10 10l.94 2.06.94-2.06 2.06-.94-2.06-.94-.94-2.06-.94 2.06-2.06.94z\"/><path d=\"M17.41 7.96l-1.37-1.37c-.4-.4-.92-.59-1.43-.59-.52 0-1.04.2-1.43.59L10.3 9.45l-7.72 7.72c-.78.78-.78 2.05 0 2.83L4 21.41c.39.39.9.59 1.41.59.51 0 1.02-.2 1.41-.59l7.78-7.78 2.81-2.81c.8-.78.8-2.07 0-2.86zM5.41 20L4 18.59l7.72-7.72 1.47 1.35L5.41 20z\"/>\n",
              "  </svg>\n",
              "      </button>\n",
              "      \n",
              "  <style>\n",
              "    .colab-df-container {\n",
              "      display:flex;\n",
              "      flex-wrap:wrap;\n",
              "      gap: 12px;\n",
              "    }\n",
              "\n",
              "    .colab-df-convert {\n",
              "      background-color: #E8F0FE;\n",
              "      border: none;\n",
              "      border-radius: 50%;\n",
              "      cursor: pointer;\n",
              "      display: none;\n",
              "      fill: #1967D2;\n",
              "      height: 32px;\n",
              "      padding: 0 0 0 0;\n",
              "      width: 32px;\n",
              "    }\n",
              "\n",
              "    .colab-df-convert:hover {\n",
              "      background-color: #E2EBFA;\n",
              "      box-shadow: 0px 1px 2px rgba(60, 64, 67, 0.3), 0px 1px 3px 1px rgba(60, 64, 67, 0.15);\n",
              "      fill: #174EA6;\n",
              "    }\n",
              "\n",
              "    [theme=dark] .colab-df-convert {\n",
              "      background-color: #3B4455;\n",
              "      fill: #D2E3FC;\n",
              "    }\n",
              "\n",
              "    [theme=dark] .colab-df-convert:hover {\n",
              "      background-color: #434B5C;\n",
              "      box-shadow: 0px 1px 3px 1px rgba(0, 0, 0, 0.15);\n",
              "      filter: drop-shadow(0px 1px 2px rgba(0, 0, 0, 0.3));\n",
              "      fill: #FFFFFF;\n",
              "    }\n",
              "  </style>\n",
              "\n",
              "      <script>\n",
              "        const buttonEl =\n",
              "          document.querySelector('#df-b10cd570-fba8-49db-90d3-6095a60f40d5 button.colab-df-convert');\n",
              "        buttonEl.style.display =\n",
              "          google.colab.kernel.accessAllowed ? 'block' : 'none';\n",
              "\n",
              "        async function convertToInteractive(key) {\n",
              "          const element = document.querySelector('#df-b10cd570-fba8-49db-90d3-6095a60f40d5');\n",
              "          const dataTable =\n",
              "            await google.colab.kernel.invokeFunction('convertToInteractive',\n",
              "                                                     [key], {});\n",
              "          if (!dataTable) return;\n",
              "\n",
              "          const docLinkHtml = 'Like what you see? Visit the ' +\n",
              "            '<a target=\"_blank\" href=https://colab.research.google.com/notebooks/data_table.ipynb>data table notebook</a>'\n",
              "            + ' to learn more about interactive tables.';\n",
              "          element.innerHTML = '';\n",
              "          dataTable['output_type'] = 'display_data';\n",
              "          await google.colab.output.renderOutput(dataTable, element);\n",
              "          const docLink = document.createElement('div');\n",
              "          docLink.innerHTML = docLinkHtml;\n",
              "          element.appendChild(docLink);\n",
              "        }\n",
              "      </script>\n",
              "    </div>\n",
              "  </div>\n",
              "  "
            ],
            "text/plain": [
              "                      minimum_nights  ...  number_of_reviews\n",
              "host_id   host_name                   ...                   \n",
              "7503643   Vida                  1470  ...           4.938776\n",
              "151084261 Angie                 1149  ...          14.000000\n",
              "4185135   David                  565  ...          16.500000\n",
              "16437254  Benjamin               540  ...           4.888889\n",
              "8996336   Laura                  500  ...          10.000000\n",
              "26377263  Stat                   452  ...           2.062500\n",
              "10992588  Joni                   400  ...         292.500000\n",
              "4267075   Jen                    379  ...           2.500000\n",
              "2798644   Alessandra             370  ...           6.000000\n",
              "31760835  Fon                    368  ...           6.500000\n",
              "\n",
              "[10 rows x 4 columns]"
            ]
          },
          "metadata": {},
          "execution_count": 79
        }
      ]
    },
    {
      "cell_type": "code",
      "source": [
        "hostbrroklyn.sort_values('minimum_nights',ascending=False).head(5).plot.bar()\n",
        "plt.title('<-------most active hosts in Brooklyn------->')\n",
        "plt.ylabel('<-----------no. of days---------->')\n",
        "plt.xlabel('<----------most active host name --------->')\n",
        "plt.show()"
      ],
      "metadata": {
        "id": "5BGHQq37JU5N",
        "colab": {
          "base_uri": "https://localhost:8080/",
          "height": 397
        },
        "outputId": "69e87d6c-6929-4fed-af1e-7c373f68ca5b"
      },
      "execution_count": null,
      "outputs": [
        {
          "output_type": "display_data",
          "data": {
            "image/png": "[encoded data removed]",
            "text/plain": [
              "<Figure size 432x288 with 1 Axes>"
            ]
          },
          "metadata": {
            "needs_background": "light"
          }
        }
      ]
    },
    {
      "cell_type": "markdown",
      "source": [
        "**In Brooklyn these are the top 5 active host ,whose room's availability was higher during each year and the people have stayed for most no. of nights in their apartments**\n",
        "\n",
        "## In Manhattan :"
      ],
      "metadata": {
        "id": "7rtRt58EJjGw"
      }
    },
    {
      "cell_type": "code",
      "source": [
        "hostmanhattan=manhattan.groupby(['host_id','host_name']).agg({'minimum_nights':'sum','availability_365':'mean','price':'mean','number_of_reviews':'mean'})\n"
      ],
      "metadata": {
        "id": "EZOKHsvyJbPD"
      },
      "execution_count": null,
      "outputs": []
    },
    {
      "cell_type": "code",
      "source": [
        "hostmanhattan.sort_values('minimum_nights',ascending=False).head(10)"
      ],
      "metadata": {
        "id": "7jbn4vCoJwM0",
        "colab": {
          "base_uri": "https://localhost:8080/",
          "height": 394
        },
        "outputId": "f362521b-64cd-490a-baea-15b69e4d1b5f"
      },
      "execution_count": null,
      "outputs": [
        {
          "output_type": "execute_result",
          "data": {
            "text/html": [
              "\n",
              "  <div id=\"df-03ed1b53-8cff-4ffb-a94a-700754ce3260\">\n",
              "    <div class=\"colab-df-container\">\n",
              "      <div>\n",
              "<style scoped>\n",
              "    .dataframe tbody tr th:only-of-type {\n",
              "        vertical-align: middle;\n",
              "    }\n",
              "\n",
              "    .dataframe tbody tr th {\n",
              "        vertical-align: top;\n",
              "    }\n",
              "\n",
              "    .dataframe thead th {\n",
              "        text-align: right;\n",
              "    }\n",
              "</style>\n",
              "<table border=\"1\" class=\"dataframe\">\n",
              "  <thead>\n",
              "    <tr style=\"text-align: right;\">\n",
              "      <th></th>\n",
              "      <th></th>\n",
              "      <th>minimum_nights</th>\n",
              "      <th>availability_365</th>\n",
              "      <th>price</th>\n",
              "      <th>number_of_reviews</th>\n",
              "    </tr>\n",
              "    <tr>\n",
              "      <th>host_id</th>\n",
              "      <th>host_name</th>\n",
              "      <th></th>\n",
              "      <th></th>\n",
              "      <th></th>\n",
              "      <th></th>\n",
              "    </tr>\n",
              "  </thead>\n",
              "  <tbody>\n",
              "    <tr>\n",
              "      <th>61391963</th>\n",
              "      <th>Corporate Housing</th>\n",
              "      <td>2370</td>\n",
              "      <td>250.042057</td>\n",
              "      <td>144.620253</td>\n",
              "      <td>5.278481</td>\n",
              "    </tr>\n",
              "    <tr>\n",
              "      <th>7245581</th>\n",
              "      <th>Michael</th>\n",
              "      <td>2328</td>\n",
              "      <td>260.263158</td>\n",
              "      <td>88.789474</td>\n",
              "      <td>14.842105</td>\n",
              "    </tr>\n",
              "    <tr>\n",
              "      <th>16098958</th>\n",
              "      <th>Jeremy &amp; Laura</th>\n",
              "      <td>1740</td>\n",
              "      <td>302.820356</td>\n",
              "      <td>188.448276</td>\n",
              "      <td>2.327586</td>\n",
              "    </tr>\n",
              "    <tr>\n",
              "      <th>1475015</th>\n",
              "      <th>Mike</th>\n",
              "      <td>1260</td>\n",
              "      <td>335.000000</td>\n",
              "      <td>102.785714</td>\n",
              "      <td>3.857143</td>\n",
              "    </tr>\n",
              "    <tr>\n",
              "      <th>17550546</th>\n",
              "      <th>Genevieve</th>\n",
              "      <td>1250</td>\n",
              "      <td>365.000000</td>\n",
              "      <td>180.000000</td>\n",
              "      <td>2.000000</td>\n",
              "    </tr>\n",
              "    <tr>\n",
              "      <th>2119276</th>\n",
              "      <th>Host</th>\n",
              "      <td>1170</td>\n",
              "      <td>279.150828</td>\n",
              "      <td>185.675676</td>\n",
              "      <td>8.675676</td>\n",
              "    </tr>\n",
              "    <tr>\n",
              "      <th>120762452</th>\n",
              "      <th>Stanley</th>\n",
              "      <td>1170</td>\n",
              "      <td>332.128205</td>\n",
              "      <td>165.205128</td>\n",
              "      <td>2.128205</td>\n",
              "    </tr>\n",
              "    <tr>\n",
              "      <th>30283594</th>\n",
              "      <th>Kara</th>\n",
              "      <td>1050</td>\n",
              "      <td>321.971429</td>\n",
              "      <td>210.685714</td>\n",
              "      <td>1.514286</td>\n",
              "    </tr>\n",
              "    <tr>\n",
              "      <th>2697686</th>\n",
              "      <th>Glenn H.</th>\n",
              "      <td>999</td>\n",
              "      <td>42.000000</td>\n",
              "      <td>99.000000</td>\n",
              "      <td>2.000000</td>\n",
              "    </tr>\n",
              "    <tr>\n",
              "      <th>25237492</th>\n",
              "      <th>Juliana</th>\n",
              "      <td>990</td>\n",
              "      <td>289.090909</td>\n",
              "      <td>141.212121</td>\n",
              "      <td>9.757576</td>\n",
              "    </tr>\n",
              "  </tbody>\n",
              "</table>\n",
              "</div>\n",
              "      <button class=\"colab-df-convert\" onclick=\"convertToInteractive('df-03ed1b53-8cff-4ffb-a94a-700754ce3260')\"\n",
              "              title=\"Convert this dataframe to an interactive table.\"\n",
              "              style=\"display:none;\">\n",
              "        \n",
              "  <svg xmlns=\"http://www.w3.org/2000/svg\" height=\"24px\"viewBox=\"0 0 24 24\"\n",
              "       width=\"24px\">\n",
              "    <path d=\"M0 0h24v24H0V0z\" fill=\"none\"/>\n",
              "    <path d=\"M18.56 5.44l.94 2.06.94-2.06 2.06-.94-2.06-.94-.94-2.06-.94 2.06-2.06.94zm-11 1L8.5 8.5l.94-2.06 2.06-.94-2.06-.94L8.5 2.5l-.94 2.06-2.06.94zm10 10l.94 2.06.94-2.06 2.06-.94-2.06-.94-.94-2.06-.94 2.06-2.06.94z\"/><path d=\"M17.41 7.96l-1.37-1.37c-.4-.4-.92-.59-1.43-.59-.52 0-1.04.2-1.43.59L10.3 9.45l-7.72 7.72c-.78.78-.78 2.05 0 2.83L4 21.41c.39.39.9.59 1.41.59.51 0 1.02-.2 1.41-.59l7.78-7.78 2.81-2.81c.8-.78.8-2.07 0-2.86zM5.41 20L4 18.59l7.72-7.72 1.47 1.35L5.41 20z\"/>\n",
              "  </svg>\n",
              "      </button>\n",
              "      \n",
              "  <style>\n",
              "    .colab-df-container {\n",
              "      display:flex;\n",
              "      flex-wrap:wrap;\n",
              "      gap: 12px;\n",
              "    }\n",
              "\n",
              "    .colab-df-convert {\n",
              "      background-color: #E8F0FE;\n",
              "      border: none;\n",
              "      border-radius: 50%;\n",
              "      cursor: pointer;\n",
              "      display: none;\n",
              "      fill: #1967D2;\n",
              "      height: 32px;\n",
              "      padding: 0 0 0 0;\n",
              "      width: 32px;\n",
              "    }\n",
              "\n",
              "    .colab-df-convert:hover {\n",
              "      background-color: #E2EBFA;\n",
              "      box-shadow: 0px 1px 2px rgba(60, 64, 67, 0.3), 0px 1px 3px 1px rgba(60, 64, 67, 0.15);\n",
              "      fill: #174EA6;\n",
              "    }\n",
              "\n",
              "    [theme=dark] .colab-df-convert {\n",
              "      background-color: #3B4455;\n",
              "      fill: #D2E3FC;\n",
              "    }\n",
              "\n",
              "    [theme=dark] .colab-df-convert:hover {\n",
              "      background-color: #434B5C;\n",
              "      box-shadow: 0px 1px 3px 1px rgba(0, 0, 0, 0.15);\n",
              "      filter: drop-shadow(0px 1px 2px rgba(0, 0, 0, 0.3));\n",
              "      fill: #FFFFFF;\n",
              "    }\n",
              "  </style>\n",
              "\n",
              "      <script>\n",
              "        const buttonEl =\n",
              "          document.querySelector('#df-03ed1b53-8cff-4ffb-a94a-700754ce3260 button.colab-df-convert');\n",
              "        buttonEl.style.display =\n",
              "          google.colab.kernel.accessAllowed ? 'block' : 'none';\n",
              "\n",
              "        async function convertToInteractive(key) {\n",
              "          const element = document.querySelector('#df-03ed1b53-8cff-4ffb-a94a-700754ce3260');\n",
              "          const dataTable =\n",
              "            await google.colab.kernel.invokeFunction('convertToInteractive',\n",
              "                                                     [key], {});\n",
              "          if (!dataTable) return;\n",
              "\n",
              "          const docLinkHtml = 'Like what you see? Visit the ' +\n",
              "            '<a target=\"_blank\" href=https://colab.research.google.com/notebooks/data_table.ipynb>data table notebook</a>'\n",
              "            + ' to learn more about interactive tables.';\n",
              "          element.innerHTML = '';\n",
              "          dataTable['output_type'] = 'display_data';\n",
              "          await google.colab.output.renderOutput(dataTable, element);\n",
              "          const docLink = document.createElement('div');\n",
              "          docLink.innerHTML = docLinkHtml;\n",
              "          element.appendChild(docLink);\n",
              "        }\n",
              "      </script>\n",
              "    </div>\n",
              "  </div>\n",
              "  "
            ],
            "text/plain": [
              "                             minimum_nights  ...  number_of_reviews\n",
              "host_id   host_name                          ...                   \n",
              "61391963  Corporate Housing            2370  ...           5.278481\n",
              "7245581   Michael                      2328  ...          14.842105\n",
              "16098958  Jeremy & Laura               1740  ...           2.327586\n",
              "1475015   Mike                         1260  ...           3.857143\n",
              "17550546  Genevieve                    1250  ...           2.000000\n",
              "2119276   Host                         1170  ...           8.675676\n",
              "120762452 Stanley                      1170  ...           2.128205\n",
              "30283594  Kara                         1050  ...           1.514286\n",
              "2697686   Glenn H.                      999  ...           2.000000\n",
              "25237492  Juliana                       990  ...           9.757576\n",
              "\n",
              "[10 rows x 4 columns]"
            ]
          },
          "metadata": {},
          "execution_count": 82
        }
      ]
    },
    {
      "cell_type": "code",
      "source": [
        "hostmanhattan.sort_values('minimum_nights',ascending=False).head(5).plot.bar()\n",
        "plt.title('<-------most active hosts in Manhattan------->')\n",
        "plt.ylabel('<-----------no. of days---------->')\n",
        "plt.xlabel('<----------most active host name --------->')\n",
        "plt.show()"
      ],
      "metadata": {
        "id": "GUqNx4eLJwKw",
        "colab": {
          "base_uri": "https://localhost:8080/",
          "height": 443
        },
        "outputId": "a5b5c801-c663-453b-c0d0-3300ce0d7b17"
      },
      "execution_count": null,
      "outputs": [
        {
          "output_type": "display_data",
          "data": {
            "image/png": "[encoded data removed]",
            "text/plain": [
              "<Figure size 432x288 with 1 Axes>"
            ]
          },
          "metadata": {
            "needs_background": "light"
          }
        }
      ]
    },
    {
      "cell_type": "markdown",
      "source": [
        "**In above graph of most active host in Manhattan,the night spent by people are higher and the reason behind this could be the availability of their apartments are higher as compare to other host and the negative correlation between price and minimum_night spend.**\n",
        "\n",
        "## For Queens :"
      ],
      "metadata": {
        "id": "0Rc4wmMeJ5y1"
      }
    },
    {
      "cell_type": "code",
      "source": [
        "hostqueens=queens.groupby(['host_id','host_name']).agg({'minimum_nights':'sum','availability_365':'mean','price':'mean','number_of_reviews':'mean'})"
      ],
      "metadata": {
        "id": "5fFMSnUsJ8kL"
      },
      "execution_count": null,
      "outputs": []
    },
    {
      "cell_type": "code",
      "source": [
        "hostqueens.sort_values('minimum_nights',ascending=False).head(10)\n"
      ],
      "metadata": {
        "id": "wBhkvX6SKDnt",
        "colab": {
          "base_uri": "https://localhost:8080/",
          "height": 394
        },
        "outputId": "4a5e8444-e7b9-4827-a3ad-b5851938aa13"
      },
      "execution_count": null,
      "outputs": [
        {
          "output_type": "execute_result",
          "data": {
            "text/html": [
              "\n",
              "  <div id=\"df-ab5a63fe-c7cc-45fb-bf29-e4e033db6247\">\n",
              "    <div class=\"colab-df-container\">\n",
              "      <div>\n",
              "<style scoped>\n",
              "    .dataframe tbody tr th:only-of-type {\n",
              "        vertical-align: middle;\n",
              "    }\n",
              "\n",
              "    .dataframe tbody tr th {\n",
              "        vertical-align: top;\n",
              "    }\n",
              "\n",
              "    .dataframe thead th {\n",
              "        text-align: right;\n",
              "    }\n",
              "</style>\n",
              "<table border=\"1\" class=\"dataframe\">\n",
              "  <thead>\n",
              "    <tr style=\"text-align: right;\">\n",
              "      <th></th>\n",
              "      <th></th>\n",
              "      <th>minimum_nights</th>\n",
              "      <th>availability_365</th>\n",
              "      <th>price</th>\n",
              "      <th>number_of_reviews</th>\n",
              "    </tr>\n",
              "    <tr>\n",
              "      <th>host_id</th>\n",
              "      <th>host_name</th>\n",
              "      <th></th>\n",
              "      <th></th>\n",
              "      <th></th>\n",
              "      <th></th>\n",
              "    </tr>\n",
              "  </thead>\n",
              "  <tbody>\n",
              "    <tr>\n",
              "      <th>137358866</th>\n",
              "      <th>Kazuya</th>\n",
              "      <td>1080</td>\n",
              "      <td>225.786736</td>\n",
              "      <td>42.888889</td>\n",
              "      <td>1.500000</td>\n",
              "    </tr>\n",
              "    <tr>\n",
              "      <th>3680008</th>\n",
              "      <th>Aliya</th>\n",
              "      <td>500</td>\n",
              "      <td>90.000000</td>\n",
              "      <td>134.000000</td>\n",
              "      <td>30.000000</td>\n",
              "    </tr>\n",
              "    <tr>\n",
              "      <th>3250450</th>\n",
              "      <th>Petya</th>\n",
              "      <td>403</td>\n",
              "      <td>327.500000</td>\n",
              "      <td>38.571429</td>\n",
              "      <td>5.714286</td>\n",
              "    </tr>\n",
              "    <tr>\n",
              "      <th>19303369</th>\n",
              "      <th>Hiroki</th>\n",
              "      <td>334</td>\n",
              "      <td>30.870966</td>\n",
              "      <td>40.636364</td>\n",
              "      <td>1.818182</td>\n",
              "    </tr>\n",
              "    <tr>\n",
              "      <th>5962328</th>\n",
              "      <th>Alan</th>\n",
              "      <td>330</td>\n",
              "      <td>230.090909</td>\n",
              "      <td>110.727273</td>\n",
              "      <td>3.454545</td>\n",
              "    </tr>\n",
              "    <tr>\n",
              "      <th>242962235</th>\n",
              "      <th>Yuval</th>\n",
              "      <td>270</td>\n",
              "      <td>246.444444</td>\n",
              "      <td>40.000000</td>\n",
              "      <td>1.555556</td>\n",
              "    </tr>\n",
              "    <tr>\n",
              "      <th>200239515</th>\n",
              "      <th>Shogo</th>\n",
              "      <td>268</td>\n",
              "      <td>86.369166</td>\n",
              "      <td>36.222222</td>\n",
              "      <td>1.888889</td>\n",
              "    </tr>\n",
              "    <tr>\n",
              "      <th>864735</th>\n",
              "      <th>Jason</th>\n",
              "      <td>240</td>\n",
              "      <td>264.000000</td>\n",
              "      <td>100.000000</td>\n",
              "      <td>17.000000</td>\n",
              "    </tr>\n",
              "    <tr>\n",
              "      <th>2148881</th>\n",
              "      <th>Grace</th>\n",
              "      <td>180</td>\n",
              "      <td>170.580624</td>\n",
              "      <td>50.000000</td>\n",
              "      <td>69.000000</td>\n",
              "    </tr>\n",
              "    <tr>\n",
              "      <th>205530337</th>\n",
              "      <th>Nina</th>\n",
              "      <td>180</td>\n",
              "      <td>287.333333</td>\n",
              "      <td>45.000000</td>\n",
              "      <td>1.500000</td>\n",
              "    </tr>\n",
              "  </tbody>\n",
              "</table>\n",
              "</div>\n",
              "      <button class=\"colab-df-convert\" onclick=\"convertToInteractive('df-ab5a63fe-c7cc-45fb-bf29-e4e033db6247')\"\n",
              "              title=\"Convert this dataframe to an interactive table.\"\n",
              "              style=\"display:none;\">\n",
              "        \n",
              "  <svg xmlns=\"http://www.w3.org/2000/svg\" height=\"24px\"viewBox=\"0 0 24 24\"\n",
              "       width=\"24px\">\n",
              "    <path d=\"M0 0h24v24H0V0z\" fill=\"none\"/>\n",
              "    <path d=\"M18.56 5.44l.94 2.06.94-2.06 2.06-.94-2.06-.94-.94-2.06-.94 2.06-2.06.94zm-11 1L8.5 8.5l.94-2.06 2.06-.94-2.06-.94L8.5 2.5l-.94 2.06-2.06.94zm10 10l.94 2.06.94-2.06 2.06-.94-2.06-.94-.94-2.06-.94 2.06-2.06.94z\"/><path d=\"M17.41 7.96l-1.37-1.37c-.4-.4-.92-.59-1.43-.59-.52 0-1.04.2-1.43.59L10.3 9.45l-7.72 7.72c-.78.78-.78 2.05 0 2.83L4 21.41c.39.39.9.59 1.41.59.51 0 1.02-.2 1.41-.59l7.78-7.78 2.81-2.81c.8-.78.8-2.07 0-2.86zM5.41 20L4 18.59l7.72-7.72 1.47 1.35L5.41 20z\"/>\n",
              "  </svg>\n",
              "      </button>\n",
              "      \n",
              "  <style>\n",
              "    .colab-df-container {\n",
              "      display:flex;\n",
              "      flex-wrap:wrap;\n",
              "      gap: 12px;\n",
              "    }\n",
              "\n",
              "    .colab-df-convert {\n",
              "      background-color: #E8F0FE;\n",
              "      border: none;\n",
              "      border-radius: 50%;\n",
              "      cursor: pointer;\n",
              "      display: none;\n",
              "      fill: #1967D2;\n",
              "      height: 32px;\n",
              "      padding: 0 0 0 0;\n",
              "      width: 32px;\n",
              "    }\n",
              "\n",
              "    .colab-df-convert:hover {\n",
              "      background-color: #E2EBFA;\n",
              "      box-shadow: 0px 1px 2px rgba(60, 64, 67, 0.3), 0px 1px 3px 1px rgba(60, 64, 67, 0.15);\n",
              "      fill: #174EA6;\n",
              "    }\n",
              "\n",
              "    [theme=dark] .colab-df-convert {\n",
              "      background-color: #3B4455;\n",
              "      fill: #D2E3FC;\n",
              "    }\n",
              "\n",
              "    [theme=dark] .colab-df-convert:hover {\n",
              "      background-color: #434B5C;\n",
              "      box-shadow: 0px 1px 3px 1px rgba(0, 0, 0, 0.15);\n",
              "      filter: drop-shadow(0px 1px 2px rgba(0, 0, 0, 0.3));\n",
              "      fill: #FFFFFF;\n",
              "    }\n",
              "  </style>\n",
              "\n",
              "      <script>\n",
              "        const buttonEl =\n",
              "          document.querySelector('#df-ab5a63fe-c7cc-45fb-bf29-e4e033db6247 button.colab-df-convert');\n",
              "        buttonEl.style.display =\n",
              "          google.colab.kernel.accessAllowed ? 'block' : 'none';\n",
              "\n",
              "        async function convertToInteractive(key) {\n",
              "          const element = document.querySelector('#df-ab5a63fe-c7cc-45fb-bf29-e4e033db6247');\n",
              "          const dataTable =\n",
              "            await google.colab.kernel.invokeFunction('convertToInteractive',\n",
              "                                                     [key], {});\n",
              "          if (!dataTable) return;\n",
              "\n",
              "          const docLinkHtml = 'Like what you see? Visit the ' +\n",
              "            '<a target=\"_blank\" href=https://colab.research.google.com/notebooks/data_table.ipynb>data table notebook</a>'\n",
              "            + ' to learn more about interactive tables.';\n",
              "          element.innerHTML = '';\n",
              "          dataTable['output_type'] = 'display_data';\n",
              "          await google.colab.output.renderOutput(dataTable, element);\n",
              "          const docLink = document.createElement('div');\n",
              "          docLink.innerHTML = docLinkHtml;\n",
              "          element.appendChild(docLink);\n",
              "        }\n",
              "      </script>\n",
              "    </div>\n",
              "  </div>\n",
              "  "
            ],
            "text/plain": [
              "                     minimum_nights  ...  number_of_reviews\n",
              "host_id   host_name                  ...                   \n",
              "137358866 Kazuya               1080  ...           1.500000\n",
              "3680008   Aliya                 500  ...          30.000000\n",
              "3250450   Petya                 403  ...           5.714286\n",
              "19303369  Hiroki                334  ...           1.818182\n",
              "5962328   Alan                  330  ...           3.454545\n",
              "242962235 Yuval                 270  ...           1.555556\n",
              "200239515 Shogo                 268  ...           1.888889\n",
              "864735    Jason                 240  ...          17.000000\n",
              "2148881   Grace                 180  ...          69.000000\n",
              "205530337 Nina                  180  ...           1.500000\n",
              "\n",
              "[10 rows x 4 columns]"
            ]
          },
          "metadata": {},
          "execution_count": 85
        }
      ]
    },
    {
      "cell_type": "code",
      "source": [
        "hostqueens.sort_values('minimum_nights',ascending=False).head(5).plot.bar()\n",
        "plt.title('<-------most active hosts in Queens------->')\n",
        "plt.ylabel('<-----------no. of days---------->')\n",
        "plt.xlabel('<----------most active host name --------->')\n",
        "plt.show()\n"
      ],
      "metadata": {
        "id": "8H8zlcFuKG1j",
        "colab": {
          "base_uri": "https://localhost:8080/",
          "height": 392
        },
        "outputId": "9a1cc675-dd0d-46f7-8c3d-667a7245d7a4"
      },
      "execution_count": null,
      "outputs": [
        {
          "output_type": "display_data",
          "data": {
            "image/png": "[encoded data removed]",
            "text/plain": [
              "<Figure size 432x288 with 1 Axes>"
            ]
          },
          "metadata": {
            "needs_background": "light"
          }
        }
      ]
    },
    {
      "cell_type": "markdown",
      "source": [
        "**In Queens these are the most active hosts,but if we compare all these 5 host,Kazuya has been most active host in this neighbourhood,there is huge difference between Kazuya and other 4 hosts.**\n",
        "\n",
        "## For Staten Island :"
      ],
      "metadata": {
        "id": "fZaasqF3KJ0M"
      }
    },
    {
      "cell_type": "code",
      "source": [
        "hoststaten=statenisland.groupby(['host_id','host_name']).agg({'minimum_nights':'sum','availability_365':'mean','price':'mean','number_of_reviews':'mean'})\n"
      ],
      "metadata": {
        "id": "0PsekHlGKMYr"
      },
      "execution_count": null,
      "outputs": []
    },
    {
      "cell_type": "code",
      "source": [
        "hoststaten.sort_values('minimum_nights',ascending=False).head(10)"
      ],
      "metadata": {
        "id": "quI8g8kXKPtT",
        "colab": {
          "base_uri": "https://localhost:8080/",
          "height": 394
        },
        "outputId": "80abc1c5-e767-4197-e387-fb53d62d003d"
      },
      "execution_count": null,
      "outputs": [
        {
          "output_type": "execute_result",
          "data": {
            "text/html": [
              "\n",
              "  <div id=\"df-c5c637e6-8009-4ca3-a993-ae2d2613fccd\">\n",
              "    <div class=\"colab-df-container\">\n",
              "      <div>\n",
              "<style scoped>\n",
              "    .dataframe tbody tr th:only-of-type {\n",
              "        vertical-align: middle;\n",
              "    }\n",
              "\n",
              "    .dataframe tbody tr th {\n",
              "        vertical-align: top;\n",
              "    }\n",
              "\n",
              "    .dataframe thead th {\n",
              "        text-align: right;\n",
              "    }\n",
              "</style>\n",
              "<table border=\"1\" class=\"dataframe\">\n",
              "  <thead>\n",
              "    <tr style=\"text-align: right;\">\n",
              "      <th></th>\n",
              "      <th></th>\n",
              "      <th>minimum_nights</th>\n",
              "      <th>availability_365</th>\n",
              "      <th>price</th>\n",
              "      <th>number_of_reviews</th>\n",
              "    </tr>\n",
              "    <tr>\n",
              "      <th>host_id</th>\n",
              "      <th>host_name</th>\n",
              "      <th></th>\n",
              "      <th></th>\n",
              "      <th></th>\n",
              "      <th></th>\n",
              "    </tr>\n",
              "  </thead>\n",
              "  <tbody>\n",
              "    <tr>\n",
              "      <th>32060911</th>\n",
              "      <th>Elvis</th>\n",
              "      <td>63</td>\n",
              "      <td>345.500000</td>\n",
              "      <td>40.000000</td>\n",
              "      <td>3.500000</td>\n",
              "    </tr>\n",
              "    <tr>\n",
              "      <th>3625735</th>\n",
              "      <th>Marianne</th>\n",
              "      <td>60</td>\n",
              "      <td>358.000000</td>\n",
              "      <td>75.000000</td>\n",
              "      <td>47.500000</td>\n",
              "    </tr>\n",
              "    <tr>\n",
              "      <th>128338539</th>\n",
              "      <th>Reuben</th>\n",
              "      <td>33</td>\n",
              "      <td>104.500000</td>\n",
              "      <td>55.500000</td>\n",
              "      <td>24.500000</td>\n",
              "    </tr>\n",
              "    <tr>\n",
              "      <th>9263105</th>\n",
              "      <th>Wj</th>\n",
              "      <td>33</td>\n",
              "      <td>40.500000</td>\n",
              "      <td>47.500000</td>\n",
              "      <td>1.000000</td>\n",
              "    </tr>\n",
              "    <tr>\n",
              "      <th>104812805</th>\n",
              "      <th>Amarjit S</th>\n",
              "      <td>32</td>\n",
              "      <td>318.375000</td>\n",
              "      <td>33.375000</td>\n",
              "      <td>21.000000</td>\n",
              "    </tr>\n",
              "    <tr>\n",
              "      <th>137114793</th>\n",
              "      <th>Nick</th>\n",
              "      <td>30</td>\n",
              "      <td>205.000000</td>\n",
              "      <td>91.000000</td>\n",
              "      <td>61.000000</td>\n",
              "    </tr>\n",
              "    <tr>\n",
              "      <th>139756559</th>\n",
              "      <th>Maria</th>\n",
              "      <td>30</td>\n",
              "      <td>129.000000</td>\n",
              "      <td>75.000000</td>\n",
              "      <td>3.000000</td>\n",
              "    </tr>\n",
              "    <tr>\n",
              "      <th>244217480</th>\n",
              "      <th>Vlad</th>\n",
              "      <td>30</td>\n",
              "      <td>316.000000</td>\n",
              "      <td>83.000000</td>\n",
              "      <td>3.000000</td>\n",
              "    </tr>\n",
              "    <tr>\n",
              "      <th>250580779</th>\n",
              "      <th>Viktoriya</th>\n",
              "      <td>30</td>\n",
              "      <td>170.580624</td>\n",
              "      <td>55.000000</td>\n",
              "      <td>2.000000</td>\n",
              "    </tr>\n",
              "    <tr>\n",
              "      <th>137999892</th>\n",
              "      <th>Simranjeet</th>\n",
              "      <td>25</td>\n",
              "      <td>288.571429</td>\n",
              "      <td>33.142857</td>\n",
              "      <td>19.428571</td>\n",
              "    </tr>\n",
              "  </tbody>\n",
              "</table>\n",
              "</div>\n",
              "      <button class=\"colab-df-convert\" onclick=\"convertToInteractive('df-c5c637e6-8009-4ca3-a993-ae2d2613fccd')\"\n",
              "              title=\"Convert this dataframe to an interactive table.\"\n",
              "              style=\"display:none;\">\n",
              "        \n",
              "  <svg xmlns=\"http://www.w3.org/2000/svg\" height=\"24px\"viewBox=\"0 0 24 24\"\n",
              "       width=\"24px\">\n",
              "    <path d=\"M0 0h24v24H0V0z\" fill=\"none\"/>\n",
              "    <path d=\"M18.56 5.44l.94 2.06.94-2.06 2.06-.94-2.06-.94-.94-2.06-.94 2.06-2.06.94zm-11 1L8.5 8.5l.94-2.06 2.06-.94-2.06-.94L8.5 2.5l-.94 2.06-2.06.94zm10 10l.94 2.06.94-2.06 2.06-.94-2.06-.94-.94-2.06-.94 2.06-2.06.94z\"/><path d=\"M17.41 7.96l-1.37-1.37c-.4-.4-.92-.59-1.43-.59-.52 0-1.04.2-1.43.59L10.3 9.45l-7.72 7.72c-.78.78-.78 2.05 0 2.83L4 21.41c.39.39.9.59 1.41.59.51 0 1.02-.2 1.41-.59l7.78-7.78 2.81-2.81c.8-.78.8-2.07 0-2.86zM5.41 20L4 18.59l7.72-7.72 1.47 1.35L5.41 20z\"/>\n",
              "  </svg>\n",
              "      </button>\n",
              "      \n",
              "  <style>\n",
              "    .colab-df-container {\n",
              "      display:flex;\n",
              "      flex-wrap:wrap;\n",
              "      gap: 12px;\n",
              "    }\n",
              "\n",
              "    .colab-df-convert {\n",
              "      background-color: #E8F0FE;\n",
              "      border: none;\n",
              "      border-radius: 50%;\n",
              "      cursor: pointer;\n",
              "      display: none;\n",
              "      fill: #1967D2;\n",
              "      height: 32px;\n",
              "      padding: 0 0 0 0;\n",
              "      width: 32px;\n",
              "    }\n",
              "\n",
              "    .colab-df-convert:hover {\n",
              "      background-color: #E2EBFA;\n",
              "      box-shadow: 0px 1px 2px rgba(60, 64, 67, 0.3), 0px 1px 3px 1px rgba(60, 64, 67, 0.15);\n",
              "      fill: #174EA6;\n",
              "    }\n",
              "\n",
              "    [theme=dark] .colab-df-convert {\n",
              "      background-color: #3B4455;\n",
              "      fill: #D2E3FC;\n",
              "    }\n",
              "\n",
              "    [theme=dark] .colab-df-convert:hover {\n",
              "      background-color: #434B5C;\n",
              "      box-shadow: 0px 1px 3px 1px rgba(0, 0, 0, 0.15);\n",
              "      filter: drop-shadow(0px 1px 2px rgba(0, 0, 0, 0.3));\n",
              "      fill: #FFFFFF;\n",
              "    }\n",
              "  </style>\n",
              "\n",
              "      <script>\n",
              "        const buttonEl =\n",
              "          document.querySelector('#df-c5c637e6-8009-4ca3-a993-ae2d2613fccd button.colab-df-convert');\n",
              "        buttonEl.style.display =\n",
              "          google.colab.kernel.accessAllowed ? 'block' : 'none';\n",
              "\n",
              "        async function convertToInteractive(key) {\n",
              "          const element = document.querySelector('#df-c5c637e6-8009-4ca3-a993-ae2d2613fccd');\n",
              "          const dataTable =\n",
              "            await google.colab.kernel.invokeFunction('convertToInteractive',\n",
              "                                                     [key], {});\n",
              "          if (!dataTable) return;\n",
              "\n",
              "          const docLinkHtml = 'Like what you see? Visit the ' +\n",
              "            '<a target=\"_blank\" href=https://colab.research.google.com/notebooks/data_table.ipynb>data table notebook</a>'\n",
              "            + ' to learn more about interactive tables.';\n",
              "          element.innerHTML = '';\n",
              "          dataTable['output_type'] = 'display_data';\n",
              "          await google.colab.output.renderOutput(dataTable, element);\n",
              "          const docLink = document.createElement('div');\n",
              "          docLink.innerHTML = docLinkHtml;\n",
              "          element.appendChild(docLink);\n",
              "        }\n",
              "      </script>\n",
              "    </div>\n",
              "  </div>\n",
              "  "
            ],
            "text/plain": [
              "                      minimum_nights  ...  number_of_reviews\n",
              "host_id   host_name                   ...                   \n",
              "32060911  Elvis                   63  ...           3.500000\n",
              "3625735   Marianne                60  ...          47.500000\n",
              "128338539 Reuben                  33  ...          24.500000\n",
              "9263105   Wj                      33  ...           1.000000\n",
              "104812805 Amarjit S               32  ...          21.000000\n",
              "137114793 Nick                    30  ...          61.000000\n",
              "139756559 Maria                   30  ...           3.000000\n",
              "244217480 Vlad                    30  ...           3.000000\n",
              "250580779 Viktoriya               30  ...           2.000000\n",
              "137999892 Simranjeet              25  ...          19.428571\n",
              "\n",
              "[10 rows x 4 columns]"
            ]
          },
          "metadata": {},
          "execution_count": 88
        }
      ]
    },
    {
      "cell_type": "code",
      "source": [
        "hoststaten.sort_values('minimum_nights',ascending=False).head(5).plot.bar()\n",
        "plt.title('<-------most active hosts in Staten Island------->')\n",
        "plt.ylabel('<-----------no. of days---------->')\n",
        "plt.xlabel('<----------most active host name --------->')\n",
        "plt.show()"
      ],
      "metadata": {
        "id": "Es4Tdv8HKUp0",
        "colab": {
          "base_uri": "https://localhost:8080/",
          "height": 402
        },
        "outputId": "14e936c3-6782-4e6d-e6fb-8f6ebcd22554"
      },
      "execution_count": null,
      "outputs": [
        {
          "output_type": "display_data",
          "data": {
            "image/png": "[encoded data removed]",
            "text/plain": [
              "<Figure size 432x288 with 1 Axes>"
            ]
          },
          "metadata": {
            "needs_background": "light"
          }
        }
      ]
    },
    {
      "cell_type": "markdown",
      "source": [
        "**In Staten Island the night spent by people are low as compare to other neighbourhood_groups.because the no. of apartment are less here**"
      ],
      "metadata": {
        "id": "i5JbC_6BowZu"
      }
    },
    {
      "cell_type": "markdown",
      "source": [
        "# The End........."
      ],
      "metadata": {
        "id": "Eo5_cqcTKacQ"
      }
    }
  ]
}